{
 "cells": [
  {
   "cell_type": "markdown",
   "id": "69e49fee-d071-47e9-b96f-2c53bf35a830",
   "metadata": {},
   "source": [
    "### Buttons\n",
    "- The follwoing button types are found in ttkinter:\n",
    "- Button\n",
    "- Checkbutton\n",
    "- Menubutton\n",
    "- Radiobutton"
   ]
  },
  {
   "cell_type": "markdown",
   "id": "902df166-24f0-47ed-abed-782084f98d6d",
   "metadata": {},
   "source": [
    "### Introduction to the Tkinter Button widget\n",
    "- Button widgets represent a clickable item in the applications. Typically, you use text or an image to display the action that will be performed when clicked.\n",
    "\n",
    "- Buttons can display text in a single font. However, the text can span multiple lines. On top of that, you can make one of the characters underline to mark a keyboard shortcut.\n",
    "\n",
    "- To invoke a function or a method of a class automatically when the button is clicked, you assign its command option to the function or method. This is called the command binding in Tkinter.\n",
    "\n",
    "To create a button, you use the ttk.Button constructor as follows:\n",
    "\n",
    "`button = ttk.Button(master, **option)`\n",
    "\n",
    "A button has many options. However, the typical ones are like this:\n",
    "\n",
    "`button = ttk.Button(master, text, command)`\n",
    "Code language: Python (python)\n",
    "In this syntax:\n",
    "\n",
    "- The master is the parent widget on which you place the button.\n",
    "- The text is the label of the button.\n",
    "- The command specifies a callback function that will be called automatically when the button is clicked."
   ]
  },
  {
   "cell_type": "code",
   "execution_count": null,
   "id": "b5df0a69-a946-40f6-a6ea-f567089c85a8",
   "metadata": {},
   "outputs": [],
   "source": []
  }
 ],
 "metadata": {
  "kernelspec": {
   "display_name": "Python 3 (ipykernel)",
   "language": "python",
   "name": "python3"
  },
  "language_info": {
   "codemirror_mode": {
    "name": "ipython",
    "version": 3
   },
   "file_extension": ".py",
   "mimetype": "text/x-python",
   "name": "python",
   "nbconvert_exporter": "python",
   "pygments_lexer": "ipython3",
   "version": "3.12.2"
  }
 },
 "nbformat": 4,
 "nbformat_minor": 5
}

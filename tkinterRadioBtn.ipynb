{
 "cells": [
  {
   "cell_type": "markdown",
   "id": "cf923ae9-91cd-4fb1-bc52-9d0877e64602",
   "metadata": {},
   "source": [
    "**Introduction to Tkinter radio buttons**\n",
    "\n",
    "Radio buttons allow you to select between one of a number of mutually exclusive choices.\n",
    "\n",
    "Typically, you use radio buttons together in a set. They’re a good option if you have a few choices that you want users to select.\n",
    "\n",
    "To create radio buttons, you use the Radiobutton widget. The following shows how to create radio buttons using the tk.Radiobutton constructor:\n",
    "\n",
    "```\n",
    "selected = tk.StringVar()\n",
    "r1 = ttk.Radiobutton(container, text='Option 1', value='Value 1', variable=selected)\n",
    "r2 = ttk.Radiobutton(container, text='Option 2', value='Value 2', variable=selected)\n",
    "r3 = ttk.Radiobutton(container, text='Option 3', value='value 3', variable=selected)\n",
    "```\n",
    "\n",
    "Each radio button has a different value. However, radio buttons in the same group share the same variable.\n",
    "\n",
    "The container is the parent widget which you place the radio buttons on.\n",
    "\n",
    "The text argument specifies the text that appears on the radio button.\n",
    "\n",
    "The value argument specifies the value that the radio button will hold.\n",
    "\n",
    "The variable must be a tk.StringVar().\n",
    "\n",
    "**Tkinter radio button example**\n",
    "\n",
    "The following program illustrates how to use radio buttons. It returns the selected size once you click the Get Selected Size button.\n"
   ]
  },
  {
   "cell_type": "code",
   "execution_count": null,
   "id": "7c3106f0-fa01-458e-9ba6-44979d46d192",
   "metadata": {},
   "outputs": [],
   "source": [
    "import tkinter as tk\n",
    "from tkinter import ttk\n",
    "from tkinter.messagebox import showinfo\n",
    "\n",
    "root = tk.Tk()\n",
    "root.geometry('300x200')\n",
    "root.resizable(False, False)\n",
    "root.title('Radio Button Demo')\n",
    "\n",
    "def show_elected_size():\n",
    "    showinfo(title='Result', message=selected_size.get()\n",
    "            )\n",
    "\n",
    "\n"
   ]
  }
 ],
 "metadata": {
  "kernelspec": {
   "display_name": "Python 3 (ipykernel)",
   "language": "python",
   "name": "python3"
  },
  "language_info": {
   "codemirror_mode": {
    "name": "ipython",
    "version": 3
   },
   "file_extension": ".py",
   "mimetype": "text/x-python",
   "name": "python",
   "nbconvert_exporter": "python",
   "pygments_lexer": "ipython3",
   "version": "3.12.2"
  }
 },
 "nbformat": 4,
 "nbformat_minor": 5
}

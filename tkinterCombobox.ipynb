{
 "cells": [
  {
   "cell_type": "markdown",
   "id": "03e79871-6d26-4c68-898f-056e13292126",
   "metadata": {},
   "source": [
    "**Introduction to the Tkinter Combobox widget**\n",
    "\n",
    "A combobox is a combination of an Entry widget and a Listbox widget. A combobox widget allows you to select one value in a set of values. In addition, it allows you to enter a custom value.\n",
    "\n",
    "**Create a combobox**\n",
    "\n",
    "To create a combobox widget, you’ll use the ttk.Combobox() constructor. The following example creates a combobox widget and links it to a string variable:\n",
    "\n",
    "\n",
    "```\n",
    "current_var = tk.StringVar()\n",
    "combobox = ttk.Combobox(container, textvariable=current_var)\n",
    "```\n",
    "The container is the window or frame on which you want to place the combobox widget.\n",
    "\n",
    "The textvariable argument links a variable current_var to the current value of the combobox.\n",
    "\n",
    "To get the currently selected value, you can use the current_var variable:\n",
    "\n",
    "`current_value = current_var.get()`\n",
    "\n",
    "Alternatively, you can use the get() method of the combobox object:\n",
    "\n",
    "`current_value = combobox.get()`\n",
    "\n",
    "To set the current value, you use the current_var variable or the set() method of the combobox object:\n",
    "\n",
    "```\n",
    "current_value.set(new_value)\n",
    "combobox.set(new_value)\n",
    "```"
   ]
  },
  {
   "cell_type": "code",
   "execution_count": null,
   "id": "60a86df8-88ba-47d3-9f1c-dcb919c79eea",
   "metadata": {},
   "outputs": [],
   "source": []
  }
 ],
 "metadata": {
  "kernelspec": {
   "display_name": "Python 3 (ipykernel)",
   "language": "python",
   "name": "python3"
  },
  "language_info": {
   "codemirror_mode": {
    "name": "ipython",
    "version": 3
   },
   "file_extension": ".py",
   "mimetype": "text/x-python",
   "name": "python",
   "nbconvert_exporter": "python",
   "pygments_lexer": "ipython3",
   "version": "3.12.2"
  }
 },
 "nbformat": 4,
 "nbformat_minor": 5
}

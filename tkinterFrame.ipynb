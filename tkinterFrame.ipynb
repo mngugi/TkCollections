{
 "cells": [
  {
   "cell_type": "markdown",
   "id": "2575a7d5-c1bd-4977-b54a-673350e6416b",
   "metadata": {},
   "source": [
    "**Introduction to Tkinter Frame widget**\n",
    "\n",
    "A frame is a widget that displays as a simple rectangle. Typically, you use a frame to organize other widgets both visually and at the coding level.\n",
    "\n",
    "To create a frame, you use the ttk.Frame class:\n",
    "`frame = ttk.Frame(master, **options)`\n",
    "\n",
    "A frame has various configuration objects which determine its appearance."
   ]
  }
 ],
 "metadata": {
  "kernelspec": {
   "display_name": "Python 3 (ipykernel)",
   "language": "python",
   "name": "python3"
  },
  "language_info": {
   "codemirror_mode": {
    "name": "ipython",
    "version": 3
   },
   "file_extension": ".py",
   "mimetype": "text/x-python",
   "name": "python",
   "nbconvert_exporter": "python",
   "pygments_lexer": "ipython3",
   "version": "3.12.2"
  }
 },
 "nbformat": 4,
 "nbformat_minor": 5
}

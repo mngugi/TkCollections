{
 "cells": [
  {
   "cell_type": "markdown",
   "id": "9333bac7-cccb-4189-a42d-e7e5dd778789",
   "metadata": {},
   "source": [
    "**Introduction to the Tkinter PhotoImage widget**\n",
    "\n",
    "In Tkinter, some widgets can display an image such as Label and Button. These widgets take an image argument that allows them to display an image.\n",
    "\n",
    "However, you can’t just simply pass the path to an image file to the image argument. Instead, you need to create a PhotoImage object and pass it the image argument.\n",
    "\n",
    "To create a new PhotoImage object, you use the following syntax:\n",
    "\n",
    "`photo_image = tk.PhotoImage(file=path_to_image)`\n",
    "\n",
    "In this syntax, you pass the path to the image to the file argument to create a new PhotoImage object.\n",
    "\n",
    "Alternatively, you pass a bytes object that contains image data to the data argument.\n",
    "\n",
    "After creating a PhotoImage object, you can use it in other widgets that accept an image argument:\n",
    "\n",
    "`label = ttk.Label(root, image=photo_image)`\n",
    "\n",
    "It’s important to note that you keep the reference to the PhotoImage object in scope for as long as the image will be shown. Otherwise, the image won’t appear.\n",
    "\n",
    "The following example attempts to display an image with the path './assets/python.png' on the root window:\n",
    "\n"
   ]
  },
  {
   "cell_type": "code",
   "execution_count": null,
   "id": "77c1e313-ea1a-4bb7-95a9-9d7e68073614",
   "metadata": {},
   "outputs": [],
   "source": [
    "import tkinter as tk\n",
    "from tkinter import ttk\n",
    "\n",
    "\n",
    "class App(tk.Tk):\n",
    "    def __init__(self):\n",
    "        super().__init__()\n",
    "        python_image = tk.PhotoImage(file='./assets/python.png')\n",
    "        ttk.Label(self, image=python_image).pack()\n",
    "\n",
    "\n",
    "if __name__ == \"__main__\":\n",
    "    app = App()\n",
    "    app.mainloop()\n",
    "Code language: Python (python)\n",
    "If you run the program, you’ll notice that the window doesn’t show the image.\n",
    "\n",
    "Why?\n",
    "\n",
    "That’s because the python_image is destroyed as soon as the __init__() is ended. Since the program has no reference to the PhotoImage object, the image vanishes even though you’ve packed it into the layout.\n",
    "\n",
    "To fix this issue, you need to make sure the python_image doesn’t go out of scope after the __init__() method ends. For example, you can keep it in the instance of the App class such as self.python_image:"
   ]
  }
 ],
 "metadata": {
  "kernelspec": {
   "display_name": "Python 3 (ipykernel)",
   "language": "python",
   "name": "python3"
  },
  "language_info": {
   "codemirror_mode": {
    "name": "ipython",
    "version": 3
   },
   "file_extension": ".py",
   "mimetype": "text/x-python",
   "name": "python",
   "nbconvert_exporter": "python",
   "pygments_lexer": "ipython3",
   "version": "3.12.2"
  }
 },
 "nbformat": 4,
 "nbformat_minor": 5
}

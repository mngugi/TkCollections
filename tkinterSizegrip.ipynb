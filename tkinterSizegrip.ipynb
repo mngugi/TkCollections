{
 "cells": [
  {
   "cell_type": "markdown",
   "id": "53884e11-4445-44b0-bcee-2fea69242f07",
   "metadata": {},
   "source": [
    "**Introduction to the Tkinter Sizegrip widget**\n",
    "\n",
    "The Sizegrip widget is typically located in the bottom-right corner of the window. It allows you to resize the entire application window.\n",
    "\n",
    "To create a Sizegrip widget, you use the following syntax:\n",
    "\n",
    "`ttk.Sizegrip(master, **kw)`\n",
    "\n",
    "In this syntax:\n",
    "\n",
    "- master: specify the parent widget where you want to place the Sizegrip. Typically, it is the main window.\n",
    "\n",
    "- **kw: specify the keyword arguments that configure the size grip’s appearance and behavior.\n",
    "To make sure the Sizegrip widget works properly, you need to make the parent widget resizable.\n",
    "\n",
    "If you use the main window e.g., root, you need to call the resizable() method with True values:\n",
    "\n",
    "`root.resizable(True, True)`\n",
    "\n",
    "1) Using the Sizegrip widget with a grid layout\n",
    "   \n",
    "The following program creates and shows Sizegrip at the bottom-right corner of the main window using the grid layout:"
   ]
  },
  {
   "cell_type": "code",
   "execution_count": 1,
   "id": "575cf7b8-40f1-4bd3-aa30-835dc3923521",
   "metadata": {},
   "outputs": [],
   "source": [
    "import tkinter as tk\n",
    "from tkinter import ttk\n",
    "\n",
    "root = tk.Tk()\n",
    "root.geometry('300x200')\n",
    "root.resizable(True,True)\n",
    "root.title('Tkinter Sizegrip Example')\n",
    "\n",
    "root.columnconfigure(0, weight=1)\n",
    "root.rowconfigure(0, weight=1)\n",
    "\n",
    "root.mainloop()"
   ]
  },
  {
   "cell_type": "markdown",
   "id": "93683ad2-f824-4c34-bf96-e696a19a8535",
   "metadata": {},
   "source": [
    "First, make sure the root window is resizable:\n",
    "\n",
    "`root.resizable(True, True)`\n",
    "Second, configure the grid layout:\n",
    "```\n",
    "root.columnconfigure(0, weight=1)\n",
    "root.rowconfigure(0, weight=1)\n",
    "```\n",
    "Third, create a Sizegrip widget and place at the bottom-right corner of the window:\n",
    "```\n",
    "sg = ttk.Sizegrip(root)\n",
    "sg.grid(row=1, sticky=tk.SE)\n",
    "```\n",
    "\n",
    "2) Using the Sizegrip widget with the place layout\n",
    "   \n",
    "The following program demonstrates how to create a Sizegrip widget and place it at the bottom-right corner of the window using the place() method:"
   ]
  },
  {
   "cell_type": "code",
   "execution_count": 2,
   "id": "7068fb77-50b1-42da-bffe-c15670628bbd",
   "metadata": {},
   "outputs": [],
   "source": [
    "import tkinter as tk\n",
    "from tkinter import ttk\n",
    "\n",
    "root = tk.Tk()\n",
    "root.resizable(True,True)\n",
    "\n",
    "sizegrip = ttk.Sizegrip(root)\n",
    "sizegrip.place(relx=1, rely=1, anchor=tk.SE)\n",
    "\n",
    "root.mainloop()"
   ]
  },
  {
   "cell_type": "markdown",
   "id": "517d8341-684b-4cc9-a214-5573eb168739",
   "metadata": {},
   "source": [
    "In this example, we set the relx and rely parameters of the place() method to 1.0 to place the Sizegrip widget at the bottom-right corner of the main window. We also set the anchor parameter to tk.SE to place the south-east point of the Sizegrip to the specified coordinates.\n",
    "\n",
    "3) Using the Sizegrip widget with the pack layout\n",
    "   \n",
    "The following program creates a Sizegrip widget and places it at the bottom-right corner using the pack() method:"
   ]
  },
  {
   "cell_type": "code",
   "execution_count": null,
   "id": "3cb1bf65-847f-432a-9029-4ca1faeb4538",
   "metadata": {},
   "outputs": [],
   "source": [
    "import tkinter as tk\n",
    "from tkinter import ttk\n",
    "\n",
    "root = tk.Tk()\n",
    "root.resizable(True,True)\n",
    "\n",
    "sizegrip = ttk.Sizegrip(root)\n",
    "sizegrip.pack(side=\"bottom\", anchor=tk.SE)\n",
    "\n",
    "root.mainloop()"
   ]
  }
 ],
 "metadata": {
  "kernelspec": {
   "display_name": "Python 3 (ipykernel)",
   "language": "python",
   "name": "python3"
  },
  "language_info": {
   "codemirror_mode": {
    "name": "ipython",
    "version": 3
   },
   "file_extension": ".py",
   "mimetype": "text/x-python",
   "name": "python",
   "nbconvert_exporter": "python",
   "pygments_lexer": "ipython3",
   "version": "3.12.2"
  }
 },
 "nbformat": 4,
 "nbformat_minor": 5
}

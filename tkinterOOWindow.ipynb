{
 "cells": [
  {
   "cell_type": "markdown",
   "id": "6f47cfe9-a0eb-4d7a-939b-621b8eb4c904",
   "metadata": {},
   "source": [
    "**Defining a Tkinter object-oriented window**\n",
    "\n",
    "The following simple program creates a root window and displays it on the screen:\n",
    "```\n",
    "import tkinter as tk\n",
    "root = tk.Tk()\n",
    "root.mainloop()\n",
    "```\n",
    "When the program is getting more complex, you can use an object-oriented programming approach to make the code more organized.\n",
    "\n",
    "The following program achieves the same result as the program above, but use a class instead:"
   ]
  }
 ],
 "metadata": {
  "kernelspec": {
   "display_name": "Python 3 (ipykernel)",
   "language": "python",
   "name": "python3"
  },
  "language_info": {
   "codemirror_mode": {
    "name": "ipython",
    "version": 3
   },
   "file_extension": ".py",
   "mimetype": "text/x-python",
   "name": "python",
   "nbconvert_exporter": "python",
   "pygments_lexer": "ipython3",
   "version": "3.12.2"
  }
 },
 "nbformat": 4,
 "nbformat_minor": 5
}

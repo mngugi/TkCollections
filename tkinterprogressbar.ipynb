{
 "cells": [
  {
   "cell_type": "markdown",
   "id": "593230c3-6a7c-4dd0-9cc3-e9097b95bccd",
   "metadata": {},
   "source": [
    "**Introduction to the Tkinter Progressbar widget**\n",
    "\n",
    "A Progressbar widget allows you to give feedback to the user about the progress of a long-running task. To create a Progressbar widget, you use the ttk.Progressbar class:\n",
    "\n",
    "`ttk.Progressbar(container, **options)`\n",
    "\n",
    "The following shows the typical parameters to create a Progressbar widget:\n",
    "\n",
    "`ttk.Progressbar(container, orient, length, mode)`\n",
    "\n",
    "- The container is the parent component of the progressbar.\n",
    "- The orient can be either 'horizontal' or 'vertical'.\n",
    "- The length represents the width of a horizontal progress bar or the height of a vertical progressbar.\n",
    "- The mode can be either 'determinate' or 'indeterminate'.\n",
    "\n",
    "**The indeterminate mode**\n",
    "\n",
    "In the indeterminate mode, the progressbar shows an indicator that bounces back and forth between the ends of the widget.\n",
    "\n",
    "Typically, you use the indeterminate mode when you don’t know how to accurately measure the time that the long-running task takes to complete.\n",
    "\n",
    "**The determinate mode**\n",
    "In the determinate mode, the progressbar shows an indicator from the beginning to the end of the widget.\n",
    "\n",
    "If you know how to measure relative progress, you can use the determinate mode.\n",
    "\n",
    "- The important methods of a progressbar\n",
    "- The Progressbar has the following important methods:\n",
    "\n",
    "start([interval]) – start moving the indicator every interval millisecond. The interval defaults to 50ms.\n",
    "step([delta]) – increase the indicator value by delta. The delta defaults to 1 millisecond.\n",
    "stop() – stop moving the indicator of the progressbar.\n",
    "\n",
    "**Tkinter Progressbar examples**\n",
    "\n",
    "Let’s take some examples of creating progressbar widgets.\n",
    "\n",
    "1) Tkinter Progressbar in the indeterminate mode example\n",
    "The following program illustrates how to create a progressbar in the indeterminate mode. If you click the start button, the progressbar starts moving the indicator. When you click the stop button, the progressbar stops moving the progress indicator:\n",
    "\n",
    "\n"
   ]
  }
 ],
 "metadata": {
  "kernelspec": {
   "display_name": "Python 3 (ipykernel)",
   "language": "python",
   "name": "python3"
  },
  "language_info": {
   "codemirror_mode": {
    "name": "ipython",
    "version": 3
   },
   "file_extension": ".py",
   "mimetype": "text/x-python",
   "name": "python",
   "nbconvert_exporter": "python",
   "pygments_lexer": "ipython3",
   "version": "3.12.2"
  }
 },
 "nbformat": 4,
 "nbformat_minor": 5
}

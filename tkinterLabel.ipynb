{
 "cells": [
  {
   "cell_type": "markdown",
   "id": "8c54abab-f3e9-4069-8069-b49e6ac39b49",
   "metadata": {},
   "source": [
    "Introduction to Tkinter Label widget\n",
    "Tkinter Label widget is used to display a text or image on the screen. To use a Label widget, you use the following general syntax:\n",
    "\n",
    "`label = ttk.Label(master, **options)`"
   ]
  },
  {
   "cell_type": "markdown",
   "id": "0a114ec7-71e5-4135-a08c-474e1f1c58b6",
   "metadata": {},
   "source": [
    "## Label Widget Options\n",
    "\n",
    "The `Label` widget has many options that allow you to customize its appearance:\n",
    "\n",
    "| **Option**    | **Meaning**                                                                                                                                 |\n",
    "|----------------|--------------------------------------------------------------------------------------------------------------------------------------------|\n",
    "| `anchor`      | When the text and/or image are smaller than the width, the `anchor` option determines where to position them.                                |\n",
    "|                | Valid values: `tk.W`, `tk.CENTER`, or `tk.E` for left, center, and right alignment, respectively.                                           |\n",
    "| `background`  | Set the background color for the label.                                                                                                      |\n",
    "| `borderwidth` | Set the border width for the label. Useful for effects like `flat`, `raised`, `sunken`, `groove`, and `ridge`.                               |\n",
    "| `class_`      | Specify a custom widget class name for changing the label’s appearance.                                                                       |\n",
    "| `compound`    | Specify how to display both text and images on the label.                                                                                     |\n",
    "| `cursor`      | Specify the mouse cursor’s appearance when hovering over the widget.                                                                          |\n",
    "| `font`        | Specify the font style for displaying text (e.g., `\"Arial\", 12`).                                                                              |\n",
    "| `foreground`  | Set the color of the text.                                                                                                                     |\n",
    "| `image`       | Specify an image or images to display either in addition to text or instead of text.                                                           |\n",
    "| `justify`     | Specify the horizontal alignment of text with newlines.                                                                                       |\n",
    "|                | Valid values: `tk.LEFT` (left-justify), `tk.CENTER` (center), and `tk.RIGHT` (right-justify).                                                 |\n",
    "| `padding`     | Add space around the label content.                                                                                                            |\n",
    "| `relief`      | Set the border style (e.g., `flat`, `raised`, `sunken`, `groove`, `ridge`).                                                                   |\n",
    "| `style`       | Apply a custom widget style to the label.                                                                                                      |\n",
    "| `takefocus`   | Boolean. If `True`, the label is included in focus traversal. Defaults to `False`.                                                             |\n",
    "| `text`        | Display a text string in the widget.                                                                                                           |\n",
    "| `textvariable`| Display a text value from a `StringVar`. Overrides `text` if both are specified.                                                               |\n",
    "| `underline`   | Underline a character by specifying its index (e.g., `underline=0` underlines the first character).                                             |\n",
    "| `width`       | Set the number of characters the label can display.                                                                                            |\n",
    "| `wraplength`  | Break text into lines that fit within the specified pixel width.                                                                               |\n"
   ]
  },
  {
   "cell_type": "markdown",
   "id": "30defb6a-57fa-479c-8272-df9ed1db0488",
   "metadata": {},
   "source": [
    "### Displaying a regular label\n",
    "The following program shows how to display a regular label on the root window:"
   ]
  },
  {
   "cell_type": "code",
   "execution_count": 3,
   "id": "5e11cd32-8620-4436-a220-4075c933b3ee",
   "metadata": {},
   "outputs": [],
   "source": [
    "import tkinter as tk\n",
    "from tkinter import Label\n",
    "\n",
    "root = tk.Tk()\n",
    "root.geometry('300x200')\n",
    "root.resizable(False, False)\n",
    "root.title('Label Widget Demo')\n",
    "\n",
    "# show the label here\n",
    "label = Label(root, text='Text label',font=(\"Helvetica\", 14))\n",
    "label.pack(ipadx=10, ipady=10)\n",
    "root.mainloop()"
   ]
  },
  {
   "cell_type": "markdown",
   "id": "50f97052-c915-4b1c-9896-c02ddbeefd98",
   "metadata": {},
   "source": [
    "- First, import Label class from the tkinter.ttk module.\n",
    "- Second, create the root window and set its properties including size, resizeable, and title.\n",
    "- Third, create a new instance of the Label widget, set its container to the root window, and assign a literal string to its text property."
   ]
  },
  {
   "cell_type": "markdown",
   "id": "9b2318d9-8c1d-44ac-8ef1-35435cb1ea9f",
   "metadata": {},
   "source": [
    "### Setting a specific font for the Label\n",
    "To set a particular font for a label, you pass the font keyword argument to the Label constructor like this:\n",
    "\n",
    "`font = ('font name', font_size)`\n",
    "Code language: Python (python)\n",
    "The font keyword argument is a tuple that contains font name and size. For example:\n",
    "\n",
    "`font=(\"Helvetica\", 14)`\n",
    "`label = Label(root, text='Text label',font=(\"Helvetica\", 14))`\n",
    "Code language: Python (python)\n",
    "The following example shows a label with the Helvetica font:\n"
   ]
  },
  {
   "cell_type": "markdown",
   "id": "1a29344d-f74d-41b4-a31a-80f93b8cd3fa",
   "metadata": {},
   "source": [
    "### Displaying an image\n",
    "To use a Label widget to display an image, you follow these steps:\n",
    "\n",
    "First, create a PhotoImage widget by passing the path of the photo to the PhotoImage constructor:\n",
    "\n",
    "`photo = tk.PhotoImage(file='./assets/python.png')`\n",
    "Code language: Python (python)\n",
    "Second, assign the PhotoImage object to the image option of the Label widget:\n",
    "\n",
    "Label(..., image=photo)\n",
    "Code language: Python (python)\n",
    "The following example shows how to use a Label widget to display an image:\n",
    "\n"
   ]
  },
  {
   "cell_type": "code",
   "execution_count": 6,
   "id": "b7ee153d-7e73-4a4e-997b-03fc350d94e4",
   "metadata": {},
   "outputs": [
    {
     "ename": "TclError",
     "evalue": "unknown option \"-padding\"",
     "output_type": "error",
     "traceback": [
      "\u001b[0;31m---------------------------------------------------------------------------\u001b[0m",
      "\u001b[0;31mTclError\u001b[0m                                  Traceback (most recent call last)",
      "Cell \u001b[0;32mIn[6], line 12\u001b[0m\n\u001b[1;32m     10\u001b[0m \u001b[38;5;66;03m# display an image label\u001b[39;00m\n\u001b[1;32m     11\u001b[0m photo \u001b[38;5;241m=\u001b[39m tk\u001b[38;5;241m.\u001b[39mPhotoImage(file\u001b[38;5;241m=\u001b[39m\u001b[38;5;124m'\u001b[39m\u001b[38;5;124mpyIcon.png\u001b[39m\u001b[38;5;124m'\u001b[39m)\n\u001b[0;32m---> 12\u001b[0m image_label \u001b[38;5;241m=\u001b[39m tk\u001b[38;5;241m.\u001b[39mLabel(\n\u001b[1;32m     13\u001b[0m     root,\n\u001b[1;32m     14\u001b[0m     image\u001b[38;5;241m=\u001b[39mphoto,\n\u001b[1;32m     15\u001b[0m     padding\u001b[38;5;241m=\u001b[39m\u001b[38;5;241m5\u001b[39m\n\u001b[1;32m     16\u001b[0m )\n\u001b[1;32m     17\u001b[0m image_label\u001b[38;5;241m.\u001b[39mpack()\n\u001b[1;32m     19\u001b[0m root\u001b[38;5;241m.\u001b[39mmainloop()\n",
      "File \u001b[0;32m~/anaconda3/lib/python3.12/tkinter/__init__.py:3232\u001b[0m, in \u001b[0;36mLabel.__init__\u001b[0;34m(self, master, cnf, **kw)\u001b[0m\n\u001b[1;32m   3214\u001b[0m \u001b[38;5;28;01mdef\u001b[39;00m \u001b[38;5;21m__init__\u001b[39m(\u001b[38;5;28mself\u001b[39m, master\u001b[38;5;241m=\u001b[39m\u001b[38;5;28;01mNone\u001b[39;00m, cnf\u001b[38;5;241m=\u001b[39m{}, \u001b[38;5;241m*\u001b[39m\u001b[38;5;241m*\u001b[39mkw):\n\u001b[1;32m   3215\u001b[0m \u001b[38;5;250m    \u001b[39m\u001b[38;5;124;03m\"\"\"Construct a label widget with the parent MASTER.\u001b[39;00m\n\u001b[1;32m   3216\u001b[0m \n\u001b[1;32m   3217\u001b[0m \u001b[38;5;124;03m    STANDARD OPTIONS\u001b[39;00m\n\u001b[0;32m   (...)\u001b[0m\n\u001b[1;32m   3230\u001b[0m \n\u001b[1;32m   3231\u001b[0m \u001b[38;5;124;03m    \"\"\"\u001b[39;00m\n\u001b[0;32m-> 3232\u001b[0m     Widget\u001b[38;5;241m.\u001b[39m\u001b[38;5;21m__init__\u001b[39m(\u001b[38;5;28mself\u001b[39m, master, \u001b[38;5;124m'\u001b[39m\u001b[38;5;124mlabel\u001b[39m\u001b[38;5;124m'\u001b[39m, cnf, kw)\n",
      "File \u001b[0;32m~/anaconda3/lib/python3.12/tkinter/__init__.py:2648\u001b[0m, in \u001b[0;36mBaseWidget.__init__\u001b[0;34m(self, master, widgetName, cnf, kw, extra)\u001b[0m\n\u001b[1;32m   2646\u001b[0m \u001b[38;5;28;01mfor\u001b[39;00m k, v \u001b[38;5;129;01min\u001b[39;00m classes:\n\u001b[1;32m   2647\u001b[0m     \u001b[38;5;28;01mdel\u001b[39;00m cnf[k]\n\u001b[0;32m-> 2648\u001b[0m \u001b[38;5;28mself\u001b[39m\u001b[38;5;241m.\u001b[39mtk\u001b[38;5;241m.\u001b[39mcall(\n\u001b[1;32m   2649\u001b[0m     (widgetName, \u001b[38;5;28mself\u001b[39m\u001b[38;5;241m.\u001b[39m_w) \u001b[38;5;241m+\u001b[39m extra \u001b[38;5;241m+\u001b[39m \u001b[38;5;28mself\u001b[39m\u001b[38;5;241m.\u001b[39m_options(cnf))\n\u001b[1;32m   2650\u001b[0m \u001b[38;5;28;01mfor\u001b[39;00m k, v \u001b[38;5;129;01min\u001b[39;00m classes:\n\u001b[1;32m   2651\u001b[0m     k\u001b[38;5;241m.\u001b[39mconfigure(\u001b[38;5;28mself\u001b[39m, v)\n",
      "\u001b[0;31mTclError\u001b[0m: unknown option \"-padding\""
     ]
    }
   ],
   "source": [
    "import tkinter as tk\n",
    "from tkinter import ttk\n",
    "\n",
    "# create the root window\n",
    "root = tk.Tk()\n",
    "root.geometry('300x200')\n",
    "root.resizable(False, False)\n",
    "root.title('Label Widget Image')\n",
    "\n",
    "# display an image label\n",
    "photo = tk.PhotoImage(file='pyIcon.png')\n",
    "image_label = tk.Label(\n",
    "    root,\n",
    "    image=photo,\n",
    "    padding=10\n",
    ")\n",
    "image_label.pack()\n",
    "\n",
    "root.mainloop()\n"
   ]
  },
  {
   "cell_type": "code",
   "execution_count": null,
   "id": "72bb45a0-b7bd-4c30-9d7d-97c2742704f4",
   "metadata": {},
   "outputs": [],
   "source": []
  }
 ],
 "metadata": {
  "kernelspec": {
   "display_name": "Python 3 (ipykernel)",
   "language": "python",
   "name": "python3"
  },
  "language_info": {
   "codemirror_mode": {
    "name": "ipython",
    "version": 3
   },
   "file_extension": ".py",
   "mimetype": "text/x-python",
   "name": "python",
   "nbconvert_exporter": "python",
   "pygments_lexer": "ipython3",
   "version": "3.12.2"
  }
 },
 "nbformat": 4,
 "nbformat_minor": 5
}

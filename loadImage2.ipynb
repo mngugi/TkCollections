{
 "cells": [
  {
   "cell_type": "code",
   "execution_count": null,
   "id": "fc16d0d3-e5e8-44b3-a4ea-6f276980adaa",
   "metadata": {},
   "outputs": [],
   "source": [
    "import tkinter as tk\n",
    "from PIL import Image, ImageTk\n",
    "import matplotlib.pyplot as plt\n",
    "from io import BytesIO\n",
    "\n",
    "# Initialize the main application window\n",
    "root = tk.Tk()\n",
    "\n",
    "# Load and display an image\n",
    "image_path = \"your_image.png\"  # Change this to your actual image file\n",
    "image = Image.open(image_path)\n",
    "image = image.resize((300, 200))  # Resize if needed\n",
    "photo = ImageTk.PhotoImage(image)\n",
    "\n",
    "image_label = tk.Label(root, image=photo)\n",
    "image_label.pack()\n",
    "\n",
    "# Generate LaTeX-rendered text using Matplotlib\n",
    "fig, ax = plt.subplots(figsize=(3, 1))\n",
    "ax.text(0.5, 0.5, r\"$\\textbf{Philadelphia Eagles}$ \\quad \\textit{are Champions!}$\", \n",
    "        fontsize=14, ha=\"center\", va=\"center\")\n",
    "ax.axis(\"off\")\n",
    "\n",
    "# Convert Matplotlib figure to a Tkinter-compatible image\n",
    "buf = BytesIO()\n",
    "fig.savefig(buf, format=\"png\", bbox_inches=\"tight\", transparent=True)\n",
    "buf.seek(0)\n",
    "latex_image = Image.open(buf)\n",
    "latex_photo = ImageTk.PhotoImage(latex_image)\n",
    "\n",
    "# Display the LaTeX-rendered text as an image\n",
    "latex_label = tk.Label(root, image=latex_photo)\n",
    "latex_label.pack()\n",
    "\n",
    "# Keep a reference to avoid garbage collection issues\n",
    "image_label.image = photo  \n",
    "latex_label.image = latex_photo  \n",
    "\n",
    "# Start the Tkinter event loop\n",
    "root.mainloop()\n"
   ]
  }
 ],
 "metadata": {
  "kernelspec": {
   "display_name": "Python 3 (ipykernel)",
   "language": "python",
   "name": "python3"
  },
  "language_info": {
   "codemirror_mode": {
    "name": "ipython",
    "version": 3
   },
   "file_extension": ".py",
   "mimetype": "text/x-python",
   "name": "python",
   "nbconvert_exporter": "python",
   "pygments_lexer": "ipython3",
   "version": "3.12.2"
  }
 },
 "nbformat": 4,
 "nbformat_minor": 5
}

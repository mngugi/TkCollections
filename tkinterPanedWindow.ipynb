{
 "cells": [
  {
   "cell_type": "markdown",
   "id": "452ff82a-f651-47e0-890a-1f313290bb9e",
   "metadata": {},
   "source": [
    "**Introduction to the Tkinter PanedWindow widget**\n",
    "    \n",
    "The PaneWindow widget divides the space of a frame or a window. A PaneWindow is like a Frame that acts as a container for holding child widgets\n",
    "\n",
    "Typically, a PanedWindow contains a vertical or horizontal stack of child widgets.\n",
    "A PanedWindow uses a bar to separate the child widgets. This bar is called a sash.\n",
    "\n",
    "A sash can have a handle which is a small square that you can drag it with a mouse.\n",
    "\n",
    "A pane is an area occupied by one child widget.\n",
    "\n",
    "To create a PanedWindow widget, you use the following syntax:\n",
    "\n",
    "`ttk.PanedWindow(container, **options)`\n",
    "\n",
    "A notable option of a PanedWindow widget is the orient option.\n",
    "\n",
    "If you set the orient to tk.HORIZONTAL, it’ll stack child widgets side by side. If orient is tk.VERTICAL, it’ll stack child widgets top to bottom. The orient option defaults to tk.VERTICAL.\n",
    "\n",
    "**Tkinter PanedWindow widget example**\n",
    "\n",
    "The following example illustrates how to use the PanedWindow widget to separate two Listbox widgets:"
   ]
  }
 ],
 "metadata": {
  "kernelspec": {
   "display_name": "Python 3 (ipykernel)",
   "language": "python",
   "name": "python3"
  },
  "language_info": {
   "codemirror_mode": {
    "name": "ipython",
    "version": 3
   },
   "file_extension": ".py",
   "mimetype": "text/x-python",
   "name": "python",
   "nbconvert_exporter": "python",
   "pygments_lexer": "ipython3",
   "version": "3.12.2"
  }
 },
 "nbformat": 4,
 "nbformat_minor": 5
}

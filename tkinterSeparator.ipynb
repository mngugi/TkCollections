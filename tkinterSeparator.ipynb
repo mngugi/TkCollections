{
 "cells": [
  {
   "cell_type": "code",
   "execution_count": null,
   "id": "20cc368f-2222-4177-a0d4-9389516c5ef2",
   "metadata": {},
   "outputs": [],
   "source": [
    "import tkinter as tk\n",
    "from tkinter import ttk\n",
    "\n",
    "root = tk.Tk()\n",
    "root.geometry('300x200')\n",
    "root.resizable(False,False)\n",
    "root.title('Tkinter Separator Example')\n",
    "\n",
    "ttk.Label(root, text='Line one').pack()\n",
    "\n",
    "separator = ttk.separator(root, orient='horinzontal')\n",
    "separator.pack(fill='x')\n",
    "\n",
    "ttk.Label(root, text='Line two').pack()\n",
    "root.mainloop()"
   ]
  }
 ],
 "metadata": {
  "kernelspec": {
   "display_name": "Python 3 (ipykernel)",
   "language": "python",
   "name": "python3"
  },
  "language_info": {
   "codemirror_mode": {
    "name": "ipython",
    "version": 3
   },
   "file_extension": ".py",
   "mimetype": "text/x-python",
   "name": "python",
   "nbconvert_exporter": "python",
   "pygments_lexer": "ipython3",
   "version": "3.12.2"
  }
 },
 "nbformat": 4,
 "nbformat_minor": 5
}

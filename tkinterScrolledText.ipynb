{
 "cells": [
  {
   "cell_type": "markdown",
   "id": "be272451-f455-4366-bd49-758fb84d0b90",
   "metadata": {},
   "source": [
    "**Introduction to the Tkinter ScrolledText widget**\n",
    "\n",
    "So far, you’ve learned how to create a Text widget and how to link a vertical Scrollbar to the text widget.\n",
    "\n",
    "To make it more convenient, Tkinter provides you with the ScrolledText widget which does the same things as a text widget linked to a vertical scroll bar.\n",
    "\n",
    "To use the ScrolledText widget, you need to import the ScrolledText class from the tkinter.scrolledtext module.\n",
    "\n",
    "Technically, the ScrolledText class inherits from the Text class.\n",
    "\n",
    "The ScrolledText widget uses a Frame widget inserted between the container and the Text widget to hold the Scrollbar widget.\n",
    "\n",
    "Therefore, the ScrolledText has the same properties and methods as the Text widget. In addition, the geometry manager methods including pack, grid, and place are restricted to the Frame.\n",
    "\n",
    "**Tkinter ScrolledText widget example**\n"
   ]
  }
 ],
 "metadata": {
  "kernelspec": {
   "display_name": "Python 3 (ipykernel)",
   "language": "python",
   "name": "python3"
  },
  "language_info": {
   "codemirror_mode": {
    "name": "ipython",
    "version": 3
   },
   "file_extension": ".py",
   "mimetype": "text/x-python",
   "name": "python",
   "nbconvert_exporter": "python",
   "pygments_lexer": "ipython3",
   "version": "3.12.2"
  }
 },
 "nbformat": 4,
 "nbformat_minor": 5
}

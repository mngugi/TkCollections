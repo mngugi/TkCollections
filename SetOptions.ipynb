{
 "cells": [
  {
   "cell_type": "markdown",
   "id": "9bf0927b-149a-45d0-997f-4e42b35a7988",
   "metadata": {},
   "source": [
    "### 3 Ways to Set Options for a Tk Themed Widget\n",
    "Summary: in this tutorial, you’ll learn how to set options for a Tk themed widget using the widget constructor, a dictionary index, and config() method.\n",
    "\n",
    "When working with themed widgets, you often need to set their attributes such as text and image.\n",
    "\n",
    "Tkinter allows you to set the options of a widget using one of the following ways:\n",
    "\n",
    "Use the widget constructor during the widget’s creation.\n",
    "Set a property value using a dictionary index after creating the widget.\n",
    "Call the config() method with keyword arguments.\n",
    "\n",
    "1) Using the widget constructor when creating the widget\n",
    "The following illustrates how to use the widget constructor to set the text option for the Label widget:\n",
    "\n",
    "The following illustrates how to use the widget constructor to set the text option for the Label widget:"
   ]
  },
  {
   "cell_type": "code",
   "execution_count": 5,
   "id": "5cf295a4-0ebc-4fbf-814d-093e04fa9e8f",
   "metadata": {},
   "outputs": [],
   "source": [
    "import tkinter as tk\n",
    "from tkinter import ttk\n",
    "\n",
    "root = tk.Tk()\n",
    "root.geometry('600x400+50+50')\n",
    "tk.Label(root,fg='blue', text='Hi,physical and cyber security').pack()\n",
    "\n",
    "root.mainloop()"
   ]
  },
  {
   "cell_type": "markdown",
   "id": "1d995e5f-69f6-4a4b-92c3-e228fbd724b5",
   "metadata": {},
   "source": [
    "2) Using a dictionary index after widget creation\n",
    "The following program shows the same label but uses a dictionary index to set the text option for the Label widget:"
   ]
  },
  {
   "cell_type": "code",
   "execution_count": 7,
   "id": "319d4f57-e957-4661-a96d-8c4b8e853c68",
   "metadata": {},
   "outputs": [
    {
     "ename": "NameError",
     "evalue": "name 'text' is not defined",
     "output_type": "error",
     "traceback": [
      "\u001b[0;31m---------------------------------------------------------------------------\u001b[0m",
      "\u001b[0;31mNameError\u001b[0m                                 Traceback (most recent call last)",
      "Cell \u001b[0;32mIn[7], line 6\u001b[0m\n\u001b[1;32m      4\u001b[0m root \u001b[38;5;241m=\u001b[39m tk\u001b[38;5;241m.\u001b[39mTk()\n\u001b[1;32m      5\u001b[0m label \u001b[38;5;241m=\u001b[39m ttk\u001b[38;5;241m.\u001b[39mLabel(root)\n\u001b[0;32m----> 6\u001b[0m label[text]\u001b[38;5;241m=\u001b[39m \u001b[38;5;124m'\u001b[39m\u001b[38;5;124mHi,physical and cyber security\u001b[39m\u001b[38;5;124m'\u001b[39m\n\u001b[1;32m      7\u001b[0m root\u001b[38;5;241m.\u001b[39mgeometry(\u001b[38;5;124m'\u001b[39m\u001b[38;5;124m600x400+50+50\u001b[39m\u001b[38;5;124m'\u001b[39m)\n\u001b[1;32m      8\u001b[0m label\u001b[38;5;241m.\u001b[39mpack()\n",
      "\u001b[0;31mNameError\u001b[0m: name 'text' is not defined"
     ]
    }
   ],
   "source": [
    "import tkinter as tk\n",
    "from tkinter import ttk\n",
    "\n",
    "root = tk.Tk()\n",
    "\n",
    "label = ttk.Label(root)\n",
    "label['text']= 'Hi,physical and cyber security'\n",
    "\n",
    "root.geometry('600x400+50+50')\n",
    "label.pack()\n",
    "\n",
    "root.mainloop()"
   ]
  },
  {
   "cell_type": "code",
   "execution_count": null,
   "id": "7be2e070-60bc-4785-9d07-a30ce70a6370",
   "metadata": {},
   "outputs": [],
   "source": []
  }
 ],
 "metadata": {
  "kernelspec": {
   "display_name": "Python 3 (ipykernel)",
   "language": "python",
   "name": "python3"
  },
  "language_info": {
   "codemirror_mode": {
    "name": "ipython",
    "version": 3
   },
   "file_extension": ".py",
   "mimetype": "text/x-python",
   "name": "python",
   "nbconvert_exporter": "python",
   "pygments_lexer": "ipython3",
   "version": "3.12.2"
  }
 },
 "nbformat": 4,
 "nbformat_minor": 5
}

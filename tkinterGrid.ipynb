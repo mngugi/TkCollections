{
 "cells": [
  {
   "cell_type": "markdown",
   "id": "c2d17612-5210-4d2a-bfce-86da7e76c37b",
   "metadata": {},
   "source": [
    "### Tkinter Grid\n",
    "\n",
    "how to use the Tkinter grid geometry manager to position widgets on a window.\n",
    "\n",
    "**Introduction to the Tkinter grid geometry manager**\n",
    "\n",
    "The grid geometry manager uses the concepts of rows and columns to arrange the widgets.\n",
    "\n",
    "The following shows a grid that consists of four rows and three columns:"
   ]
  },
  {
   "cell_type": "code",
   "execution_count": 2,
   "id": "8812fc7f-6f8e-417c-9aea-41bdcc4986e3",
   "metadata": {},
   "outputs": [],
   "source": [
    "from PIL import Image\n",
    "\n",
    "# Load the image\n",
    "image = Image.open(\"GridImage.png\")\n",
    "\n",
    "# Show the image\n",
    "image.show()"
   ]
  },
  {
   "cell_type": "markdown",
   "id": "46a356a6-b7f6-4e93-a0a7-0a1bb1381634",
   "metadata": {},
   "source": [
    "Each row and column in the grid is identified by an index. By default, the first row has an index of zero, the second row has an index of one, and so on. Likewise, the columns in the grid have indexes of zero, one, two, etc.\n",
    "\n",
    "The indexes of rows and columns in a grid don’t have to start at zero. In addition, the row and column indexes can have gaps.\n",
    "\n",
    "For example, you can have a grid whose column indexes are 1, 2, 10, 11, and 12. This is useful when you plan to add more widgets in the middle of the grid later.\n",
    "\n",
    "The intersection of a row and a column is called a cell. A cell is an area where you can place a widget. A cell can hold only one widget. If you place two widgets in a cell, they’ll be on top of each other.\n",
    "\n",
    "To place multiple widgets in a cell, you use a Frame or LabelFrame to wrap the widgets and place the Frame or LabelFrame on the cell.\n",
    "\n",
    "The width of a column depends on the width of the widget it contains. Similarly, the height of a row depends on the height of the widgets contained within the row.\n",
    "\n",
    "Rows and columns can span. The following illustrates a grid that has the cell (1,1) that spans two columns and the cell (0,2) that spans two rows:"
   ]
  },
  {
   "cell_type": "code",
   "execution_count": 2,
   "id": "397a3ba1-03f8-4b7e-bf8a-d606d943975e",
   "metadata": {},
   "outputs": [],
   "source": [
    "from PIL import Image\n",
    "\n",
    "# Load the image\n",
    "image = Image.open(\"Grid2Iamage.png\")\n",
    "\n",
    "# Show the image\n",
    "image.show()"
   ]
  },
  {
   "cell_type": "markdown",
   "id": "36f640fc-a18b-49f1-ae25-d12014632b8f",
   "metadata": {},
   "source": [
    "**Setting up the grid**\n",
    "\n",
    "Before positioning widgets on a grid, you’ll need to configure the rows and columns of the grid.\n",
    "\n",
    "Tkinter provides you with two methods for configuring grid rows and columns:\n",
    "```\n",
    "container.columnconfigure(index, weight)\n",
    "container.rowconfigure(index, weight)\n",
    "```\n",
    "The columnconfigure() method configures the column index of a grid.\n",
    "\n",
    "The weight determines how wide the column will occupy, which is relative to other columns.\n",
    "\n",
    "For example, a column with a weight of 2 will be twice as wide as a column with a weight of 1.\n",
    "\n",
    "**Positioning a widget on the grid**\n",
    "To place a widget on the grid, you use the widget’s grid() method:\n",
    "\n",
    "`widget.grid(**options)`"
   ]
  },
  {
   "cell_type": "markdown",
   "id": "e8574095-684f-41cf-bbe6-3a38dc155c50",
   "metadata": {},
   "source": [
    "The grid() method has the following parameters:\n",
    "\n",
    "| Parameter   | Meaning |\n",
    "|------------|---------|\n",
    "| **column** | The column index where you want to place the widget. |\n",
    "| **row** | The row index where you want to place the widget. |\n",
    "| **rowspan** | Set the number of adjacent rows that the widget can span. |\n",
    "| **columnspan** | Set the number of adjacent columns that the widget can span. |\n",
    "| **sticky** | If the cell is larger than the widget, the sticky option specifies which side the widget should stick to and how to distribute any extra space within the cell that is not taken up by the widget at its original size. |\n",
    "| **padx** | Add external padding to the left and right of the widget. |\n",
    "| **pady** | Add external padding above and below the widget. |\n",
    "| **ipadx** | Add internal padding inside the widget from the left and right sides. |\n",
    "| **ipady** | Add internal padding inside the widget from the top and bottom sides. |\n"
   ]
  },
  {
   "cell_type": "markdown",
   "id": "55c1e453-9675-4217-a668-29f507d1c0b6",
   "metadata": {},
   "source": [
    "**Sticky**\n",
    "\n",
    "By default, when a cell is larger than the widget it contains, the grid geometry manager places the widget at the center of the cell horizontally and vertically.\n",
    "\n"
   ]
  },
  {
   "cell_type": "code",
   "execution_count": 4,
   "id": "6a62bbed-5c20-4ea9-bde5-ce4848cbfe5e",
   "metadata": {},
   "outputs": [],
   "source": [
    "from PIL import Image\n",
    "\n",
    "# Load the image\n",
    "image = Image.open(\"sticky.png\")\n",
    "\n",
    "# Show the image\n",
    "image.show()"
   ]
  },
  {
   "cell_type": "markdown",
   "id": "0a6f0833-615a-4741-bd4a-39ba52f3a23c",
   "metadata": {},
   "source": [
    "To change this default behavior, you can use the sticky option. The sticky option specifies which edge of the cell the widget should stick to.\n",
    "\n",
    "The value of the sticky has the following valid values:\n",
    "| Sticky | Description |\n",
    "|--------|------------|\n",
    "| **N**  | North or Top Center |\n",
    "| **S**  | South or Bottom Center |\n",
    "| **E**  | East or Right Center |\n",
    "| **W**  | West or Left Center |\n",
    "| **NW** | North West or Top Left |\n",
    "| **NE** | North East or Top Right |\n",
    "| **SE** | South East or Bottom Right |\n",
    "| **SW** | South West or Bottom Left |\n",
    "| **NS** | Stretches the widget vertically while keeping it centered horizontally. |\n",
    "| **EW** | Stretches the widget horizontally while keeping it centered vertically. |\n"
   ]
  },
  {
   "cell_type": "markdown",
   "id": "a090c3ea-1491-4df2-9564-b1d84c67a336",
   "metadata": {},
   "source": [
    "If you want to position the widget in the corner of the cell, you can use the N, S, E, and W.\n",
    "\n",
    "The following example illustrates how to position a widget with the sticky option set to N:"
   ]
  },
  {
   "cell_type": "code",
   "execution_count": 1,
   "id": "c491b49d-6d80-456b-bce8-38f9bc86e6ac",
   "metadata": {},
   "outputs": [],
   "source": [
    "from PIL import Image\n",
    "\n",
    "# Load the image\n",
    "image = Image.open(\"sticksetN.png\")\n",
    "\n",
    "# Show the image\n",
    "image.show()"
   ]
  },
  {
   "cell_type": "markdown",
   "id": "5561cd9b-0c65-4a7b-ae11-b51919706b4f",
   "metadata": {},
   "source": [
    "If you want to position the widget centered against one side of the cell, you can use the NW (top left), NE (top right), SE (bottom right), and SW (bottom left).\n",
    "\n",
    "The following example shows how to position a widget with the sticky option set to NW:"
   ]
  },
  {
   "cell_type": "code",
   "execution_count": 3,
   "id": "fa89a575-f95e-44a9-ae01-94b2dbef5d67",
   "metadata": {},
   "outputs": [],
   "source": [
    "from PIL import Image\n",
    "\n",
    "# Load the image\n",
    "image = Image.open(\"sticksetNW.png\")\n",
    "\n",
    "# Show the image\n",
    "image.show()"
   ]
  },
  {
   "cell_type": "markdown",
   "id": "c0b97a96-cd2c-41b1-aea0-731c66db2eaa",
   "metadata": {},
   "source": [
    "NS stretches the widget vertically. However, it leaves the widget centered horizontally:"
   ]
  },
  {
   "cell_type": "code",
   "execution_count": null,
   "id": "5ec70161-7b92-4f6f-879f-965895e07f95",
   "metadata": {},
   "outputs": [],
   "source": [
    "from PIL import Image\n",
    "\n",
    "# Load the image\n",
    "image = Image.open(\"sticksetNS.png\")\n",
    "\n",
    "# Show the image\n",
    "image.show()"
   ]
  }
 ],
 "metadata": {
  "kernelspec": {
   "display_name": "Python 3 (ipykernel)",
   "language": "python",
   "name": "python3"
  },
  "language_info": {
   "codemirror_mode": {
    "name": "ipython",
    "version": 3
   },
   "file_extension": ".py",
   "mimetype": "text/x-python",
   "name": "python",
   "nbconvert_exporter": "python",
   "pygments_lexer": "ipython3",
   "version": "3.12.2"
  }
 },
 "nbformat": 4,
 "nbformat_minor": 5
}

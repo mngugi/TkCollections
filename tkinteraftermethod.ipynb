{
 "cells": [
  {
   "cell_type": "markdown",
   "id": "ca9cfe67-66b1-4478-9037-3c6bf3f97616",
   "metadata": {},
   "source": [
    "**Introduction to Tkinter after() method**\n",
    "\n",
    "All Tkinter widgets have the after() method with the following syntax:\n",
    "\n",
    "`widget.after(delay, callback=None)`\n",
    "\n",
    "The after() method calls the callback function once after a delay milliseconds (ms) within Tkinter’s main loop.\n",
    "\n",
    "If you don’t provide the callback, the after() method behaves like the time.sleep() function. However, the after() method uses the millisecond instead of the second as the unit.\n",
    "\n",
    "**Tkinter after() method example**\n",
    "\n",
    "Let’s see the following program:"
   ]
  },
  {
   "cell_type": "code",
   "execution_count": 1,
   "id": "bd5a361e-600d-4fc7-a6d1-7b1e219d0a70",
   "metadata": {},
   "outputs": [],
   "source": [
    "import tkinter as tk\n",
    "from tkinter import ttk\n",
    "import time\n",
    "\n",
    "\n",
    "class App(tk.Tk):\n",
    "    def __init__(self):\n",
    "        super().__init__()\n",
    "\n",
    "        self.title('Tkinter after() Demo')\n",
    "        self.geometry('300x100')\n",
    "\n",
    "        self.style = ttk.Style(self)\n",
    "\n",
    "        self.button = ttk.Button(self, text='Wait 3 seconds')\n",
    "        self.button['command'] = self.start\n",
    "        self.button.pack(expand=True, ipadx=10, ipady=5)\n",
    "\n",
    "    def start(self):\n",
    "        self.change_button_color('red')\n",
    "        time.sleep(3)\n",
    "        self.change_button_color('black')\n",
    "\n",
    "    def change_button_color(self, color):\n",
    "        self.style.configure('TButton', foreground=color)\n",
    "\n",
    "\n",
    "if __name__ == \"__main__\":\n",
    "    app = App()\n",
    "    app.mainloop()"
   ]
  },
  {
   "cell_type": "markdown",
   "id": "5f417e0c-33be-424c-9f76-532bb2847007",
   "metadata": {},
   "source": [
    "The program consists of a button. When you click the button:\n",
    "\n",
    "- First, the color of the button turns red.\n",
    "- Then, the program sleeps for 3 seconds.\n",
    "- Finally, the color of the button turns black.\n",
    "  \n",
    "However, when you run the program and click the button, you’ll notice that the color of the button doesn’t change at all. Also, the window freezes for 3 seconds like this.\n",
    "\n",
    "The reason was that the sleep() function suspended the main thread execution. Therefore, Tkinter couldn’t update the GUI.\n",
    "\n",
    "To fix the issue, you can use the after() method to schedule the action that updates the color of the button instead of suspending the main thread execution. For example:"
   ]
  },
  {
   "cell_type": "code",
   "execution_count": null,
   "id": "de46122b-1b2c-409e-ae8e-f612105e6bfe",
   "metadata": {},
   "outputs": [],
   "source": [
    "import tkinter as tk\n",
    "from tkinter import ttk\n",
    "import time\n",
    "\n",
    "\n",
    "class App(tk.Tk):\n",
    "    def __init__(self):\n",
    "        super().__init__()\n",
    "\n",
    "        self.title('Tkinter after() Demo')\n",
    "        self.geometry('300x100')\n",
    "\n",
    "        self.style = ttk.Style(self)\n",
    "\n",
    "        self.button = ttk.Button(self, text='Wait 3 seconds')\n",
    "        self.button['command'] = self.start\n",
    "        self.button.pack(expand=True, ipadx=10, ipady=5)\n",
    "\n",
    "    def start(self):\n",
    "        self.change_button_color('red')\n",
    "        self.after(3000,lambda: self.change_button_color('black'))\n",
    "\n",
    "\n",
    "    def change_button_color(self, color):\n",
    "        self.style.configure('TButton', foreground=color)\n",
    "        print(color)\n",
    "\n",
    "\n",
    "if __name__ == \"__main__\":\n",
    "    app = App()\n",
    "    app.mainloop()"
   ]
  }
 ],
 "metadata": {
  "kernelspec": {
   "display_name": "Python 3 (ipykernel)",
   "language": "python",
   "name": "python3"
  },
  "language_info": {
   "codemirror_mode": {
    "name": "ipython",
    "version": 3
   },
   "file_extension": ".py",
   "mimetype": "text/x-python",
   "name": "python",
   "nbconvert_exporter": "python",
   "pygments_lexer": "ipython3",
   "version": "3.12.2"
  }
 },
 "nbformat": 4,
 "nbformat_minor": 5
}

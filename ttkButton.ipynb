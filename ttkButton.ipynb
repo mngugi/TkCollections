{
 "cells": [
  {
   "cell_type": "markdown",
   "id": "69e49fee-d071-47e9-b96f-2c53bf35a830",
   "metadata": {},
   "source": [
    "### Buttons\n",
    "- The follwoing button types are found in ttkinter:\n",
    "- Button\n",
    "- Checkbutton\n",
    "- Menubutton\n",
    "- Radiobutton"
   ]
  },
  {
   "cell_type": "markdown",
   "id": "902df166-24f0-47ed-abed-782084f98d6d",
   "metadata": {},
   "source": [
    "### Introduction to the Tkinter Button widget\n",
    "- Button widgets represent a clickable item in the applications. Typically, you use text or an image to display the action that will be performed when clicked.\n",
    "\n",
    "- Buttons can display text in a single font. However, the text can span multiple lines. On top of that, you can make one of the characters underline to mark a keyboard shortcut.\n",
    "\n",
    "- To invoke a function or a method of a class automatically when the button is clicked, you assign its command option to the function or method. This is called the command binding in Tkinter.\n",
    "\n",
    "To create a button, you use the ttk.Button constructor as follows:\n",
    "\n",
    "`button = ttk.Button(master, **option)`\n",
    "\n",
    "A button has many options. However, the typical ones are like this:\n",
    "\n",
    "`button = ttk.Button(master, text, command)`\n",
    "Code language: Python (python)\n",
    "In this syntax:\n",
    "\n",
    "- The master is the parent widget on which you place the button.\n",
    "- The text is the label of the button.\n",
    "- The command specifies a callback function that will be called automatically when the button is clicked.\n",
    "### Command callback\n",
    "The command option associates the button’s action with a function or a method of a class. When you click or press the button, it’ll automatically invoke a callback function.\n",
    "\n",
    "To assign a callback to the command option, you can use a lambda expression:"
   ]
  },
  {
   "cell_type": "code",
   "execution_count": 8,
   "id": "b5df0a69-a946-40f6-a6ea-f567089c85a8",
   "metadata": {},
   "outputs": [
    {
     "ename": "TclError",
     "evalue": "image \"pyimage3\" doesn't exist",
     "output_type": "error",
     "traceback": [
      "\u001b[0;31m---------------------------------------------------------------------------\u001b[0m",
      "\u001b[0;31mTclError\u001b[0m                                  Traceback (most recent call last)",
      "Cell \u001b[0;32mIn[8], line 28\u001b[0m\n\u001b[1;32m     25\u001b[0m download_icon \u001b[38;5;241m=\u001b[39m tk\u001b[38;5;241m.\u001b[39mPhotoImage(file\u001b[38;5;241m=\u001b[39mimage_path)\n\u001b[1;32m     27\u001b[0m \u001b[38;5;66;03m# Create the button with the image\u001b[39;00m\n\u001b[0;32m---> 28\u001b[0m download_button \u001b[38;5;241m=\u001b[39m ttk\u001b[38;5;241m.\u001b[39mButton(\n\u001b[1;32m     29\u001b[0m     root,\n\u001b[1;32m     30\u001b[0m     image\u001b[38;5;241m=\u001b[39mdownload_icon,\n\u001b[1;32m     31\u001b[0m     command\u001b[38;5;241m=\u001b[39mdownload_clicked\n\u001b[1;32m     32\u001b[0m )\n\u001b[1;32m     33\u001b[0m download_button\u001b[38;5;241m.\u001b[39mimage \u001b[38;5;241m=\u001b[39m download_icon  \u001b[38;5;66;03m# Prevent garbage collection\u001b[39;00m\n\u001b[1;32m     35\u001b[0m download_button\u001b[38;5;241m.\u001b[39mpack(ipadx\u001b[38;5;241m=\u001b[39m\u001b[38;5;241m5\u001b[39m, ipady\u001b[38;5;241m=\u001b[39m\u001b[38;5;241m5\u001b[39m, expand\u001b[38;5;241m=\u001b[39m\u001b[38;5;28;01mTrue\u001b[39;00m)\n",
      "File \u001b[0;32m~/anaconda3/lib/python3.12/tkinter/ttk.py:582\u001b[0m, in \u001b[0;36mButton.__init__\u001b[0;34m(self, master, **kw)\u001b[0m\n\u001b[1;32m    570\u001b[0m \u001b[38;5;28;01mdef\u001b[39;00m \u001b[38;5;21m__init__\u001b[39m(\u001b[38;5;28mself\u001b[39m, master\u001b[38;5;241m=\u001b[39m\u001b[38;5;28;01mNone\u001b[39;00m, \u001b[38;5;241m*\u001b[39m\u001b[38;5;241m*\u001b[39mkw):\n\u001b[1;32m    571\u001b[0m \u001b[38;5;250m    \u001b[39m\u001b[38;5;124;03m\"\"\"Construct a Ttk Button widget with the parent master.\u001b[39;00m\n\u001b[1;32m    572\u001b[0m \n\u001b[1;32m    573\u001b[0m \u001b[38;5;124;03m    STANDARD OPTIONS\u001b[39;00m\n\u001b[0;32m   (...)\u001b[0m\n\u001b[1;32m    580\u001b[0m \u001b[38;5;124;03m        command, default, width\u001b[39;00m\n\u001b[1;32m    581\u001b[0m \u001b[38;5;124;03m    \"\"\"\u001b[39;00m\n\u001b[0;32m--> 582\u001b[0m     Widget\u001b[38;5;241m.\u001b[39m\u001b[38;5;21m__init__\u001b[39m(\u001b[38;5;28mself\u001b[39m, master, \u001b[38;5;124m\"\u001b[39m\u001b[38;5;124mttk::button\u001b[39m\u001b[38;5;124m\"\u001b[39m, kw)\n",
      "File \u001b[0;32m~/anaconda3/lib/python3.12/tkinter/ttk.py:527\u001b[0m, in \u001b[0;36mWidget.__init__\u001b[0;34m(self, master, widgetname, kw)\u001b[0m\n\u001b[1;32m    507\u001b[0m \u001b[38;5;250m\u001b[39m\u001b[38;5;124;03m\"\"\"Constructs a Ttk Widget with the parent master.\u001b[39;00m\n\u001b[1;32m    508\u001b[0m \n\u001b[1;32m    509\u001b[0m \u001b[38;5;124;03mSTANDARD OPTIONS\u001b[39;00m\n\u001b[0;32m   (...)\u001b[0m\n\u001b[1;32m    524\u001b[0m \u001b[38;5;124;03m    readonly, alternate, invalid\u001b[39;00m\n\u001b[1;32m    525\u001b[0m \u001b[38;5;124;03m\"\"\"\u001b[39;00m\n\u001b[1;32m    526\u001b[0m master \u001b[38;5;241m=\u001b[39m setup_master(master)\n\u001b[0;32m--> 527\u001b[0m tkinter\u001b[38;5;241m.\u001b[39mWidget\u001b[38;5;241m.\u001b[39m\u001b[38;5;21m__init__\u001b[39m(\u001b[38;5;28mself\u001b[39m, master, widgetname, kw\u001b[38;5;241m=\u001b[39mkw)\n",
      "File \u001b[0;32m~/anaconda3/lib/python3.12/tkinter/__init__.py:2648\u001b[0m, in \u001b[0;36mBaseWidget.__init__\u001b[0;34m(self, master, widgetName, cnf, kw, extra)\u001b[0m\n\u001b[1;32m   2646\u001b[0m \u001b[38;5;28;01mfor\u001b[39;00m k, v \u001b[38;5;129;01min\u001b[39;00m classes:\n\u001b[1;32m   2647\u001b[0m     \u001b[38;5;28;01mdel\u001b[39;00m cnf[k]\n\u001b[0;32m-> 2648\u001b[0m \u001b[38;5;28mself\u001b[39m\u001b[38;5;241m.\u001b[39mtk\u001b[38;5;241m.\u001b[39mcall(\n\u001b[1;32m   2649\u001b[0m     (widgetName, \u001b[38;5;28mself\u001b[39m\u001b[38;5;241m.\u001b[39m_w) \u001b[38;5;241m+\u001b[39m extra \u001b[38;5;241m+\u001b[39m \u001b[38;5;28mself\u001b[39m\u001b[38;5;241m.\u001b[39m_options(cnf))\n\u001b[1;32m   2650\u001b[0m \u001b[38;5;28;01mfor\u001b[39;00m k, v \u001b[38;5;129;01min\u001b[39;00m classes:\n\u001b[1;32m   2651\u001b[0m     k\u001b[38;5;241m.\u001b[39mconfigure(\u001b[38;5;28mself\u001b[39m, v)\n",
      "\u001b[0;31mTclError\u001b[0m: image \"pyimage3\" doesn't exist"
     ]
    }
   ],
   "source": [
    "import tkinter as tk\n",
    "from tkinter import ttk\n",
    "from tkinter.messagebox import showinfo\n",
    "import os\n",
    "\n",
    "# Root window\n",
    "root = tk.Tk()\n",
    "root.geometry('300x200')\n",
    "root.resizable(False, False)\n",
    "root.title('Image Button Demo')\n",
    "\n",
    "# Download button\n",
    "def download_clicked():\n",
    "    showinfo(\n",
    "        title='Information',\n",
    "        message='Download button clicked!'\n",
    "    )\n",
    "\n",
    "# Check if the image file exists\n",
    "image_path = os.path.join('/GitHub/TkCollections/', 'pyIcon.png')\n",
    "if not os.path.exists(image_path):\n",
    "    print(f\"Error: Image not found at '{image_path}'\")\n",
    "\n",
    "# Load the image\n",
    "download_icon = tk.PhotoImage(file=image_path)\n",
    "\n",
    "# Create the button with the image\n",
    "download_button = ttk.Button(\n",
    "    root,\n",
    "    image=download_icon,\n",
    "    command=download_clicked\n",
    ")\n",
    "download_button.image = download_icon  # Prevent garbage collection\n",
    "\n",
    "download_button.pack(ipadx=5, ipady=5, expand=True)\n",
    "\n",
    "root.mainloop()\n"
   ]
  },
  {
   "cell_type": "code",
   "execution_count": null,
   "id": "ed1d9c0d-91ad-44d3-9a52-63deaad2ac8e",
   "metadata": {},
   "outputs": [],
   "source": []
  }
 ],
 "metadata": {
  "kernelspec": {
   "display_name": "Python 3 (ipykernel)",
   "language": "python",
   "name": "python3"
  },
  "language_info": {
   "codemirror_mode": {
    "name": "ipython",
    "version": 3
   },
   "file_extension": ".py",
   "mimetype": "text/x-python",
   "name": "python",
   "nbconvert_exporter": "python",
   "pygments_lexer": "ipython3",
   "version": "3.12.2"
  }
 },
 "nbformat": 4,
 "nbformat_minor": 5
}

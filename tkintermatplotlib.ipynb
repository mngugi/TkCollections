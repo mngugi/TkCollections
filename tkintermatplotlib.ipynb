{
 "cells": [
  {
   "cell_type": "markdown",
   "id": "30bfce33-166a-4a3a-8022-d6ba31de1f93",
   "metadata": {},
   "source": [
    "**Display a bar chart from matplotlib in Tkinter applications**\n",
    "\n",
    "Matplotlib is a third-party library for creating professional visualizations in Python. Since Matplotlib is a third-party library, you need to install it before use.\n",
    "\n",
    "The following program uses the matplotlib to create a bar chart that shows the top five programming languages by popularity."
   ]
  },
  {
   "cell_type": "code",
   "execution_count": null,
   "id": "9adaf34f-3eb1-43cf-a398-987140964dd8",
   "metadata": {},
   "outputs": [],
   "source": [
    "import tkinter as tk\n",
    "import matplotlib\n",
    "\n",
    "# Use TkAgg for embedding Matplotlib in Tkinter\n",
    "matplotlib.use('TkAgg')\n",
    "\n",
    "from matplotlib.figure import Figure\n",
    "from matplotlib.backends.backend_tkagg import (\n",
    "    FigureCanvasTkAgg,\n",
    "    NavigationToolbar2Tk\n",
    ")\n",
    "\n",
    "\n",
    "class App(tk.Tk):\n",
    "    def __init__(self):\n",
    "        super().__init__()\n",
    "\n",
    "        self.title('Tkinter Matplotlib Demo')\n",
    "        self.geometry(\"700x500\")\n",
    "\n",
    "        self.create_widgets()\n",
    "\n",
    "    def create_widgets(self):\n",
    "        # Data for bar chart\n",
    "        data = {\n",
    "            'Python': 11.27,\n",
    "            'C': 11.16,\n",
    "            'Java': 10.46,\n",
    "            'C++': 7.5,\n",
    "            'C#': 5.26\n",
    "        }\n",
    "        languages = list(data.keys())\n",
    "        popularity = list(data.values())\n",
    "\n",
    "        # Create a figure for the plot\n",
    "        figure = Figure(figsize=(6, 4), dpi=100)\n",
    "        axes = figure.add_subplot()\n",
    "\n",
    "        # Create bar chart\n",
    "        axes.bar(languages, popularity, color='skyblue')\n",
    "        axes.set_title('Top 5 Programming Languages')\n",
    "        axes.set_ylabel('Popularity (%)')\n",
    "\n",
    "        # Embed Matplotlib figure into Tkinter\n",
    "        figure_canvas = FigureCanvasTkAgg(figure, self)\n",
    "        figure_canvas.get_tk_widget().pack(side=tk.TOP, fill=tk.BOTH, expand=True)\n",
    "\n",
    "        # Add navigation toolbar\n",
    "        toolbar = NavigationToolbar2Tk(figure_canvas, self)\n",
    "        toolbar.update()\n",
    "        toolbar.pack(side=tk.BOTTOM, fill=tk.X)\n",
    "\n",
    "\n",
    "if __name__ == '__main__':\n",
    "    app = App()\n",
    "    app.mainloop()\n"
   ]
  }
 ],
 "metadata": {
  "kernelspec": {
   "display_name": "Python 3 (ipykernel)",
   "language": "python",
   "name": "python3"
  },
  "language_info": {
   "codemirror_mode": {
    "name": "ipython",
    "version": 3
   },
   "file_extension": ".py",
   "mimetype": "text/x-python",
   "name": "python",
   "nbconvert_exporter": "python",
   "pygments_lexer": "ipython3",
   "version": "3.12.2"
  }
 },
 "nbformat": 4,
 "nbformat_minor": 5
}

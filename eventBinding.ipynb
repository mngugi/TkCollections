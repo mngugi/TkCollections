{
 "cells": [
  {
   "cell_type": "markdown",
   "id": "2f564e39-45f7-4bc6-9d0e-9f5b50844d0c",
   "metadata": {},
   "source": [
    "### Introduction to the Tkinter event binding\n",
    "Assigning a function to an event of a widget is known as event binding. The assigned function is invoked automatically when the event occurs.\n",
    "\n",
    "In the previous tutorial, you learned how to bind a function to an event of a widget via the command option. However, it’s important to note that not all Tkinter widgets support the command option.\n",
    "\n",
    "Therefore, Tkinter provides you with an alternative way for event binding via the bind() method.\n",
    "\n",
    "The following shows the general syntax of the bind() method:\n",
    "\n",
    "`widget.bind(event, handler, add=None)`\n",
    "\n",
    "When an event occurs in the widget, Tkinter will automatically invoke the handler with the event details.\n",
    "\n",
    "If you want to register an additional handler, you can pass the '+' to the add argument. This allows you to have multiple event handlers responding to the same event."
   ]
  },
  {
   "cell_type": "code",
   "execution_count": null,
   "id": "8cf42bae-8394-47b4-a153-351af433c1da",
   "metadata": {},
   "outputs": [],
   "source": [
    "import tkinter as tk\n",
    "from tkinter import ttk\n",
    "\n",
    "def return_pressed(event):\n",
    "    print('Return pressed key')\n",
    "\n",
    "root = tk.Tk()\n",
    "\n"
   ]
  }
 ],
 "metadata": {
  "kernelspec": {
   "display_name": "Python 3 (ipykernel)",
   "language": "python",
   "name": "python3"
  },
  "language_info": {
   "codemirror_mode": {
    "name": "ipython",
    "version": 3
   },
   "file_extension": ".py",
   "mimetype": "text/x-python",
   "name": "python",
   "nbconvert_exporter": "python",
   "pygments_lexer": "ipython3",
   "version": "3.12.2"
  }
 },
 "nbformat": 4,
 "nbformat_minor": 5
}

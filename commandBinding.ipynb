{
 "cells": [
  {
   "cell_type": "markdown",
   "id": "e3577039-9a8b-424c-aa55-44155f387832",
   "metadata": {},
   "source": [
    "### Introduction to Tkinter command binding\n",
    "To make the application more interactive, the widgets need to respond to the events such as:\n",
    "\n",
    "- Mouse clicks\n",
    "- Key presses\n",
    "This requires assigning a callback function to a specific event. When the event occurs, the callback will be invoked automatically to handle the event.\n",
    "\n",
    "In Tkinter, some widgets allow you to associate a callback function with an event using the command binding.\n",
    "\n",
    "It means that you can assign the name of a function to the command option of the widget so that when the event occurs on the widget, the function will be called automatically.\n",
    "\n",
    "To use the command binding, you follow these steps:\n",
    "\n",
    "- First, define a function as a callback.\n",
    "- Then, assign the name of the function to the command option of the widget.\n"
   ]
  },
  {
   "cell_type": "code",
   "execution_count": 1,
   "id": "00fe722b-4205-4f1a-af27-b3de93508e65",
   "metadata": {},
   "outputs": [],
   "source": [
    "def button_clicked():\n",
    "    print('Button clicked')"
   ]
  },
  {
   "cell_type": "markdown",
   "id": "f0987838-e13f-4d94-8582-efa233eb296c",
   "metadata": {},
   "source": [
    "Associate the function with the command option of a button widget:\n",
    "`ttk.Button(root, text='Click Me',command=button_clicked)`\n",
    "\n",
    "Note that you pass the callback without parentheses () within the command option. Otherwise, the callback would be called as soon as the program runs.\n",
    "\n",
    "The following program illustrates how to associate the button_clicked callback function with the Button widget:"
   ]
  },
  {
   "cell_type": "code",
   "execution_count": 3,
   "id": "ec6f6049-a74d-4717-937b-5295150ad1e6",
   "metadata": {},
   "outputs": [
    {
     "name": "stdout",
     "output_type": "stream",
     "text": [
      "Button clicked\n"
     ]
    }
   ],
   "source": [
    "import tkinter as tk\n",
    "from tkinter import ttk\n",
    "\n",
    "root = tk.Tk()\n",
    "root.geometry('600x400+50+50')\n",
    "\n",
    "def button_clicked():\n",
    "    print('Button clicked')\n",
    "\n",
    "button = ttk.Button(root, text='Action', command=button_clicked)\n",
    "button.pack()\n",
    "\n",
    "root.mainloop()\n"
   ]
  },
  {
   "cell_type": "markdown",
   "id": "968ba6fd-7d10-4e6f-9d13-44309979b674",
   "metadata": {},
   "source": [
    "The following program illustrates how to pass an argument to the callback function associated with the button command:"
   ]
  },
  {
   "cell_type": "code",
   "execution_count": 4,
   "id": "5a762432-d23a-4b0f-8f97-ab70b608c203",
   "metadata": {},
   "outputs": [
    {
     "name": "stdout",
     "output_type": "stream",
     "text": [
      "Rock\n",
      "Paper\n",
      "Scissors\n",
      "Rock\n",
      "Paper\n",
      "Scissors\n"
     ]
    }
   ],
   "source": [
    "import tkinter as tk\n",
    "from tkinter import ttk\n",
    "\n",
    "root = tk.Tk()\n",
    "root.geometry('600x400+50+50')\n",
    "\n",
    "def select(option):\n",
    "    print(option)\n",
    "\n",
    "ttk.Button(root, text='Rock', command=lambda: select('Rock')).pack()\n",
    "ttk.Button(root, text='Paper',command=lambda: select('Paper')).pack()\n",
    "ttk.Button(root, text='Scissors', command=lambda: select('Scissors')).pack()\n",
    "\n",
    "root.mainloop()"
   ]
  },
  {
   "cell_type": "code",
   "execution_count": null,
   "id": "ae6c431c-00d4-4700-ae7a-037a710db783",
   "metadata": {},
   "outputs": [],
   "source": []
  }
 ],
 "metadata": {
  "kernelspec": {
   "display_name": "Python 3 (ipykernel)",
   "language": "python",
   "name": "python3"
  },
  "language_info": {
   "codemirror_mode": {
    "name": "ipython",
    "version": 3
   },
   "file_extension": ".py",
   "mimetype": "text/x-python",
   "name": "python",
   "nbconvert_exporter": "python",
   "pygments_lexer": "ipython3",
   "version": "3.12.2"
  }
 },
 "nbformat": 4,
 "nbformat_minor": 5
}

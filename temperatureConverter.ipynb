{
 "cells": [
  {
   "cell_type": "markdown",
   "id": "c4c5ccc4-8565-4305-bda6-803ec9f610d4",
   "metadata": {},
   "source": [
    "**Temperature Converter**\n",
    "\n",
    "Application for temperature converter application to a new one that uses object-oriented programming approach:"
   ]
  },
  {
   "cell_type": "code",
   "execution_count": null,
   "id": "ece3b6a6-3db8-4bdf-89fb-f60a2c2fbb19",
   "metadata": {},
   "outputs": [],
   "source": []
  }
 ],
 "metadata": {
  "kernelspec": {
   "display_name": "Python 3 (ipykernel)",
   "language": "python",
   "name": "python3"
  },
  "language_info": {
   "codemirror_mode": {
    "name": "ipython",
    "version": 3
   },
   "file_extension": ".py",
   "mimetype": "text/x-python",
   "name": "python",
   "nbconvert_exporter": "python",
   "pygments_lexer": "ipython3",
   "version": "3.12.2"
  }
 },
 "nbformat": 4,
 "nbformat_minor": 5
}

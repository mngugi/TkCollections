{
 "cells": [
  {
   "cell_type": "markdown",
   "id": "970200e2-bebb-4c14-9b49-666010217c20",
   "metadata": {},
   "source": [
    "### Tkinter Window\n",
    "* the program below is a simple window program"
   ]
  },
  {
   "cell_type": "code",
   "execution_count": 1,
   "id": "2cf1be87-0a8b-42cc-8b51-0e9d23ed2d58",
   "metadata": {},
   "outputs": [],
   "source": [
    "import tkinter as tk\n",
    "\n",
    "root = tk.Tk()\n",
    "root.mainloop()\n",
    "\n"
   ]
  },
  {
   "cell_type": "markdown",
   "id": "fbdbde7c-eb91-4021-b293-cc7aadaa13be",
   "metadata": {},
   "source": [
    "### Changing the window title\n",
    "- To change the window’s title, you use the title() method like this:"
   ]
  },
  {
   "cell_type": "code",
   "execution_count": 5,
   "id": "5fa632de-8c5d-49b1-bf1e-db3919d4c7d1",
   "metadata": {},
   "outputs": [],
   "source": [
    "import tkinter as tk\n",
    "\n",
    "root = tk.Tk()\n",
    "root.title(\"Demo Window\")\n",
    "\n",
    "root.mainloop()"
   ]
  },
  {
   "cell_type": "markdown",
   "id": "087f41c2-61c3-4ceb-b410-8a4c57a8e69e",
   "metadata": {},
   "source": [
    "### Changing window size and location\n",
    "- In Tkinter, the position and size of a window on the screen is determined by its geometry.\n",
    "\n",
    "- The following shows the geometry specification:"
   ]
  },
  {
   "cell_type": "markdown",
   "id": "fe1b47d7-108b-4acc-b1c7-d31e956dbb12",
   "metadata": {},
   "source": [
    "`widthxheight±x±y`\n",
    "- The width represents the window’s width in pixels.\n",
    "- The height represents the window’s height in pixels.\n",
    "- The x parameter denotes the window’s horizontal position. For example, a value of +50 signifies the left edge of the window should be positioned 50 pixels from the left edge of the screen. Conversely, a value of -50 indicates the right edge of the window should be 50 pixels from the right edge of the screen.\n",
    "- The y paremeter denotes the window’s vertical position. For example, a value of +50 signifies the top edge of the window should be positioned 50 pixels below the top of the screen. Conversely, a value of -50 indicates the bottom edge of the window should be 50 pixels above the bottom of the screen."
   ]
  },
  {
   "cell_type": "code",
   "execution_count": null,
   "id": "e14f785a-0504-48be-ad64-61248b9426ce",
   "metadata": {},
   "outputs": [],
   "source": [
    "import tkinter as tk\n",
    "from PIL import Image, ImageTk  # Import Pillow for image handling\n",
    "\n",
    "# Initialize the main application window\n",
    "root = tk.Tk()\n",
    "\n",
    "# Load the image\n",
    "image_path = \"Pasted image.png\"  # Change this to your actual image file\n",
    "image = Image.open(image_path)\n",
    "image = image.resize((300, 200))  # Resize if needed\n",
    "photo = ImageTk.PhotoImage(image)\n",
    "\n",
    "# Create a Label widget with an image\n",
    "image_label = tk.Label(root, image=photo)\n",
    "image_label.pack()\n",
    "\n",
    "# Create a text label\n",
    "message = tk.Label(root, fg=\"green\", text=\"Philadelphia Eagles are Champions\")\n",
    "message.pack()\n",
    "\n",
    "# Keep a reference to the image\n",
    "image_label.image = photo  \n",
    "\n",
    "# Start the Tkinter event loop\n",
    "root.mainloop()"
   ]
  },
  {
   "cell_type": "markdown",
   "id": "e3a5386d-8f8a-4f44-a178-d825f83e5e3d",
   "metadata": {},
   "source": [
    "To change the size and position of a window, you use the geometry() method:\n",
    "`window.geometry(new_geometry)`"
   ]
  },
  {
   "cell_type": "code",
   "execution_count": 9,
   "id": "4be15965-66bc-4934-9155-aa026e295f8e",
   "metadata": {},
   "outputs": [],
   "source": [
    "import tkinter as tk\n",
    "\n",
    "root = tk.Tk()\n",
    "root.title(\"Demo Window\")\n",
    "root.geometry('600x400+50+50')\n",
    "\n",
    "root.mainloop()"
   ]
  },
  {
   "cell_type": "markdown",
   "id": "2b8adc7c-d3d8-4035-a984-518c3c1b20f1",
   "metadata": {},
   "source": [
    "- The following example changes the size of the window to 600x400 and the position of the window to 50 pixels from the top and left of the screen:"
   ]
  },
  {
   "cell_type": "markdown",
   "id": "eb80d8b9-0d5a-4540-9fbf-707d6629d4d0",
   "metadata": {},
   "source": [
    "- Sometimes, you may want to center the window on the screen. The following program illustrates how to do it:"
   ]
  },
  {
   "cell_type": "code",
   "execution_count": 11,
   "id": "296db42c-8a2f-4849-9878-2994747845f8",
   "metadata": {},
   "outputs": [],
   "source": [
    "import tkinter as tk\n",
    "\n",
    "root = tk.Tk()\n",
    "root.title(\"Demo Window\")\n",
    "\n",
    "window_width = 300\n",
    "window_height = 200\n",
    "\n",
    "screen_width = root.winfo_screenwidth()\n",
    "screen_height = root.winfo_screenheight()\n",
    "\n",
    "center_x = int(screen_width/2 - window_width / 2)\n",
    "center_y = int(screen_height/2 - window_height / 2)\n",
    "\n",
    "# set the position of the window to the center of the screen\n",
    "root.geometry(f'{window_width}x{window_height}+{center_x}+{center_y}')\n",
    "\n",
    "\n",
    "root.mainloop()"
   ]
  },
  {
   "cell_type": "markdown",
   "id": "d26966e6-406f-4123-9964-666ab00846a5",
   "metadata": {},
   "source": [
    "- First, get the screen width and height using the winfo_screenwidth() and winfo_screenheight() methods.\n",
    "- Second, calculate the center coordinate based on the screen and window width and height.\n",
    "- Finally, set the geometry for the root window using the geometry() method.\n",
    "- If you want to get the current geometry of a window, you can use the geometry() method without providing any argument:\n",
    "\n",
    "`window.geometry()`"
   ]
  },
  {
   "cell_type": "code",
   "execution_count": null,
   "id": "0569171a-4e23-4f32-a26a-5c587ed8f678",
   "metadata": {},
   "outputs": [],
   "source": []
  },
  {
   "cell_type": "code",
   "execution_count": null,
   "id": "27c8b12b-ab37-43eb-a353-7d02bf3b1c8a",
   "metadata": {},
   "outputs": [],
   "source": []
  }
 ],
 "metadata": {
  "kernelspec": {
   "display_name": "Python 3 (ipykernel)",
   "language": "python",
   "name": "python3"
  },
  "language_info": {
   "codemirror_mode": {
    "name": "ipython",
    "version": 3
   },
   "file_extension": ".py",
   "mimetype": "text/x-python",
   "name": "python",
   "nbconvert_exporter": "python",
   "pygments_lexer": "ipython3",
   "version": "3.12.2"
  }
 },
 "nbformat": 4,
 "nbformat_minor": 5
}

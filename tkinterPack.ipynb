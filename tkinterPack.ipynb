{
 "cells": [
  {
   "cell_type": "markdown",
   "id": "6a57fc0d-de03-4402-a305-b9517a8ac038",
   "metadata": {},
   "source": [
    "**Introduction to the Tkinter pack geometry manager**\n",
    "\n",
    "Tkinter uses the geometry manager to organize widgets on a window. Tkinter supports three geometry managers:\n",
    "\n",
    "- pack\n",
    "- grid\n",
    "- place\n",
    "The pack geometry manager organizes widgets in blocks before placing them on the container widget, which can be the main window or a frame.\n",
    "\n",
    "The pack geometry manager has many options that arrange the widgets:\n",
    "\n",
    "- Side\n",
    "- Expand\n",
    "- Fill\n",
    "- ipadx, ipady\n",
    "- padx, pady\n",
    "- Anchor\n"
   ]
  },
  {
   "cell_type": "code",
   "execution_count": 4,
   "id": "ce6bf6df-b97f-486c-bb57-f8feb177fdaf",
   "metadata": {},
   "outputs": [],
   "source": [
    "import tkinter as tk\n",
    "\n",
    "root = tk.Tk()\n",
    "root.title(\"Demo Window\")\n",
    "root.geometry('600x400+50+50')\n",
    "\n",
    "label1 = tk.Label(master=root, text='Tkinter', bg='red', fg='yellow')\n",
    "label2 = tk.Label(master=root, text='Pack Layout', bg='orange', fg='blue')\n",
    "label3 = tk.Label(master=root, text='Example', bg='green', fg='white')\n",
    "label4 = tk.Label(master=root, text='Demo', bg='cyan', fg='black')\n",
    "\n",
    "label1.pack()\n",
    "label2.pack()\n",
    "label3.pack()\n",
    "label4.pack()\n",
    "\n",
    "root.mainloop()"
   ]
  },
  {
   "cell_type": "markdown",
   "id": "3d97668c-1e82-45b6-a3f8-18f0880b35dd",
   "metadata": {},
   "source": [
    "**Side**\n",
    "\n",
    "The side parameter determines the direction of the widgets in the pack layout.\n",
    "\n",
    "The side parameter has four options:\n",
    "\n",
    "- 'top': arrange widgets from top to bottom vertically.\n",
    "- 'bottom': arrange widgets from bottom to top vertically.\n",
    "- 'left': arrange widgets from left to right horizontally.\n",
    "- 'right': arrange widgets from right to left horizontally.\n",
    "\n",
    "The side defaults to 'top', arranging the widget vertically from top to bottom.\n",
    "\n",
    "In addition to the string constants, you can use the predefined constants provided by the Tkinter module:\n",
    "\n",
    "- tk.TOP\n",
    "- tk.BOTTOM\n",
    "- tk.LEFT\n",
    "- tk.RIGHT\n",
    "Note that we imported the Tkinter module as tk.\n",
    "\n",
    "The following program explicitly sets the side to 'top' that arranges the labels vertically from top to bottom:"
   ]
  },
  {
   "cell_type": "code",
   "execution_count": 5,
   "id": "1784f341-8a72-4e40-9e75-be7e53bf77e4",
   "metadata": {},
   "outputs": [],
   "source": [
    "import tkinter as tk\n",
    "\n",
    "root = tk.Tk()\n",
    "root.title(\"Demo Window\")\n",
    "root.geometry('600x400+50+50')\n",
    "\n",
    "label1 = tk.Label(master=root, text='Tkinter', bg='red', fg='yellow')\n",
    "label2 = tk.Label(master=root, text='Pack Layout', bg='orange', fg='blue')\n",
    "label3 = tk.Label(master=root, text='Example', bg='green', fg='white')\n",
    "label4 = tk.Label(master=root, text='Demo', bg='cyan', fg='black')\n",
    "\n",
    "label1.pack(side=tk.TOP)\n",
    "label2.pack(side=tk.TOP)\n",
    "label3.pack(side=tk.TOP)\n",
    "label4.pack(side=tk.TOP)\n",
    "\n",
    "root.mainloop()"
   ]
  },
  {
   "cell_type": "markdown",
   "id": "e0e2500d-3ab9-4e4d-8c50-86bde1a5462e",
   "metadata": {},
   "source": [
    "When you change the side to tk.BOTTOM, the pack arranges the labels from bottom to top vertically:\n",
    "\n"
   ]
  },
  {
   "cell_type": "code",
   "execution_count": 7,
   "id": "08cc51fb-5da4-4f7f-9906-c9fdfbd2236a",
   "metadata": {},
   "outputs": [],
   "source": [
    "import tkinter as tk\n",
    "\n",
    "root = tk.Tk()\n",
    "root.title(\"Demo Window\")\n",
    "root.geometry('600x400+50+50')\n",
    "\n",
    "label1 = tk.Label(master=root, text='Tkinter', bg='red', fg='yellow')\n",
    "label2 = tk.Label(master=root, text='Pack Layout', bg='orange', fg='blue')\n",
    "label3 = tk.Label(master=root, text='Example', bg='green', fg='white')\n",
    "label4 = tk.Label(master=root, text='Demo', bg='cyan', fg='black')\n",
    "\n",
    "label1.pack(side=tk.BOTTOM)\n",
    "label2.pack(side=tk.BOTTOM)\n",
    "label3.pack(side=tk.BOTTOM)\n",
    "label4.pack(side=tk.BOTTOM)\n",
    "\n",
    "root.mainloop()"
   ]
  },
  {
   "cell_type": "code",
   "execution_count": null,
   "id": "21c0606f-0cb3-463e-bbb6-1ab20b07a214",
   "metadata": {},
   "outputs": [],
   "source": []
  }
 ],
 "metadata": {
  "kernelspec": {
   "display_name": "Python 3 (ipykernel)",
   "language": "python",
   "name": "python3"
  },
  "language_info": {
   "codemirror_mode": {
    "name": "ipython",
    "version": 3
   },
   "file_extension": ".py",
   "mimetype": "text/x-python",
   "name": "python",
   "nbconvert_exporter": "python",
   "pygments_lexer": "ipython3",
   "version": "3.12.2"
  }
 },
 "nbformat": 4,
 "nbformat_minor": 5
}

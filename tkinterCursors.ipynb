{
 "cells": [
  {
   "cell_type": "markdown",
   "id": "f86ee798-7b76-40c5-aa48-fd661a721d1e",
   "metadata": {},
   "source": [
    "**Changing the cursor for the root window**\n",
    "\n",
    "The root window has only two cursors:\n",
    "\n",
    "- Normal cursor\n",
    "- Busy cursor\n",
    "The Normal cursor has the value of \"\" while the busy cursor has the value of \"watch\".\n",
    "\n",
    "The following program shows how to change the cursor of the root window from normal to busy:\n",
    "\n"
   ]
  },
  {
   "cell_type": "code",
   "execution_count": null,
   "id": "edb8ca9b-48e3-45f4-90c7-7800d971d805",
   "metadata": {},
   "outputs": [],
   "source": [
    "import tkinter as tk\n",
    "\n",
    "root = tk.Tk()\n",
    "root.geometry(\"300x300\")\n",
    "\n",
    "def change_cursor(event):\n",
    "    if event.x in range(100,300):\n",
    "        root.`config(cursor=\"watch\")\n",
    "    else:\n",
    "        root.config(cursor\"\")\n",
    "\n",
    "root.bind(\"<Motion>\", change_cursor)\n",
    "root.mainloop()"
   ]
  }
 ],
 "metadata": {
  "kernelspec": {
   "display_name": "Python 3 (ipykernel)",
   "language": "python",
   "name": "python3"
  },
  "language_info": {
   "codemirror_mode": {
    "name": "ipython",
    "version": 3
   },
   "file_extension": ".py",
   "mimetype": "text/x-python",
   "name": "python",
   "nbconvert_exporter": "python",
   "pygments_lexer": "ipython3",
   "version": "3.12.2"
  }
 },
 "nbformat": 4,
 "nbformat_minor": 5
}

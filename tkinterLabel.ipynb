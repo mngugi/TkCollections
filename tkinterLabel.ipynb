{
 "cells": [
  {
   "cell_type": "markdown",
   "id": "8c54abab-f3e9-4069-8069-b49e6ac39b49",
   "metadata": {},
   "source": [
    "Introduction to Tkinter Label widget\n",
    "Tkinter Label widget is used to display a text or image on the screen. To use a Label widget, you use the following general syntax:\n",
    "\n",
    "`label = ttk.Label(master, **options)`"
   ]
  },
  {
   "cell_type": "markdown",
   "id": "0a114ec7-71e5-4135-a08c-474e1f1c58b6",
   "metadata": {},
   "source": [
    "## Label Widget Options\n",
    "\n",
    "The `Label` widget has many options that allow you to customize its appearance:\n",
    "\n",
    "| **Option**    | **Meaning**                                                                                                                                 |\n",
    "|----------------|--------------------------------------------------------------------------------------------------------------------------------------------|\n",
    "| `anchor`      | When the text and/or image are smaller than the width, the `anchor` option determines where to position them.                                |\n",
    "|                | Valid values: `tk.W`, `tk.CENTER`, or `tk.E` for left, center, and right alignment, respectively.                                           |\n",
    "| `background`  | Set the background color for the label.                                                                                                      |\n",
    "| `borderwidth` | Set the border width for the label. Useful for effects like `flat`, `raised`, `sunken`, `groove`, and `ridge`.                               |\n",
    "| `class_`      | Specify a custom widget class name for changing the label’s appearance.                                                                       |\n",
    "| `compound`    | Specify how to display both text and images on the label.                                                                                     |\n",
    "| `cursor`      | Specify the mouse cursor’s appearance when hovering over the widget.                                                                          |\n",
    "| `font`        | Specify the font style for displaying text (e.g., `\"Arial\", 12`).                                                                              |\n",
    "| `foreground`  | Set the color of the text.                                                                                                                     |\n",
    "| `image`       | Specify an image or images to display either in addition to text or instead of text.                                                           |\n",
    "| `justify`     | Specify the horizontal alignment of text with newlines.                                                                                       |\n",
    "|                | Valid values: `tk.LEFT` (left-justify), `tk.CENTER` (center), and `tk.RIGHT` (right-justify).                                                 |\n",
    "| `padding`     | Add space around the label content.                                                                                                            |\n",
    "| `relief`      | Set the border style (e.g., `flat`, `raised`, `sunken`, `groove`, `ridge`).                                                                   |\n",
    "| `style`       | Apply a custom widget style to the label.                                                                                                      |\n",
    "| `takefocus`   | Boolean. If `True`, the label is included in focus traversal. Defaults to `False`.                                                             |\n",
    "| `text`        | Display a text string in the widget.                                                                                                           |\n",
    "| `textvariable`| Display a text value from a `StringVar`. Overrides `text` if both are specified.                                                               |\n",
    "| `underline`   | Underline a character by specifying its index (e.g., `underline=0` underlines the first character).                                             |\n",
    "| `width`       | Set the number of characters the label can display.                                                                                            |\n",
    "| `wraplength`  | Break text into lines that fit within the specified pixel width.                                                                               |\n"
   ]
  },
  {
   "cell_type": "code",
   "execution_count": null,
   "id": "5e11cd32-8620-4436-a220-4075c933b3ee",
   "metadata": {},
   "outputs": [],
   "source": [
    "import tkinter as tk\n",
    "from tkinter import ttk\n",
    "\n",
    "root = tk.Tk()\n",
    "root.geometry('300x200')\n",
    "root.resizable(False, False)\n",
    "root.title('Label Widget Demo')\n",
    "\n",
    "# show the label here\n",
    "\n",
    "root.mainloop()"
   ]
  }
 ],
 "metadata": {
  "kernelspec": {
   "display_name": "Python 3 (ipykernel)",
   "language": "python",
   "name": "python3"
  },
  "language_info": {
   "codemirror_mode": {
    "name": "ipython",
    "version": 3
   },
   "file_extension": ".py",
   "mimetype": "text/x-python",
   "name": "python",
   "nbconvert_exporter": "python",
   "pygments_lexer": "ipython3",
   "version": "3.12.2"
  }
 },
 "nbformat": 4,
 "nbformat_minor": 5
}

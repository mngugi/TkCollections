{
 "cells": [
  {
   "cell_type": "markdown",
   "id": "69e49fee-d071-47e9-b96f-2c53bf35a830",
   "metadata": {},
   "source": [
    "### Buttons\n",
    "- The follwoing button types are found in ttkinter:\n",
    "- Button\n",
    "- Checkbutton\n",
    "- Menubutton\n",
    "- Radiobutton"
   ]
  },
  {
   "cell_type": "markdown",
   "id": "902df166-24f0-47ed-abed-782084f98d6d",
   "metadata": {},
   "source": [
    "### Introduction to the Tkinter Button widget\n",
    "- Button widgets represent a clickable item in the applications. Typically, you use text or an image to display the action that will be performed when clicked.\n",
    "\n",
    "- Buttons can display text in a single font. However, the text can span multiple lines. On top of that, you can make one of the characters underline to mark a keyboard shortcut.\n",
    "\n",
    "- To invoke a function or a method of a class automatically when the button is clicked, you assign its command option to the function or method. This is called the command binding in Tkinter.\n",
    "\n",
    "To create a button, you use the ttk.Button constructor as follows:\n",
    "\n",
    "`button = ttk.Button(master, **option)`\n",
    "\n",
    "A button has many options. However, the typical ones are like this:\n",
    "\n",
    "`button = ttk.Button(master, text, command)`\n",
    "Code language: Python (python)\n",
    "In this syntax:\n",
    "\n",
    "- The master is the parent widget on which you place the button.\n",
    "- The text is the label of the button.\n",
    "- The command specifies a callback function that will be called automatically when the button is clicked.\n",
    "### Command callback\n",
    "The command option associates the button’s action with a function or a method of a class. When you click or press the button, it’ll automatically invoke a callback function.\n",
    "\n",
    "To assign a callback to the command option, you can use a lambda expression:"
   ]
  },
  {
   "cell_type": "code",
   "execution_count": 3,
   "id": "b5df0a69-a946-40f6-a6ea-f567089c85a8",
   "metadata": {},
   "outputs": [
    {
     "name": "stdout",
     "output_type": "stream",
     "text": [
      "Looking for image at: /home/sigma69/Documents/GitHub/TkCollections/Documents/GitHub/TkCollections/pyIcon.png\n",
      "Error: Image not found at '/home/sigma69/Documents/GitHub/TkCollections/Documents/GitHub/TkCollections/pyIcon.png'\n"
     ]
    }
   ],
   "source": [
    "import tkinter as tk\n",
    "from tkinter import ttk\n",
    "from tkinter.messagebox import showinfo\n",
    "import os\n",
    "\n",
    "# Root window\n",
    "root = tk.Tk()\n",
    "root.geometry('300x200')\n",
    "root.resizable(False, False)\n",
    "root.title('Image Button Demo')\n",
    "\n",
    "# Check if the image file exists\n",
    "image_path = os.path.abspath(\"Documents/GitHub/TkCollections/pyIcon.png\")  # Update with actual path\n",
    "print(f\"Looking for image at: {image_path}\")\n",
    "\n",
    "if not os.path.exists(image_path):\n",
    "    print(f\"Error: Image not found at '{image_path}'\")\n",
    "else:\n",
    "    # Load the image\n",
    "    download_icon = tk.PhotoImage(file=image_path)\n",
    "\n",
    "    # Create the button with the image\n",
    "    def download_clicked():\n",
    "        showinfo(title='Information', message='Download button clicked!')\n",
    "\n",
    "    download_button = ttk.Button(root, image=download_icon, command=download_clicked)\n",
    "    download_button.image = download_icon  # Keep reference\n",
    "    download_button.pack(ipadx=5, ipady=5, expand=True)\n",
    "\n",
    "root.mainloop()\n"
   ]
  },
  {
   "cell_type": "markdown",
   "id": "243c4343-ce86-4292-947c-0c2feb334e95",
   "metadata": {},
   "source": [
    "**Button states**\n",
    "\n",
    "The default state of a button is normal. In the normal state, the button will respond to the mouse events and keyboard presses by invoking the callback function assigned to its command option.\n",
    "\n",
    "The button can also have the disabled state. In the disabled state, a button is greyed out and doesn’t respond to the mouse events and keyboard presses.\n",
    "\n",
    "To control the state of a button, you use the state() method:\n",
    "\n",
    "```\n",
    "# set the disabled flag\n",
    "button.state(['disabled'])\n",
    "\n",
    "# remove the disabled flag\n",
    "button.state(['!disabled'])\n",
    "```\n",
    "**Tkinter button examples**\n",
    "Let’s take some examples of using button widgets.\n",
    "\n",
    "1) **Simple Tkinter button example**\n",
    "The following program shows how to display a Exit button. When you click it, the program is terminated."
   ]
  },
  {
   "cell_type": "code",
   "execution_count": 14,
   "id": "8f6e70a7-ecea-4f67-8b85-476bb527e0b2",
   "metadata": {},
   "outputs": [],
   "source": [
    "import tkinter as tk\n",
    "from tkinter import ttk\n",
    "\n",
    "# root window\n",
    "root = tk.Tk()\n",
    "root.geometry('300x200')\n",
    "root.resizable(False, False)\n",
    "root.title('Button Demo')\n",
    "\n",
    "# exit button\n",
    "exit_button = ttk.Button(root, text='Exit', command=lambda: root.quit())\n",
    "\n",
    "exit_button.pack(ipadx=5,ipady=5,expand=True)\n",
    "\n",
    "root.mainloop()"
   ]
  },
  {
   "cell_type": "markdown",
   "id": "e818f351-0d21-4559-81a1-b3104257d528",
   "metadata": {},
   "source": [
    "`exit_button = ttk.Button(root, text='Exit', command=lambda: root.quit())`\n",
    "- The command of the button is assigned to a lambda expression that closes the root window.\n",
    "\n",
    "2) Tkinter image button example\n",
    "The following program shows how to display an image button. To practice this example, you need to download the following image first:"
   ]
  },
  {
   "cell_type": "code",
   "execution_count": 2,
   "id": "2b891259-9c97-4673-9933-d2157cc0b5f0",
   "metadata": {},
   "outputs": [
    {
     "name": "stdout",
     "output_type": "stream",
     "text": [
      "Looking for image at: /home/sigma69/Documents/GitHub/TkCollections/Documents/GitHub/TkCollections/Pasted image.png\n",
      "Error: Image file not found!\n",
      "Button not created because image is missing.\n"
     ]
    }
   ],
   "source": [
    "import tkinter as tk\n",
    "from tkinter import ttk\n",
    "from tkinter.messagebox import showinfo\n",
    "import os\n",
    "\n",
    "# Root window\n",
    "root = tk.Tk()\n",
    "root.geometry('300x200')\n",
    "root.resizable(False, False)\n",
    "root.title('Image Button Demo')\n",
    "\n",
    "# Download button function\n",
    "def download_clicked():\n",
    "    showinfo(title='Information', message='Download button clicked!')\n",
    "\n",
    "# Image path\n",
    "image_path = os.path.abspath(\"Documents/GitHub/TkCollections/Pasted image.png\")\n",
    "print(f\"Looking for image at: {image_path}\")\n",
    "\n",
    "# Check if image exists\n",
    "if not os.path.exists(image_path):\n",
    "    print(\"Error: Image file not found!\")\n",
    "    download_icon = None  # Avoid error if image is missing\n",
    "else:\n",
    "    download_icon = tk.PhotoImage(file=image_path)\n",
    "\n",
    "# Create the button (only if image is available)\n",
    "if download_icon:\n",
    "    download_button = ttk.Button(root, image=download_icon, command=download_clicked)\n",
    "    download_button.image = download_icon  # Prevent garbage collection\n",
    "    download_button.pack(ipadx=5, ipady=5, expand=True)\n",
    "else:\n",
    "    print(\"Button not created because image is missing.\")\n",
    "\n",
    "# Run the application\n",
    "root.mainloop()\n"
   ]
  },
  {
   "cell_type": "code",
   "execution_count": null,
   "id": "ab0455da-4ff1-4d88-a492-e43b50c69359",
   "metadata": {},
   "outputs": [],
   "source": []
  }
 ],
 "metadata": {
  "kernelspec": {
   "display_name": "Python 3 (ipykernel)",
   "language": "python",
   "name": "python3"
  },
  "language_info": {
   "codemirror_mode": {
    "name": "ipython",
    "version": 3
   },
   "file_extension": ".py",
   "mimetype": "text/x-python",
   "name": "python",
   "nbconvert_exporter": "python",
   "pygments_lexer": "ipython3",
   "version": "3.12.2"
  }
 },
 "nbformat": 4,
 "nbformat_minor": 5
}

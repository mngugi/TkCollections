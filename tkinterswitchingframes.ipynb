{
 "cells": [
  {
   "cell_type": "markdown",
   "id": "7ff54bb6-0db7-4727-b623-8a6e2749b1b0",
   "metadata": {},
   "source": [
    "**Introduction to the Frame tkraise() method**\n",
    "\n",
    "Typically, a Tkinter application consists of multiple frames. And you often need to switch between frames to display the one that is relevant to the user’s choice.\n",
    "\n",
    "Tkinter allows you to stack frames on top of each other. To show a particular frame, you can simply raise one above the other in the stacking order. The top frame will be visible.\n",
    "\n",
    "To bring a frame to the top, you use the tkraise() method of the Frame widget like this:\n",
    "\n",
    "`frame.tkraise()`\n",
    "\n",
    "**The Frame tkraise() method example**\n",
    "\n",
    "In this example, you’ll extend the temperature converter application by adding the conversion of a temperature from Celsius to Fahrenheit:\n",
    "\n",
    "\n"
   ]
  }
 ],
 "metadata": {
  "kernelspec": {
   "display_name": "Python 3 (ipykernel)",
   "language": "python",
   "name": "python3"
  },
  "language_info": {
   "codemirror_mode": {
    "name": "ipython",
    "version": 3
   },
   "file_extension": ".py",
   "mimetype": "text/x-python",
   "name": "python",
   "nbconvert_exporter": "python",
   "pygments_lexer": "ipython3",
   "version": "3.12.2"
  }
 },
 "nbformat": 4,
 "nbformat_minor": 5
}

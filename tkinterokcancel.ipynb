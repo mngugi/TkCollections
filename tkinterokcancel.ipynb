{
 "cells": [
  {
   "cell_type": "markdown",
   "id": "00db2857-25df-4ab9-a6bb-421347036e6b",
   "metadata": {},
   "source": [
    "**Introduction to the Tkinter askokcancel() function**\n",
    "\n",
    "The askokcancel() function shows a confirmation dialog that has two buttons: OK and Cancel.\n",
    "\n",
    "`answer = askokcancel(title, message, **options)`\n",
    "\n",
    "If you click the OK button, the function returns True. However, if you click the Cancel button, the function returns False.\n",
    "\n",
    "``Tkinter askokcancel() example``\n",
    "\n",
    "The following program shows a Delete All button. If you click the button, the program will show a confirmation dialog that has two buttons: OK and Cancel.\n",
    "\n",
    "If you click the OK button, the program will show a message box indicating that all the data has been deleted successfully:\n"
   ]
  },
  {
   "cell_type": "code",
   "execution_count": 3,
   "id": "24f05649-9af5-4b53-adfc-b0fbd18d3e56",
   "metadata": {},
   "outputs": [],
   "source": [
    "import tkinter as tk\n",
    "from tkinter import ttk\n",
    "from tkinter.messagebox import askokcancel, showinfo, WARNING\n",
    "\n",
    "root = tk.Tk()\n",
    "root.title('tkinter ok/ cancel dialog')\n",
    "root.geometry('300x150')\n",
    "\n",
    "def confirm():\n",
    "    answer= askokcancel(title='confirmation', message='Deleting will delete all the data',\n",
    "                       icon=WARNING)\n",
    "    if answer:\n",
    "        showinfo(title='Deletion status', message='The data is deleted successfully')\n",
    "\n",
    "ttk.Button(root, text='Delete All', command=confirm).pack(expand=True)\n",
    "\n",
    "root.mainloop()"
   ]
  },
  {
   "cell_type": "markdown",
   "id": "b72d3626-0903-4b09-adf0-eada65f14218",
   "metadata": {},
   "source": [
    "The following program does the same as the program above but use the object-oriented programming approach:"
   ]
  },
  {
   "cell_type": "code",
   "execution_count": null,
   "id": "f29db68f-3a5b-45e5-96e5-d265da17ce9b",
   "metadata": {},
   "outputs": [],
   "source": []
  }
 ],
 "metadata": {
  "kernelspec": {
   "display_name": "Python 3 (ipykernel)",
   "language": "python",
   "name": "python3"
  },
  "language_info": {
   "codemirror_mode": {
    "name": "ipython",
    "version": 3
   },
   "file_extension": ".py",
   "mimetype": "text/x-python",
   "name": "python",
   "nbconvert_exporter": "python",
   "pygments_lexer": "ipython3",
   "version": "3.12.2"
  }
 },
 "nbformat": 4,
 "nbformat_minor": 5
}

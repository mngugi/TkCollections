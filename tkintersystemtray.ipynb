{
 "cells": [
  {
   "cell_type": "markdown",
   "id": "5ee43031-8b00-4359-b813-e758533700e3",
   "metadata": {},
   "source": [
    "**Introduction to Tkinter system tray applications**\n",
    "\n",
    "A system tray application is a type of application that runs in the background and provides quick access to some functions.\n",
    "\n",
    "The system tray application typically appears as a small icon in the system tray or notification areas in the taskbar of the Windows, macOS, or Linux Desktop environment.\n",
    "\n",
    "Some common examples of system tray applications are antivirus software, instant messaging clients, or system monitoring software.\n",
    "\n",
    "Users can interact with the system tray application by clicking on it to access a menu and perform specific actions.\n",
    "\n",
    "Tkinter lacks built-in support for the system tray application, but you can use the PyStray third-party library to create it.\n",
    "\n",
    "**Tkinter System Tray Application example**\n",
    "\n",
    "Creating a system tray application using the Tkinter and PyStray package involves the following steps:\n",
    "\n",
    "Step 1. Install the Pystray and Pillow libraries\n",
    "Install the Pystray and Pillow libraries using the pip command. The Pystray enables you to create a tray application, and the Pillow helps you design an icon placed in the system tray.\n",
    "\n",
    "`pip install pystray pillow`\n",
    "\n",
    "Step 2. Create a Tkinter system tray application\n",
    "Create a Python script and use the following code:\n",
    "\n"
   ]
  },
  {
   "cell_type": "code",
   "execution_count": 1,
   "id": "fd3c53b9-9a0e-4f95-886a-69196dfd7570",
   "metadata": {},
   "outputs": [
    {
     "ename": "ModuleNotFoundError",
     "evalue": "No module named 'pystray'",
     "output_type": "error",
     "traceback": [
      "\u001b[0;31m---------------------------------------------------------------------------\u001b[0m",
      "\u001b[0;31mModuleNotFoundError\u001b[0m                       Traceback (most recent call last)",
      "Cell \u001b[0;32mIn[1], line 2\u001b[0m\n\u001b[1;32m      1\u001b[0m \u001b[38;5;28;01mimport\u001b[39;00m \u001b[38;5;21;01mtkinter\u001b[39;00m \u001b[38;5;28;01mas\u001b[39;00m \u001b[38;5;21;01mtk\u001b[39;00m\n\u001b[0;32m----> 2\u001b[0m \u001b[38;5;28;01mimport\u001b[39;00m \u001b[38;5;21;01mpystray\u001b[39;00m\n\u001b[1;32m      3\u001b[0m \u001b[38;5;28;01mfrom\u001b[39;00m \u001b[38;5;21;01mPIL\u001b[39;00m \u001b[38;5;28;01mimport\u001b[39;00m Image\n\u001b[1;32m      4\u001b[0m \u001b[38;5;28;01mimport\u001b[39;00m \u001b[38;5;21;01mos\u001b[39;00m\n",
      "\u001b[0;31mModuleNotFoundError\u001b[0m: No module named 'pystray'"
     ]
    }
   ],
   "source": [
    "import tkinter as tk\n",
    "import pystray\n",
    "from PIL import Image\n",
    "import os\n",
    "\n",
    "class MyApp(tk.Tk):\n",
    "    def __init__(self):\n",
    "        super().__init__()\n",
    "\n",
    "        self.title(\"System Tray App\")\n",
    "        self.geometry('500x250')\n",
    "        self.protocol('WM_DELETE_WINDOW', self.minimize_to_tray)\n",
    "\n",
    "        # Initialize system tray icon as None\n",
    "        self.tray_icon = None\n",
    "\n",
    "    def minimize_to_tray(self):\n",
    "        \"\"\"Minimize the application to the system tray.\"\"\"\n",
    "        self.withdraw()\n",
    "\n",
    "        # Load the icon image\n",
    "        icon_path = \"app.ico\"\n",
    "        if not os.path.exists(icon_path):\n",
    "            print(\"Error: app.ico not found!\")\n",
    "            return\n",
    "\n",
    "        image = Image.open(icon_path)\n",
    "\n",
    "        # Define system tray menu\n",
    "        menu = (pystray.MenuItem('Show', self.show_window),\n",
    "                pystray.MenuItem('Quit', self.quit_window))\n",
    "\n",
    "        # Store the tray icon as an attribute\n",
    "        self.tray_icon = pystray.Icon(\"MyApp\", image, \"My App\", menu)\n",
    "\n",
    "        # Run the tray icon in a separate thread\n",
    "        self.tray_icon.run_detached()\n",
    "\n",
    "    def quit_window(self, icon, item):\n",
    "        \"\"\"Quit the application from the system tray.\"\"\"\n",
    "        if self.tray_icon:\n",
    "            self.tray_icon.stop()\n",
    "        self.destroy()\n",
    "\n",
    "    def show_window(self, icon, item):\n",
    "        \"\"\"Restore the application window from the system tray.\"\"\"\n",
    "        if self.tray_icon:\n",
    "            self.tray_icon.stop()\n",
    "        self.after(0, self.deiconify)\n",
    "\n",
    "\n",
    "if __name__ == \"__main__\":\n",
    "    app = MyApp()\n",
    "    app.mainloop()\n"
   ]
  },
  {
   "cell_type": "code",
   "execution_count": null,
   "id": "e3e6753c-226e-4278-a2c4-bf4e71f0d261",
   "metadata": {},
   "outputs": [],
   "source": []
  }
 ],
 "metadata": {
  "kernelspec": {
   "display_name": "Python 3 (ipykernel)",
   "language": "python",
   "name": "python3"
  },
  "language_info": {
   "codemirror_mode": {
    "name": "ipython",
    "version": 3
   },
   "file_extension": ".py",
   "mimetype": "text/x-python",
   "name": "python",
   "nbconvert_exporter": "python",
   "pygments_lexer": "ipython3",
   "version": "3.12.2"
  }
 },
 "nbformat": 4,
 "nbformat_minor": 5
}

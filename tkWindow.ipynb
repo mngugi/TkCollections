{
 "cells": [
  {
   "cell_type": "markdown",
   "id": "970200e2-bebb-4c14-9b49-666010217c20",
   "metadata": {},
   "source": [
    "### Tkinter Window\n",
    "* the program below is a simple window program"
   ]
  },
  {
   "cell_type": "code",
   "execution_count": 1,
   "id": "2cf1be87-0a8b-42cc-8b51-0e9d23ed2d58",
   "metadata": {},
   "outputs": [],
   "source": [
    "import tkinter as tk\n",
    "\n",
    "root = tk.Tk()\n",
    "root.mainloop()\n",
    "\n"
   ]
  },
  {
   "cell_type": "markdown",
   "id": "fbdbde7c-eb91-4021-b293-cc7aadaa13be",
   "metadata": {},
   "source": [
    "### Changing the window title\n",
    "- To change the window’s title, you use the title() method like this:"
   ]
  },
  {
   "cell_type": "code",
   "execution_count": 5,
   "id": "5fa632de-8c5d-49b1-bf1e-db3919d4c7d1",
   "metadata": {},
   "outputs": [],
   "source": [
    "import tkinter as tk\n",
    "\n",
    "root = tk.Tk()\n",
    "root.title(\"Demo Window\")\n",
    "\n",
    "root.mainloop()"
   ]
  },
  {
   "cell_type": "code",
   "execution_count": null,
   "id": "5d2697fa-ac33-4f1b-863a-6970c9b2b707",
   "metadata": {},
   "outputs": [],
   "source": []
  }
 ],
 "metadata": {
  "kernelspec": {
   "display_name": "Python 3 (ipykernel)",
   "language": "python",
   "name": "python3"
  },
  "language_info": {
   "codemirror_mode": {
    "name": "ipython",
    "version": 3
   },
   "file_extension": ".py",
   "mimetype": "text/x-python",
   "name": "python",
   "nbconvert_exporter": "python",
   "pygments_lexer": "ipython3",
   "version": "3.12.2"
  }
 },
 "nbformat": 4,
 "nbformat_minor": 5
}

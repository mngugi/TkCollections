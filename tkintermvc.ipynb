{
 "cells": [
  {
   "cell_type": "markdown",
   "id": "06dc12bc-bb84-41cd-8ccd-7b17682255b8",
   "metadata": {},
   "source": [
    "**Introduction to Tkinter MVC**\n",
    "\n",
    "As your application grows, its complexity also increases. To make the application more manageable, you can use the model-view-controller design pattern.\n",
    "\n",
    "The MVC design pattern allows you to divide the application into three main components: model, view, and controller. This structure helps you focus on the logic of each part and make it more maintainable, especially when the application grows.\n",
    "\n",
    "The following diagram illustrates the MVC design pattern:"
   ]
  },
  {
   "cell_type": "code",
   "execution_count": null,
   "id": "66bf3f95-1377-46da-9f3b-41d168cfdeb6",
   "metadata": {},
   "outputs": [],
   "source": [
    "import tkinter as tk\n",
    "from PIL import Image, ImageTk\n",
    "\n",
    "# Create main window\n",
    "root = tk.Tk()\n",
    "root.title(\"Image Viewer\")\n",
    "\n",
    "# Load image\n",
    "image_path = \"mvc.png\"  # Change to your image file\n",
    "image = Image.open(image_path)\n",
    "photo = ImageTk.PhotoImage(image)\n",
    "\n",
    "# Display image in a label\n",
    "label = tk.Label(root, image=photo)\n",
    "label.pack()\n",
    "\n",
    "# Run Tkinter event loop\n",
    "root.mainloop()\n"
   ]
  }
 ],
 "metadata": {
  "kernelspec": {
   "display_name": "Python 3 (ipykernel)",
   "language": "python",
   "name": "python3"
  },
  "language_info": {
   "codemirror_mode": {
    "name": "ipython",
    "version": 3
   },
   "file_extension": ".py",
   "mimetype": "text/x-python",
   "name": "python",
   "nbconvert_exporter": "python",
   "pygments_lexer": "ipython3",
   "version": "3.12.2"
  }
 },
 "nbformat": 4,
 "nbformat_minor": 5
}

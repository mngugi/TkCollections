{
 "cells": [
  {
   "cell_type": "markdown",
   "id": "d27f3a98-24e1-45d3-8237-c41ede95ff18",
   "metadata": {},
   "source": [
    "**Introduction to the Tkinter color chooser dialog**\n",
    "\n",
    "To display a native color chooser dialog, you use the tkinter.colorchooser module.\n",
    "\n",
    "First, import the askcolor() function from the tkinter.colorchooser module:\n",
    "\n",
    "`from tkinter.colorchooser import askcolor`\n",
    "\n",
    "Second, call the askcolor() function to display the color chooser dialog:\n",
    "\n",
    "`askcolor(color=None, **options)`\n",
    "\n",
    "If you select a color, the askcolor() function returns a tuple that contains two values that represent the selected color:\n",
    "\n",
    "- The first value is the RGB representation.\n",
    "- The second value is a hexadecimal representation.\n",
    "For example:\n",
    "\n",
    "`((255.99609375, 0.0, 255.99609375), '#ff00ff')`\n",
    "\n",
    "If you don’t select any color from the color chooser dialog, the askcolor() function returns None.\n",
    "\n",
    "**Tkinter color chooser example**\n",
    "\n",
    "The following program illustrates how to use the color chooser dialog. The background of the root window will change to the selected color."
   ]
  },
  {
   "cell_type": "code",
   "execution_count": 1,
   "id": "7203ba7f-8e9f-473a-9297-486bd8accdff",
   "metadata": {},
   "outputs": [],
   "source": [
    "import tkinter as tk\n",
    "from tkinter import ttk\n",
    "from tkinter.colorchooser import askcolor\n",
    "\n",
    "# Root window\n",
    "root = tk.Tk()\n",
    "root.title('Tkinter Color Chooser')\n",
    "root.geometry('300x150')\n",
    "\n",
    "# Label to display selected color\n",
    "color_label = ttk.Label(root, text=\"Selected Color: None\")\n",
    "color_label.pack(pady=10)\n",
    "\n",
    "def change_color():\n",
    "    colors = askcolor(title=\"Select a Color\")\n",
    "    \n",
    "    # Ensure a valid color is selected\n",
    "    if colors[1]:  \n",
    "        root.configure(bg=colors[1])  # Change background\n",
    "        color_label.config(text=f\"Selected Color: {colors[1]}\")  # Update label text\n",
    "\n",
    "# Button to select color\n",
    "ttk.Button(\n",
    "    root,\n",
    "    text='Select a Color',\n",
    "    command=change_color\n",
    ").pack(expand=True, fill='both', padx=20, pady=10)\n",
    "\n",
    "# Run the application\n",
    "root.mainloop()\n"
   ]
  },
  {
   "cell_type": "code",
   "execution_count": null,
   "id": "5b40f06c-49a9-4756-a67f-06a9de696fa1",
   "metadata": {},
   "outputs": [],
   "source": []
  }
 ],
 "metadata": {
  "kernelspec": {
   "display_name": "Python 3 (ipykernel)",
   "language": "python",
   "name": "python3"
  },
  "language_info": {
   "codemirror_mode": {
    "name": "ipython",
    "version": 3
   },
   "file_extension": ".py",
   "mimetype": "text/x-python",
   "name": "python",
   "nbconvert_exporter": "python",
   "pygments_lexer": "ipython3",
   "version": "3.12.2"
  }
 },
 "nbformat": 4,
 "nbformat_minor": 5
}

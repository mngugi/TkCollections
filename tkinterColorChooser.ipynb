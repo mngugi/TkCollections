{
 "cells": [
  {
   "cell_type": "markdown",
   "id": "d27f3a98-24e1-45d3-8237-c41ede95ff18",
   "metadata": {},
   "source": [
    "**Introduction to the Tkinter color chooser dialog**\n",
    "\n",
    "To display a native color chooser dialog, you use the tkinter.colorchooser module.\n",
    "\n",
    "First, import the askcolor() function from the tkinter.colorchooser module:\n",
    "\n",
    "`from tkinter.colorchooser import askcolor`\n",
    "\n",
    "Second, call the askcolor() function to display the color chooser dialog:\n",
    "\n",
    "`askcolor(color=None, **options)`\n",
    "\n",
    "If you select a color, the askcolor() function returns a tuple that contains two values that represent the selected color:\n",
    "\n",
    "- The first value is the RGB representation.\n",
    "- The second value is a hexadecimal representation.\n",
    "For example:\n",
    "\n",
    "`((255.99609375, 0.0, 255.99609375), '#ff00ff')`\n",
    "\n",
    "If you don’t select any color from the color chooser dialog, the askcolor() function returns None.\n",
    "\n",
    "**Tkinter color chooser example**\n",
    "\n",
    "The following program illustrates how to use the color chooser dialog. The background of the root window will change to the selected color."
   ]
  }
 ],
 "metadata": {
  "kernelspec": {
   "display_name": "Python 3 (ipykernel)",
   "language": "python",
   "name": "python3"
  },
  "language_info": {
   "codemirror_mode": {
    "name": "ipython",
    "version": 3
   },
   "file_extension": ".py",
   "mimetype": "text/x-python",
   "name": "python",
   "nbconvert_exporter": "python",
   "pygments_lexer": "ipython3",
   "version": "3.12.2"
  }
 },
 "nbformat": 4,
 "nbformat_minor": 5
}

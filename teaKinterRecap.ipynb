{
 "cells": [
  {
   "cell_type": "markdown",
   "id": "4902f252-bf27-4b5d-9e26-584632c1e330",
   "metadata": {},
   "source": [
    "- Install tkinter sudo apt-get install python3-tk"
   ]
  },
  {
   "cell_type": "markdown",
   "id": "e229a6c7-c6c2-424d-9dee-c5b4f7684426",
   "metadata": {},
   "source": [
    "### Creating a window\n",
    "- The following program shows how to display a window on the screen:\n",
    "- The mainloop() method ensures the main window remains visible on the screen."
   ]
  },
  {
   "cell_type": "code",
   "execution_count": 2,
   "id": "38182507-d052-446e-8854-0bb9cd35790f",
   "metadata": {},
   "outputs": [],
   "source": [
    "import tkinter as tk # import the tkinter modules\n",
    "\n",
    "root = tk.Tk()  # create an instance of the tk.Tk class that will create the application window\n",
    "root.mainloop() # call the mainloop() method of the main window object"
   ]
  },
  {
   "cell_type": "markdown",
   "id": "2c55d942-0896-4ceb-ba1f-1a7827b851ef",
   "metadata": {},
   "source": [
    "### Displaying a label\n",
    "- In Tkinter, these components are referred to as widgets.The following code adds a label widget to the root window:"
   ]
  },
  {
   "cell_type": "code",
   "execution_count": 10,
   "id": "cfa7fdc1-0f19-4217-a347-958350b75bd2",
   "metadata": {},
   "outputs": [],
   "source": [
    "import tkinter as tk\n",
    "\n",
    "root = tk.Tk()\n",
    "message = tk.Label(root, fg=\"Red\", text=\"Philadelphia Eagles are Champions\")\n",
    "message.pack()\n",
    "\n",
    "root.mainloop()"
   ]
  },
  {
   "cell_type": "code",
   "execution_count": null,
   "id": "5c2088d2-de9d-49a4-8788-8291c1e6dc2c",
   "metadata": {},
   "outputs": [],
   "source": []
  }
 ],
 "metadata": {
  "kernelspec": {
   "display_name": "Python 3 (ipykernel)",
   "language": "python",
   "name": "python3"
  },
  "language_info": {
   "codemirror_mode": {
    "name": "ipython",
    "version": 3
   },
   "file_extension": ".py",
   "mimetype": "text/x-python",
   "name": "python",
   "nbconvert_exporter": "python",
   "pygments_lexer": "ipython3",
   "version": "3.12.2"
  }
 },
 "nbformat": 4,
 "nbformat_minor": 5
}

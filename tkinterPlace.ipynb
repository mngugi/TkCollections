{
 "cells": [
  {
   "cell_type": "markdown",
   "id": "0239ea81-c39d-4202-a6cb-b9d3bb98e618",
   "metadata": {},
   "source": [
    "**Introduction to Tkinter Place Geometry Manager**\n",
    "    \n",
    "The Tkinter place geometry manager allows you to specify the exact placement of a widget using either absolution or relative positioning.\n",
    "\n",
    "The placer geometry management gives you fine control over the positioning of widgets by allowing you to:\n",
    "\n",
    "Specify coordinates (x, y).\n",
    "Use relative positioning based on anchor points.\n",
    "To use the place geometry manager, you call the place() method on the widget like this:\n",
    "\n",
    "`widget.place(**options)`\n",
    "\n",
    "**1) Absolute positioning**\n",
    "In absolute positioning, you specify the exact x and y coordinates of the widget using the x and y parameters:\n",
    "\n",
    "`widget.place(x=50, y=50)`"
   ]
  },
  {
   "cell_type": "code",
   "execution_count": 1,
   "id": "ab592a1b-f09a-48e6-a392-5e44816a21b5",
   "metadata": {},
   "outputs": [],
   "source": [
    "from PIL import Image\n",
    "\n",
    "# Load the image\n",
    "image = Image.open(\"absolutePosition.png\")\n",
    "\n",
    "# Show the image\n",
    "image.show()"
   ]
  },
  {
   "cell_type": "markdown",
   "id": "5c1bbd9b-d2c7-49b5-b6e1-21ed021110d2",
   "metadata": {},
   "source": [
    "**2) Relative positioning**\n",
    "In relative positioning, you place the widget using the relative coordinates using relx and rely parameters:"
   ]
  },
  {
   "cell_type": "code",
   "execution_count": null,
   "id": "78a15461-c7b8-479e-9857-c3a6f5887fdf",
   "metadata": {},
   "outputs": [],
   "source": [
    "from PIL import Image\n",
    "\n",
    "# Load the image\n",
    "image = Image.open(\"relativePositioning.png\")\n",
    "\n",
    "# Show the image\n",
    "image.show()"
   ]
  },
  {
   "cell_type": "markdown",
   "id": "fb038f53-5da0-455e-9625-48792392e8e4",
   "metadata": {},
   "source": [
    "For example, the following place the widget in the center of its parent:\n",
    "\n",
    "`widget.place(relx=0.5, rely=0.5, anchor=CENTER)`\n",
    "\n",
    "**3) width and height**\n",
    "The place geometry manager allows you to set the width and height of the widget via the width and height paramaters:\n",
    "\n",
    "`widget.place(width=120, height=60)`\n",
    "\n",
    "Alternatively, you can use relative sizing concerning the parent container. For example, the following code sets the widget’s width and height to 50% of the parent’s dimensions:\n",
    "\n",
    "`widget.place(relwidth=0.5, relheight=0.5)`\n",
    "\n",
    "The relwidth and relheight has a value of a floating-point number between 0.0 and 1.0. This value represents a fraction of the width and height of the parent container.\n",
    "\n",
    "**4) Anchor**\n",
    "The anchor parameter determines which part of the widget is positioned at the given coordinates.\n",
    "\n",
    "The anchor parameter accepts values such as:\n",
    "\n",
    "- `'n', 'ne', 'e', 'se', 'sw', 'w', 'nw':` These constants represent the cardinal and intercardinal directions (north, northeast, east, southeast, south, southwest, west, northwest).\n",
    "- 'center': This value instructs the place() method to position the center of the\n",
    "widget at the specified coordinates.\n",
    "\n",
    "The default value of the anchor is 'nw' which instructs the place() method to position the top left of the widget at the specified coordinates.\n",
    "\n",
    "For example, the following code places the widget in the center of the container widget:\n",
    "\n",
    "`widget.place(relx=0.5, rely=0.5, anchor='center')`\n",
    "\n",
    "**1) Absolute positioning example**\n",
    "The following example uses the place geometry manager to place a label at (0,0) with a width of 60 and height of 120:"
   ]
  },
  {
   "cell_type": "code",
   "execution_count": 2,
   "id": "24ccc8b5-5b36-494b-b6ff-903081df5193",
   "metadata": {},
   "outputs": [],
   "source": [
    "import tkinter as tk\n",
    "\n",
    "root= tk.Tk()\n",
    "root.title('Tkinter Place Geometry Manager')\n",
    "root.geometry(\"600x400\")\n",
    "\n",
    "label1 = tk.Label(master=root, text=\"Place\", bg='purple', fg='yellow')\n",
    "label1.place(x=0, y=0, width=120, height=60)\n",
    "\n",
    "root.mainloop()"
   ]
  },
  {
   "cell_type": "markdown",
   "id": "94ef70ec-960c-478d-a059-c2f2e1121b91",
   "metadata": {},
   "source": [
    "**2) Relative positioning example**\n",
    "The following program places a Label widget with its top-left corner at the center of the window:"
   ]
  },
  {
   "cell_type": "code",
   "execution_count": 3,
   "id": "fa3cfe27-73cb-41be-8961-781947c71b02",
   "metadata": {},
   "outputs": [],
   "source": [
    "import tkinter as tk\n",
    "\n",
    "root= tk.Tk()\n",
    "root.title('Tkinter Place Geometry Manager')\n",
    "root.geometry(\"600x400\")\n",
    "\n",
    "label1 = tk.Label(master=root, text=\"Place\", bg='purple', fg='yellow')\n",
    "label1.place(relx=0.5, rely=0.5, width=120, height=60)\n",
    "\n",
    "root.mainloop()"
   ]
  },
  {
   "cell_type": "markdown",
   "id": "2fc1602f-b921-4aa0-a8fb-e4f730ec8b41",
   "metadata": {},
   "source": [
    "**3) Using the anchor point**\n",
    "The following example places the center point of the Label widget at the center of the window:"
   ]
  },
  {
   "cell_type": "code",
   "execution_count": 4,
   "id": "3f5c4faf-d231-4297-bff4-8b3b721678ec",
   "metadata": {},
   "outputs": [],
   "source": [
    "import tkinter as tk\n",
    "\n",
    "root= tk.Tk()\n",
    "root.title('Tkinter Place Geometry Manager')\n",
    "root.geometry(\"600x400\")\n",
    "\n",
    "label1 = tk.Label(master=root, text=\"Place\", bg='purple', fg='yellow')\n",
    "label1.place(relx=0.5, rely=0.5, width=120, height=60, anchor=tk.CENTER)\n",
    "\n",
    "root.mainloop()"
   ]
  },
  {
   "cell_type": "code",
   "execution_count": null,
   "id": "614ecbdb-8dac-4c50-ad8b-6ab972980109",
   "metadata": {},
   "outputs": [],
   "source": []
  }
 ],
 "metadata": {
  "kernelspec": {
   "display_name": "Python 3 (ipykernel)",
   "language": "python",
   "name": "python3"
  },
  "language_info": {
   "codemirror_mode": {
    "name": "ipython",
    "version": 3
   },
   "file_extension": ".py",
   "mimetype": "text/x-python",
   "name": "python",
   "nbconvert_exporter": "python",
   "pygments_lexer": "ipython3",
   "version": "3.12.2"
  }
 },
 "nbformat": 4,
 "nbformat_minor": 5
}

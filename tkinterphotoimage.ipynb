{
 "cells": [
  {
   "cell_type": "markdown",
   "id": "9333bac7-cccb-4189-a42d-e7e5dd778789",
   "metadata": {},
   "source": [
    "**Introduction to the Tkinter PhotoImage widget**\n",
    "\n",
    "In Tkinter, some widgets can display an image such as Label and Button. These widgets take an image argument that allows them to display an image.\n",
    "\n",
    "However, you can’t just simply pass the path to an image file to the image argument. Instead, you need to create a PhotoImage object and pass it the image argument.\n",
    "\n",
    "To create a new PhotoImage object, you use the following syntax:\n",
    "\n",
    "`photo_image = tk.PhotoImage(file=path_to_image)`\n",
    "\n",
    "In this syntax, you pass the path to the image to the file argument to create a new PhotoImage object.\n",
    "\n",
    "Alternatively, you pass a bytes object that contains image data to the data argument.\n",
    "\n",
    "After creating a PhotoImage object, you can use it in other widgets that accept an image argument:\n",
    "\n",
    "`label = ttk.Label(root, image=photo_image)`\n",
    "\n",
    "It’s important to note that you keep the reference to the PhotoImage object in scope for as long as the image will be shown. Otherwise, the image won’t appear.\n",
    "\n",
    "The following example attempts to display an image with the path './assets/python.png' on the root window:\n",
    "\n"
   ]
  },
  {
   "cell_type": "code",
   "execution_count": 11,
   "id": "77c1e313-ea1a-4bb7-95a9-9d7e68073614",
   "metadata": {
    "scrolled": true
   },
   "outputs": [
    {
     "ename": "TclError",
     "evalue": "image \"pyimage9\" doesn't exist",
     "output_type": "error",
     "traceback": [
      "\u001b[0;31m---------------------------------------------------------------------------\u001b[0m",
      "\u001b[0;31mTclError\u001b[0m                                  Traceback (most recent call last)",
      "Cell \u001b[0;32mIn[11], line 33\u001b[0m\n\u001b[1;32m     30\u001b[0m         \u001b[38;5;28mself\u001b[39m\u001b[38;5;241m.\u001b[39mlabel\u001b[38;5;241m.\u001b[39mpack(expand\u001b[38;5;241m=\u001b[39m\u001b[38;5;28;01mTrue\u001b[39;00m)\n\u001b[1;32m     32\u001b[0m \u001b[38;5;28;01mif\u001b[39;00m \u001b[38;5;18m__name__\u001b[39m \u001b[38;5;241m==\u001b[39m \u001b[38;5;124m\"\u001b[39m\u001b[38;5;124m__main__\u001b[39m\u001b[38;5;124m\"\u001b[39m:\n\u001b[0;32m---> 33\u001b[0m     app \u001b[38;5;241m=\u001b[39m App()\n\u001b[1;32m     34\u001b[0m     app\u001b[38;5;241m.\u001b[39mmainloop()\n",
      "Cell \u001b[0;32mIn[11], line 29\u001b[0m, in \u001b[0;36mApp.__init__\u001b[0;34m(self)\u001b[0m\n\u001b[1;32m     26\u001b[0m \u001b[38;5;28mself\u001b[39m\u001b[38;5;241m.\u001b[39mpython_image \u001b[38;5;241m=\u001b[39m ImageTk\u001b[38;5;241m.\u001b[39mPhotoImage(pil_image)\n\u001b[1;32m     28\u001b[0m \u001b[38;5;66;03m# ✅ Use tk.Label to display the image\u001b[39;00m\n\u001b[0;32m---> 29\u001b[0m \u001b[38;5;28mself\u001b[39m\u001b[38;5;241m.\u001b[39mlabel \u001b[38;5;241m=\u001b[39m tk\u001b[38;5;241m.\u001b[39mLabel(\u001b[38;5;28mself\u001b[39m, image\u001b[38;5;241m=\u001b[39m\u001b[38;5;28mself\u001b[39m\u001b[38;5;241m.\u001b[39mpython_image)\n\u001b[1;32m     30\u001b[0m \u001b[38;5;28mself\u001b[39m\u001b[38;5;241m.\u001b[39mlabel\u001b[38;5;241m.\u001b[39mpack(expand\u001b[38;5;241m=\u001b[39m\u001b[38;5;28;01mTrue\u001b[39;00m)\n",
      "File \u001b[0;32m~/anaconda3/lib/python3.12/tkinter/__init__.py:3232\u001b[0m, in \u001b[0;36mLabel.__init__\u001b[0;34m(self, master, cnf, **kw)\u001b[0m\n\u001b[1;32m   3214\u001b[0m \u001b[38;5;28;01mdef\u001b[39;00m \u001b[38;5;21m__init__\u001b[39m(\u001b[38;5;28mself\u001b[39m, master\u001b[38;5;241m=\u001b[39m\u001b[38;5;28;01mNone\u001b[39;00m, cnf\u001b[38;5;241m=\u001b[39m{}, \u001b[38;5;241m*\u001b[39m\u001b[38;5;241m*\u001b[39mkw):\n\u001b[1;32m   3215\u001b[0m \u001b[38;5;250m    \u001b[39m\u001b[38;5;124;03m\"\"\"Construct a label widget with the parent MASTER.\u001b[39;00m\n\u001b[1;32m   3216\u001b[0m \n\u001b[1;32m   3217\u001b[0m \u001b[38;5;124;03m    STANDARD OPTIONS\u001b[39;00m\n\u001b[0;32m   (...)\u001b[0m\n\u001b[1;32m   3230\u001b[0m \n\u001b[1;32m   3231\u001b[0m \u001b[38;5;124;03m    \"\"\"\u001b[39;00m\n\u001b[0;32m-> 3232\u001b[0m     Widget\u001b[38;5;241m.\u001b[39m\u001b[38;5;21m__init__\u001b[39m(\u001b[38;5;28mself\u001b[39m, master, \u001b[38;5;124m'\u001b[39m\u001b[38;5;124mlabel\u001b[39m\u001b[38;5;124m'\u001b[39m, cnf, kw)\n",
      "File \u001b[0;32m~/anaconda3/lib/python3.12/tkinter/__init__.py:2648\u001b[0m, in \u001b[0;36mBaseWidget.__init__\u001b[0;34m(self, master, widgetName, cnf, kw, extra)\u001b[0m\n\u001b[1;32m   2646\u001b[0m \u001b[38;5;28;01mfor\u001b[39;00m k, v \u001b[38;5;129;01min\u001b[39;00m classes:\n\u001b[1;32m   2647\u001b[0m     \u001b[38;5;28;01mdel\u001b[39;00m cnf[k]\n\u001b[0;32m-> 2648\u001b[0m \u001b[38;5;28mself\u001b[39m\u001b[38;5;241m.\u001b[39mtk\u001b[38;5;241m.\u001b[39mcall(\n\u001b[1;32m   2649\u001b[0m     (widgetName, \u001b[38;5;28mself\u001b[39m\u001b[38;5;241m.\u001b[39m_w) \u001b[38;5;241m+\u001b[39m extra \u001b[38;5;241m+\u001b[39m \u001b[38;5;28mself\u001b[39m\u001b[38;5;241m.\u001b[39m_options(cnf))\n\u001b[1;32m   2650\u001b[0m \u001b[38;5;28;01mfor\u001b[39;00m k, v \u001b[38;5;129;01min\u001b[39;00m classes:\n\u001b[1;32m   2651\u001b[0m     k\u001b[38;5;241m.\u001b[39mconfigure(\u001b[38;5;28mself\u001b[39m, v)\n",
      "\u001b[0;31mTclError\u001b[0m: image \"pyimage9\" doesn't exist"
     ]
    }
   ],
   "source": [
    "import tkinter as tk\n",
    "from tkinter import ttk\n",
    "from PIL import Image, ImageTk\n",
    "import os\n",
    "\n",
    "class App(tk.Tk):\n",
    "    def __init__(self):\n",
    "        super().__init__()\n",
    "\n",
    "        self.title(\"Image Example\")\n",
    "        self.geometry(\"500x500\")\n",
    "\n",
    "        # Get absolute path of the image\n",
    "        BASE_DIR = os.path.dirname(os.path.abspath(__file__))  # Current script directory\n",
    "        IMAGE_PATH = os.path.join(BASE_DIR, \"tkintestyles.png\")\n",
    "\n",
    "        # Check if image file exists\n",
    "        if not os.path.exists(IMAGE_PATH):\n",
    "            print(f\"❌ Error: Image not found at {IMAGE_PATH}\")\n",
    "            return  # Stop execution if image is missing\n",
    "\n",
    "        # Open and resize the image\n",
    "        pil_image = Image.open(IMAGE_PATH)\n",
    "        pil_image = pil_image.resize((400, 400), Image.LANCZOS)\n",
    "\n",
    "        # Convert to Tkinter-compatible format\n",
    "        self.python_image = ImageTk.PhotoImage(pil_image)  # ✅ Store in instance variable\n",
    "\n",
    "        # Display image in a label\n",
    "        self.label = tk.Label(self, image=self.python_image)\n",
    "        self.label.pack(expand=True)\n",
    "\n",
    "        # Add a button to close the app\n",
    "        self.quit_button = ttk.Button(self, text=\"Exit\", command=self.destroy)\n",
    "        self.quit_button.pack(pady=10)\n",
    "\n",
    "if __name__ == \"__main__\":\n",
    "    app = App()\n",
    "    app.mainloop()\n"
   ]
  },
  {
   "cell_type": "markdown",
   "id": "2e8aa689-4361-49ac-9fe6-234f3fc87e7b",
   "metadata": {},
   "source": [
    "\n",
    "If you run the program, you’ll notice that the window doesn’t show the image.\n",
    "\n",
    "Why?\n",
    "\n",
    "That’s because the python_image is destroyed as soon as the __init__() is ended. Since the program has no reference to the PhotoImage object, the image vanishes even though you’ve packed it into the layout.\n",
    "\n",
    "To fix this issue, you need to make sure the python_image doesn’t go out of scope after the __init__() method ends. For example, you can keep it in the instance of the App class such as self.python_image:"
   ]
  }
 ],
 "metadata": {
  "kernelspec": {
   "display_name": "Python 3 (ipykernel)",
   "language": "python",
   "name": "python3"
  },
  "language_info": {
   "codemirror_mode": {
    "name": "ipython",
    "version": 3
   },
   "file_extension": ".py",
   "mimetype": "text/x-python",
   "name": "python",
   "nbconvert_exporter": "python",
   "pygments_lexer": "ipython3",
   "version": "3.12.2"
  }
 },
 "nbformat": 4,
 "nbformat_minor": 5
}

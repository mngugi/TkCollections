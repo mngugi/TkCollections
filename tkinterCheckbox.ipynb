{
 "cells": [
  {
   "cell_type": "markdown",
   "id": "9629ab64-0288-42d1-bca7-1632ce4def0e",
   "metadata": {},
   "source": [
    "**Introduction to the Tkinter checkbox widget**\n",
    "\n",
    "A checkbox is a widget that allows you to check and uncheck.\n",
    "\n",
    "A checkbox can hold a value and invoke a callback when it’s checked or unchecked.\n",
    "\n",
    "Typically, you use a checkbox when you want to ask users to choose between two values.\n",
    "\n",
    "To create a checkbox, you use the ttk.Checkbutton constructor:\n",
    "```\n",
    "checkbox_var = tk.StringVar()\n",
    "\n",
    "def check_changed():\n",
    "    #...\n",
    "\n",
    "checkbox = ttk.Checkbutton(container,\n",
    "                text='<checkbox label>',\n",
    "                command=check_changed,\n",
    "                variable=checkbox_var,\n",
    "                onvalue='<value_when_checked>',\n",
    "                offvalue='<value_when_unchecked>')\n",
    "```\n",
    "The container argument specifies the window that you want to place the checkbox.\n",
    "\n",
    "The text argument specifies the label for the checkbox.\n",
    "\n",
    "The command is a callable that will be called once the checkbox is checked or unchecked.\n",
    "\n",
    "The variable holds the current value of the checkbox. If the checkbox is checked, the value of the variable is 1. Otherwise, it is 0.\n",
    "\n",
    "If you want other values than 0 and 1, you can specify them in the onvalue and offvalue options.\n",
    "\n",
    "If the linked variable doesn’t exist, or its value is neither the on value nor off value, the checkbox is in the indeterminate or tristate mode."
   ]
  },
  {
   "cell_type": "code",
   "execution_count": 7,
   "id": "d488dc06-7f0d-4960-9e99-0d6fe415db81",
   "metadata": {},
   "outputs": [],
   "source": [
    "import tkinter as tk\n",
    "from tkinter import ttk\n",
    "from tkinter.messagebox import showinfo\n",
    "\n",
    "root = tk.Tk()\n",
    "root.geometry('300x200')\n",
    "root.resizable(False, False)\n",
    "root.title('Checkbox Demo')\n",
    "\n",
    "agreement = tk.StringVar()\n",
    "\n",
    "def agreement_changed():\n",
    "    tk.messagebox.showinfo(title='Result', message=agreement.get())\n",
    "\n",
    "ttk.Checkbutton(root, text='I agree', command=agreement_changed, variable=agreement,\n",
    "               onvalue='agree', offvalue='disagree').pack()\n",
    "\n",
    "root.mainloop()"
   ]
  },
  {
   "cell_type": "markdown",
   "id": "b32389a1-3b8e-4f50-8718-501ddb725d1d",
   "metadata": {},
   "source": [
    "How it works.\n",
    "\n",
    "First, create a string variable that will hold the value of the checkbox:\n",
    "\n",
    "agreement = tk.StringVar()\n",
    "Second, define a function that will be called once the state of the checkbox changed. The function shows the value of the checkbox:\n",
    "\n",
    "```\n",
    "def agreement_changed():\n",
    "    tk.messagebox.showinfo(title='Result',\n",
    "                        message=agreement.get())\n",
    "```\n",
    "Third, create a checkbox widget and set its options accordingly:\n",
    "\n",
    "```\n",
    "ttk.Checkbutton(root,\n",
    "                text='I agree',\n",
    "                command=agreement_changed,\n",
    "                variable=agreement,\n",
    "                onvalue='agree',\n",
    "                offvalue='disagree').pack()\n",
    "```"
   ]
  },
  {
   "cell_type": "code",
   "execution_count": null,
   "id": "86d66cef-9958-4d32-8963-98d26afb88f2",
   "metadata": {},
   "outputs": [],
   "source": []
  }
 ],
 "metadata": {
  "kernelspec": {
   "display_name": "Python 3 (ipykernel)",
   "language": "python",
   "name": "python3"
  },
  "language_info": {
   "codemirror_mode": {
    "name": "ipython",
    "version": 3
   },
   "file_extension": ".py",
   "mimetype": "text/x-python",
   "name": "python",
   "nbconvert_exporter": "python",
   "pygments_lexer": "ipython3",
   "version": "3.12.2"
  }
 },
 "nbformat": 4,
 "nbformat_minor": 5
}

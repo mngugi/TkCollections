{
 "cells": [
  {
   "cell_type": "markdown",
   "id": "4902f252-bf27-4b5d-9e26-584632c1e330",
   "metadata": {},
   "source": [
    "- Install tkinter sudo apt-get install python3-tk"
   ]
  },
  {
   "cell_type": "markdown",
   "id": "e229a6c7-c6c2-424d-9dee-c5b4f7684426",
   "metadata": {},
   "source": [
    "### Creating a window\n",
    "- The following program shows how to display a window on the screen:\n",
    "- The mainloop() method ensures the main window remains visible on the screen."
   ]
  },
  {
   "cell_type": "code",
   "execution_count": 2,
   "id": "38182507-d052-446e-8854-0bb9cd35790f",
   "metadata": {},
   "outputs": [],
   "source": [
    "import tkinter as tk # import the tkinter modules\n",
    "\n",
    "root = tk.Tk()  # create an instance of the tk.Tk class that will create the application window\n",
    "root.mainloop() # call the mainloop() method of the main window object"
   ]
  },
  {
   "cell_type": "code",
   "execution_count": null,
   "id": "c9a80620-2b17-461b-a236-5b256e116e68",
   "metadata": {},
   "outputs": [],
   "source": []
  }
 ],
 "metadata": {
  "kernelspec": {
   "display_name": "Python 3 (ipykernel)",
   "language": "python",
   "name": "python3"
  },
  "language_info": {
   "codemirror_mode": {
    "name": "ipython",
    "version": 3
   },
   "file_extension": ".py",
   "mimetype": "text/x-python",
   "name": "python",
   "nbconvert_exporter": "python",
   "pygments_lexer": "ipython3",
   "version": "3.12.2"
  }
 },
 "nbformat": 4,
 "nbformat_minor": 5
}

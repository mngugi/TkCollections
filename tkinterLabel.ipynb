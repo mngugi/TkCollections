{
 "cells": [
  {
   "cell_type": "markdown",
   "id": "8c54abab-f3e9-4069-8069-b49e6ac39b49",
   "metadata": {},
   "source": [
    "Introduction to Tkinter Label widget\n",
    "Tkinter Label widget is used to display a text or image on the screen. To use a Label widget, you use the following general syntax:\n",
    "\n",
    "`label = ttk.Label(master, **options)`"
   ]
  },
  {
   "cell_type": "markdown",
   "id": "0a114ec7-71e5-4135-a08c-474e1f1c58b6",
   "metadata": {},
   "source": [
    "## Label Widget Options\n",
    "\n",
    "The `Label` widget has many options that allow you to customize its appearance:\n",
    "\n",
    "| **Option**    | **Meaning**                                                                                                                                 |\n",
    "|----------------|--------------------------------------------------------------------------------------------------------------------------------------------|\n",
    "| `anchor`      | When the text and/or image are smaller than the width, the `anchor` option determines where to position them.                                |\n",
    "|                | Valid values: `tk.W`, `tk.CENTER`, or `tk.E` for left, center, and right alignment, respectively.                                           |\n",
    "| `background`  | Set the background color for the label.                                                                                                      |\n",
    "| `borderwidth` | Set the border width for the label. Useful for effects like `flat`, `raised`, `sunken`, `groove`, and `ridge`.                               |\n",
    "| `class_`      | Specify a custom widget class name for changing the label’s appearance.                                                                       |\n",
    "| `compound`    | Specify how to display both text and images on the label.                                                                                     |\n",
    "| `cursor`      | Specify the mouse cursor’s appearance when hovering over the widget.                                                                          |\n",
    "| `font`        | Specify the font style for displaying text (e.g., `\"Arial\", 12`).                                                                              |\n",
    "| `foreground`  | Set the color of the text.                                                                                                                     |\n",
    "| `image`       | Specify an image or images to display either in addition to text or instead of text.                                                           |\n",
    "| `justify`     | Specify the horizontal alignment of text with newlines.                                                                                       |\n",
    "|                | Valid values: `tk.LEFT` (left-justify), `tk.CENTER` (center), and `tk.RIGHT` (right-justify).                                                 |\n",
    "| `padding`     | Add space around the label content.                                                                                                            |\n",
    "| `relief`      | Set the border style (e.g., `flat`, `raised`, `sunken`, `groove`, `ridge`).                                                                   |\n",
    "| `style`       | Apply a custom widget style to the label.                                                                                                      |\n",
    "| `takefocus`   | Boolean. If `True`, the label is included in focus traversal. Defaults to `False`.                                                             |\n",
    "| `text`        | Display a text string in the widget.                                                                                                           |\n",
    "| `textvariable`| Display a text value from a `StringVar`. Overrides `text` if both are specified.                                                               |\n",
    "| `underline`   | Underline a character by specifying its index (e.g., `underline=0` underlines the first character).                                             |\n",
    "| `width`       | Set the number of characters the label can display.                                                                                            |\n",
    "| `wraplength`  | Break text into lines that fit within the specified pixel width.                                                                               |\n"
   ]
  },
  {
   "cell_type": "markdown",
   "id": "30defb6a-57fa-479c-8272-df9ed1db0488",
   "metadata": {},
   "source": [
    "### Displaying a regular label\n",
    "The following program shows how to display a regular label on the root window:"
   ]
  },
  {
   "cell_type": "code",
   "execution_count": 3,
   "id": "5e11cd32-8620-4436-a220-4075c933b3ee",
   "metadata": {},
   "outputs": [],
   "source": [
    "import tkinter as tk\n",
    "from tkinter import Label\n",
    "\n",
    "root = tk.Tk()\n",
    "root.geometry('300x200')\n",
    "root.resizable(False, False)\n",
    "root.title('Label Widget Demo')\n",
    "\n",
    "# show the label here\n",
    "label = Label(root, text='Text label',font=(\"Helvetica\", 14))\n",
    "label.pack(ipadx=10, ipady=10)\n",
    "\n",
    "root.mainloop()"
   ]
  },
  {
   "cell_type": "markdown",
   "id": "50f97052-c915-4b1c-9896-c02ddbeefd98",
   "metadata": {},
   "source": [
    "- First, import Label class from the tkinter.ttk module.\n",
    "- Second, create the root window and set its properties including size, resizeable, and title.\n",
    "- Third, create a new instance of the Label widget, set its container to the root window, and assign a literal string to its text property."
   ]
  },
  {
   "cell_type": "markdown",
   "id": "9b2318d9-8c1d-44ac-8ef1-35435cb1ea9f",
   "metadata": {},
   "source": [
    "### Setting a specific font for the Label\n",
    "To set a particular font for a label, you pass the font keyword argument to the Label constructor like this:\n",
    "\n",
    "`font = ('font name', font_size)`\n",
    "Code language: Python (python)\n",
    "The font keyword argument is a tuple that contains font name and size. For example:\n",
    "\n",
    "`font=(\"Helvetica\", 14)`\n",
    "`label = Label(root, text='Text label',font=(\"Helvetica\", 14))`\n",
    "Code language: Python (python)\n",
    "The following example shows a label with the Helvetica font:\n"
   ]
  },
  {
   "cell_type": "markdown",
   "id": "1a29344d-f74d-41b4-a31a-80f93b8cd3fa",
   "metadata": {},
   "source": [
    "### Displaying an image\n",
    "To use a Label widget to display an image, you follow these steps:\n",
    "\n",
    "First, create a PhotoImage widget by passing the path of the photo to the PhotoImage constructor:\n",
    "\n",
    "`photo = tk.PhotoImage(file='./assets/python.png')`\n",
    "\n",
    "**Code language: Python (python)**\n",
    "Second, assign the PhotoImage object to the image option of the Label widget:\n",
    "\n",
    "`Label(..., image=photo)`\n",
    "\n",
    "**Code language: Python (python)**\n",
    "The following example shows how to use a Label widget to display an image:\n",
    "\n"
   ]
  },
  {
   "cell_type": "code",
   "execution_count": 1,
   "id": "b7ee153d-7e73-4a4e-997b-03fc350d94e4",
   "metadata": {},
   "outputs": [],
   "source": [
    "import tkinter as tk\n",
    "from tkinter import ttk\n",
    "\n",
    "# Create the root window\n",
    "root = tk.Tk()\n",
    "root.geometry('300x200')\n",
    "root.resizable(False, False)\n",
    "root.title('Label Widget Image')\n",
    "\n",
    "try:\n",
    "    # Display an image label\n",
    "    photo = tk.PhotoImage(file='/home/sigma69/Documents/GitHub/TkCollections/pyIcon.png')\n",
    "    image_label = tk.Label(root, image=photo, padding=10)\n",
    "    image_label.image = photo  # Keep a reference to avoid garbage collection\n",
    "    image_label.pack()\n",
    "except Exception as e:\n",
    "    # Handle missing or invalid image files\n",
    "    error_label = tk.Label(root, text=f\"Error loading image: {e}\", fg=\"red\", font=(\"Arial\", 10))\n",
    "    error_label.pack(pady=20)\n",
    "\n",
    "root.mainloop()\n",
    "\n"
   ]
  },
  {
   "cell_type": "code",
   "execution_count": 3,
   "id": "72bb45a0-b7bd-4c30-9d7d-97c2742704f4",
   "metadata": {},
   "outputs": [
    {
     "name": "stdout",
     "output_type": "stream",
     "text": [
      "Absolute path: /home/sigma69/Documents/GitHub/TkCollections/pyIcon.png\n",
      "File exists: True\n",
      "Error loading image: unknown option \"-padding\"\n"
     ]
    }
   ],
   "source": [
    "import tkinter as tk\n",
    "import os\n",
    "\n",
    "# Check file existence\n",
    "file_path = 'pyIcon.png'\n",
    "print(f\"Absolute path: {os.path.abspath(file_path)}\")\n",
    "print(f\"File exists: {os.path.exists(file_path)}\")\n",
    "\n",
    "# Create the root window\n",
    "root = tk.Tk()\n",
    "root.geometry('300x200')\n",
    "root.title('Label Widget Image')\n",
    "\n",
    "try:\n",
    "    photo = tk.PhotoImage(file=file_path)\n",
    "    image_label = tk.Label(root, image=photo, padding=10)\n",
    "    image_label.image = photo\n",
    "    image_label.pack()\n",
    "except Exception as e:\n",
    "    print(f\"Error loading image: {e}\")\n",
    "    error_label = tk.Label(root, text=f\"Error: {e}\", fg=\"red\")\n",
    "    error_label.pack()\n",
    "\n",
    "root.mainloop()\n"
   ]
  },
  {
   "cell_type": "markdown",
   "id": "dd2f828a-9831-4745-ba37-a90d2f4ed978",
   "metadata": {},
   "source": [
    "Note that the image file is located at the / / folder.\n",
    "\n",
    "To display both text and image, you’ll use the text attribute and compound option.\n",
    "\n",
    "The compound option specifies the position of the image relative to the text. Its valid values are:"
   ]
  },
  {
   "cell_type": "markdown",
   "id": "548d531f-6e51-4251-bd6c-6252558c8593",
   "metadata": {},
   "source": [
    "## Compound Options for `Label` Widget\n",
    "\n",
    "The `compound` option in a `Label` widget determines how the text and image are displayed together.\n",
    "\n",
    "| **Compound Value** | **Effect**                                                                                     |\n",
    "|---------------------|------------------------------------------------------------------------------------------------|\n",
    "| `top`               | Display the image **above** the text.                                                           |\n",
    "| `bottom`            | Display the image **below** the text.                                                           |\n",
    "| `left`              | Display the image to the **left** of the text.                                                  |\n",
    "| `right`             | Display the image to the **right** of the text.                                                 |\n",
    "| `none`              | Display the **image if available**; otherwise, display the text. *(Default)*                    |\n",
    "| `text`              | Display **only the text**, even if an image is specified.                                        |\n",
    "| `image`             | Display **only the image**, even if text is specified.                                           |\n"
   ]
  },
  {
   "cell_type": "code",
   "execution_count": null,
   "id": "f440f5a0-b94c-424d-b65b-9285f17bc219",
   "metadata": {},
   "outputs": [],
   "source": []
  }
 ],
 "metadata": {
  "kernelspec": {
   "display_name": "Python 3 (ipykernel)",
   "language": "python",
   "name": "python3"
  },
  "language_info": {
   "codemirror_mode": {
    "name": "ipython",
    "version": 3
   },
   "file_extension": ".py",
   "mimetype": "text/x-python",
   "name": "python",
   "nbconvert_exporter": "python",
   "pygments_lexer": "ipython3",
   "version": "3.12.2"
  }
 },
 "nbformat": 4,
 "nbformat_minor": 5
}

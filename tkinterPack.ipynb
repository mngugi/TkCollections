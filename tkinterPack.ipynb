{
 "cells": [
  {
   "cell_type": "markdown",
   "id": "6a57fc0d-de03-4402-a305-b9517a8ac038",
   "metadata": {},
   "source": [
    "**Introduction to the Tkinter pack geometry manager**\n",
    "\n",
    "Tkinter uses the geometry manager to organize widgets on a window. Tkinter supports three geometry managers:\n",
    "\n",
    "- pack\n",
    "- grid\n",
    "- place\n",
    "The pack geometry manager organizes widgets in blocks before placing them on the container widget, which can be the main window or a frame.\n",
    "\n",
    "The pack geometry manager has many options that arrange the widgets:\n",
    "\n",
    "- Side\n",
    "- Expand\n",
    "- Fill\n",
    "- ipadx, ipady\n",
    "- padx, pady\n",
    "- Anchor\n"
   ]
  },
  {
   "cell_type": "code",
   "execution_count": 2,
   "id": "ce6bf6df-b97f-486c-bb57-f8feb177fdaf",
   "metadata": {},
   "outputs": [],
   "source": [
    "import tkinter as tk\n",
    "\n",
    "root = tk.Tk()\n",
    "root.title(\"Demo Window\")\n",
    "root.geometry('600x400+50+50')\n",
    "\n",
    "label1 = tk.Label(master=root, text='Tkinter', bg='red', fg='yellow')\n",
    "label2 = tk.Label(master=root, text='Pck Layout', bg='orange', fg='blue')\n",
    "label1.pack()\n",
    "label2.pack()\n",
    "root.mainloop()"
   ]
  },
  {
   "cell_type": "code",
   "execution_count": null,
   "id": "400c74a1-da2c-4754-a9b6-9b58c04c75a3",
   "metadata": {},
   "outputs": [],
   "source": []
  }
 ],
 "metadata": {
  "kernelspec": {
   "display_name": "Python 3 (ipykernel)",
   "language": "python",
   "name": "python3"
  },
  "language_info": {
   "codemirror_mode": {
    "name": "ipython",
    "version": 3
   },
   "file_extension": ".py",
   "mimetype": "text/x-python",
   "name": "python",
   "nbconvert_exporter": "python",
   "pygments_lexer": "ipython3",
   "version": "3.12.2"
  }
 },
 "nbformat": 4,
 "nbformat_minor": 5
}

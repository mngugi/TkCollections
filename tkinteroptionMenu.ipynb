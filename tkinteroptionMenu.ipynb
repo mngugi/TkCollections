{
 "cells": [
  {
   "cell_type": "markdown",
   "id": "0b8689cb-523d-4f66-90ed-aeb19577ecd8",
   "metadata": {},
   "source": [
    "**Introduction to the Tkinter OptionMenu widget**\n",
    "\n",
    "The OptionMenu widget provides you with a predefined set of options in a drop-down menu."
   ]
  }
 ],
 "metadata": {
  "kernelspec": {
   "display_name": "Python 3 (ipykernel)",
   "language": "python",
   "name": "python3"
  },
  "language_info": {
   "codemirror_mode": {
    "name": "ipython",
    "version": 3
   },
   "file_extension": ".py",
   "mimetype": "text/x-python",
   "name": "python",
   "nbconvert_exporter": "python",
   "pygments_lexer": "ipython3",
   "version": "3.12.2"
  }
 },
 "nbformat": 4,
 "nbformat_minor": 5
}

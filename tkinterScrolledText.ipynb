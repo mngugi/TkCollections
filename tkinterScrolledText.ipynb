{
 "cells": [
  {
   "cell_type": "markdown",
   "id": "be272451-f455-4366-bd49-758fb84d0b90",
   "metadata": {},
   "source": [
    "**Introduction to the Tkinter ScrolledText widget**\n",
    "\n",
    "So far, you’ve learned how to create a Text widget and how to link a vertical Scrollbar to the text widget.\n",
    "\n",
    "To make it more convenient, Tkinter provides you with the ScrolledText widget which does the same things as a text widget linked to a vertical scroll bar.\n",
    "\n",
    "To use the ScrolledText widget, you need to import the ScrolledText class from the tkinter.scrolledtext module.\n",
    "\n",
    "Technically, the ScrolledText class inherits from the Text class.\n",
    "\n",
    "The ScrolledText widget uses a Frame widget inserted between the container and the Text widget to hold the Scrollbar widget.\n",
    "\n",
    "Therefore, the ScrolledText has the same properties and methods as the Text widget. In addition, the geometry manager methods including pack, grid, and place are restricted to the Frame.\n",
    "\n",
    "**Tkinter ScrolledText widget example**\n"
   ]
  },
  {
   "cell_type": "code",
   "execution_count": 1,
   "id": "1ac4b6ca-4d1d-4bc9-b92d-077a5cddee45",
   "metadata": {},
   "outputs": [],
   "source": [
    "import tkinter as tk\n",
    "from tkinter.scrolledtext import ScrolledText\n",
    "\n",
    "root= tk.Tk()\n",
    "root.title(\"Scroll Text Widget\")\n",
    "\n",
    "st= ScrolledText(root, width=50, height=10)\n",
    "st.pack(fill= tk.BOTH, side=tk.LEFT, expand=True)\n",
    "\n",
    "root.mainloop()"
   ]
  },
  {
   "cell_type": "markdown",
   "id": "143cb7c6-f60c-4670-8196-9bc5188d65f2",
   "metadata": {},
   "source": [
    "- First, import the tkinter module and the ScrolledText class from the tkinter.scrolledtext module.\n",
    "- Second, create the root window and set its title to 'ScrolledText Widget'.\n",
    "Third, create a new ScrolledText widget and display it on the root window.\n",
    "Finally, start the main loop."
   ]
  }
 ],
 "metadata": {
  "kernelspec": {
   "display_name": "Python 3 (ipykernel)",
   "language": "python",
   "name": "python3"
  },
  "language_info": {
   "codemirror_mode": {
    "name": "ipython",
    "version": 3
   },
   "file_extension": ".py",
   "mimetype": "text/x-python",
   "name": "python",
   "nbconvert_exporter": "python",
   "pygments_lexer": "ipython3",
   "version": "3.12.2"
  }
 },
 "nbformat": 4,
 "nbformat_minor": 5
}

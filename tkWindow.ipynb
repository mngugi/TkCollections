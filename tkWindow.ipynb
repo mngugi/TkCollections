{
 "cells": [
  {
   "cell_type": "markdown",
   "id": "970200e2-bebb-4c14-9b49-666010217c20",
   "metadata": {},
   "source": [
    "### Tkinter Window\n",
    "* the program below is a simple window program"
   ]
  },
  {
   "cell_type": "code",
   "execution_count": 1,
   "id": "2cf1be87-0a8b-42cc-8b51-0e9d23ed2d58",
   "metadata": {},
   "outputs": [],
   "source": [
    "import tkinter as tk\n",
    "\n",
    "root = tk.Tk()\n",
    "root.mainloop()\n",
    "\n"
   ]
  },
  {
   "cell_type": "markdown",
   "id": "fbdbde7c-eb91-4021-b293-cc7aadaa13be",
   "metadata": {},
   "source": [
    "### Changing the window title\n",
    "- To change the window’s title, you use the title() method like this:"
   ]
  },
  {
   "cell_type": "code",
   "execution_count": 4,
   "id": "5fa632de-8c5d-49b1-bf1e-db3919d4c7d1",
   "metadata": {},
   "outputs": [
    {
     "ename": "TclError",
     "evalue": "can't invoke \"wm\" command: application has been destroyed",
     "output_type": "error",
     "traceback": [
      "\u001b[0;31m---------------------------------------------------------------------------\u001b[0m",
      "\u001b[0;31mTclError\u001b[0m                                  Traceback (most recent call last)",
      "Cell \u001b[0;32mIn[4], line 6\u001b[0m\n\u001b[1;32m      3\u001b[0m root \u001b[38;5;241m=\u001b[39m tk\u001b[38;5;241m.\u001b[39mTk()\n\u001b[1;32m      4\u001b[0m root\u001b[38;5;241m.\u001b[39mmainloop()\n\u001b[0;32m----> 6\u001b[0m root\u001b[38;5;241m.\u001b[39mtitle(\u001b[38;5;124m\"\u001b[39m\u001b[38;5;124mDemon Window\u001b[39m\u001b[38;5;124m\"\u001b[39m)\n\u001b[1;32m      7\u001b[0m root\u001b[38;5;241m.\u001b[39mmainloop()\n",
      "File \u001b[0;32m~/anaconda3/lib/python3.12/tkinter/__init__.py:2301\u001b[0m, in \u001b[0;36mWm.wm_title\u001b[0;34m(self, string)\u001b[0m\n\u001b[1;32m   2299\u001b[0m \u001b[38;5;28;01mdef\u001b[39;00m \u001b[38;5;21mwm_title\u001b[39m(\u001b[38;5;28mself\u001b[39m, string\u001b[38;5;241m=\u001b[39m\u001b[38;5;28;01mNone\u001b[39;00m):\n\u001b[1;32m   2300\u001b[0m \u001b[38;5;250m    \u001b[39m\u001b[38;5;124;03m\"\"\"Set the title of this widget.\"\"\"\u001b[39;00m\n\u001b[0;32m-> 2301\u001b[0m     \u001b[38;5;28;01mreturn\u001b[39;00m \u001b[38;5;28mself\u001b[39m\u001b[38;5;241m.\u001b[39mtk\u001b[38;5;241m.\u001b[39mcall(\u001b[38;5;124m'\u001b[39m\u001b[38;5;124mwm\u001b[39m\u001b[38;5;124m'\u001b[39m, \u001b[38;5;124m'\u001b[39m\u001b[38;5;124mtitle\u001b[39m\u001b[38;5;124m'\u001b[39m, \u001b[38;5;28mself\u001b[39m\u001b[38;5;241m.\u001b[39m_w, string)\n",
      "\u001b[0;31mTclError\u001b[0m: can't invoke \"wm\" command: application has been destroyed"
     ]
    }
   ],
   "source": [
    "import tkinter as tk\n",
    "\n",
    "root = tk.Tk()\n",
    "root.title(\"Demo Window\")\n",
    "\n",
    "root.mainloop()"
   ]
  },
  {
   "cell_type": "code",
   "execution_count": null,
   "id": "5d2697fa-ac33-4f1b-863a-6970c9b2b707",
   "metadata": {},
   "outputs": [],
   "source": []
  }
 ],
 "metadata": {
  "kernelspec": {
   "display_name": "Python 3 (ipykernel)",
   "language": "python",
   "name": "python3"
  },
  "language_info": {
   "codemirror_mode": {
    "name": "ipython",
    "version": 3
   },
   "file_extension": ".py",
   "mimetype": "text/x-python",
   "name": "python",
   "nbconvert_exporter": "python",
   "pygments_lexer": "ipython3",
   "version": "3.12.2"
  }
 },
 "nbformat": 4,
 "nbformat_minor": 5
}

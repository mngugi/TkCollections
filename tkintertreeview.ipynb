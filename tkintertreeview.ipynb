{
 "cells": [
  {
   "cell_type": "markdown",
   "id": "8d9f0610-d5c9-4427-b6c9-832535642123",
   "metadata": {},
   "source": [
    "**Introduction to the Tkinter Treeview widget**\n",
    "    \n",
    "A Treeview widget allows you to display data in both tabular and hierarchical structures. To create a Treeview widget, you use the ttk.Treeview class:\n",
    "\n",
    "`tree = ttk.Treeview(container, **options)`\n",
    "\n",
    "A Treeview widget holds a list of items. Each item has one or more columns.\n",
    "\n",
    "The first column may contain text and an icon that indicates whether it can be expansible or not. The remaining columns contain values of each row.\n",
    "\n",
    "The first row of the Treeview consists of headings that identify each column by a name.\n",
    "\n",
    "**Using Tkinter Treeview to display tabular data**\n"
   ]
  }
 ],
 "metadata": {
  "kernelspec": {
   "display_name": "Python 3 (ipykernel)",
   "language": "python",
   "name": "python3"
  },
  "language_info": {
   "codemirror_mode": {
    "name": "ipython",
    "version": 3
   },
   "file_extension": ".py",
   "mimetype": "text/x-python",
   "name": "python",
   "nbconvert_exporter": "python",
   "pygments_lexer": "ipython3",
   "version": "3.12.2"
  }
 },
 "nbformat": 4,
 "nbformat_minor": 5
}

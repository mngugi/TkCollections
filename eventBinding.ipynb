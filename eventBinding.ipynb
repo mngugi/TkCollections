{
 "cells": [
  {
   "cell_type": "markdown",
   "id": "2f564e39-45f7-4bc6-9d0e-9f5b50844d0c",
   "metadata": {},
   "source": [
    "### Introduction to the Tkinter event binding\n",
    "Assigning a function to an event of a widget is known as event binding. The assigned function is invoked automatically when the event occurs.\n",
    "\n",
    "In the previous tutorial, you learned how to bind a function to an event of a widget via the command option. However, it’s important to note that not all Tkinter widgets support the command option.\n",
    "\n",
    "Therefore, Tkinter provides you with an alternative way for event binding via the bind() method.\n",
    "\n",
    "The following shows the general syntax of the bind() method:\n",
    "\n",
    "`widget.bind(event, handler, add=None)`\n",
    "\n",
    "When an event occurs in the widget, Tkinter will automatically invoke the handler with the event details.\n",
    "\n",
    "If you want to register an additional handler, you can pass the '+' to the add argument. This allows you to have multiple event handlers responding to the same event."
   ]
  },
  {
   "cell_type": "code",
   "execution_count": 1,
   "id": "8cf42bae-8394-47b4-a153-351af433c1da",
   "metadata": {},
   "outputs": [],
   "source": [
    "import tkinter as tk\n",
    "from tkinter import ttk\n",
    "\n",
    "root = tk.Tk()\n",
    "root.geometry('600x400+50+50')\n",
    "\n",
    "def return_pressed(event):\n",
    "    print('Return pressed key')\n",
    "\n",
    "\n",
    "btn = ttk.Button(root, text='Save')\n",
    "btn.bind('<Return>', return_pressed)\n",
    "\n",
    "\n",
    "btn.focus()\n",
    "btn.pack(expand=True)\n",
    "\n",
    "root.mainloop()\n"
   ]
  },
  {
   "cell_type": "markdown",
   "id": "108de8d1-60ae-4293-9e2a-f13b2fa039f5",
   "metadata": {},
   "source": [
    "In this example, the following statement calls the bind() method on the button widget to bind the Return key pressed event:\n",
    "\n",
    "`btn.bind('<Return>', return_pressed)`"
   ]
  },
  {
   "cell_type": "code",
   "execution_count": 2,
   "id": "6163b524-35d8-489d-970f-a202ab8960d5",
   "metadata": {},
   "outputs": [],
   "source": [
    "import tkinter as tk\n",
    "from tkinter import ttk\n",
    "\n",
    "root = tk.Tk()\n",
    "root.geometry('600x400+50+50')\n",
    "\n",
    "def return_pressed(event):\n",
    "    print('Return pressed key')\n",
    "\n",
    "def log(event):\n",
    "    print(event)\n",
    "\n",
    "\n",
    "btn = ttk.Button(root, text='Save')\n",
    "btn.bind('<Return>', return_pressed)\n",
    "btn.bind('<Return>', log, add='+')\n",
    "\n",
    "btn.focus()\n",
    "btn.pack(expand=True)\n",
    "\n",
    "root.mainloop()\n"
   ]
  },
  {
   "cell_type": "markdown",
   "id": "84f9248c-cea2-42d1-95a5-6f0c56cc0e5d",
   "metadata": {},
   "source": [
    "When you move the focus to the button and press the Return key, Tkinter automatically invokes the return_pressed and log functions.\n",
    "\n",
    "The following binds the log() function to the Return key pressed event of the 'Save' button:\n",
    "\n",
    "btn.bind('<Return>', log, add='+')\n",
    "Code language: Python (python)\n",
    "In this statement, the third argument add='+' registered additional handler, which is the log() function.\n",
    "\n",
    "If you don’t specify the add='+' argument, the bind() method will replace the existing handler (return_pressed) by the new one (log)."
   ]
  },
  {
   "cell_type": "markdown",
   "id": "5afcc037-9b69-4add-b268-109d0f7a8120",
   "metadata": {},
   "source": [
    "Event patterns\n",
    "Tkinter uses event patterns to map event names with handlers. For example, the <Return> denotes the Return key pressed.\n",
    "\n",
    "The following shows the general syntax of an event pattern:\n",
    "\n",
    "<modifier-type-detail>\n",
    "Code language: HTML, XML (xml)\n",
    "In this syntax, an event is surrounded by angle brackets (<>). Inside the angle brackets, there are zero or more modifiers, an event type, and detailed information about the event.\n",
    "\n",
    "For example, the <KeyPress-A> denotes a keyboard press of the key A . and <Alt-Control-KeyPress-KP_Delete> represents a keypress of Alt + Ctrl + Delete.\n",
    "\n",
    "The following section shows the most commonly used event modifiers, event types, and event details."
   ]
  },
  {
   "cell_type": "code",
   "execution_count": null,
   "id": "63d9b2ca-60e6-43f5-ad96-2d9e51e4837d",
   "metadata": {},
   "outputs": [],
   "source": []
  }
 ],
 "metadata": {
  "kernelspec": {
   "display_name": "Python 3 (ipykernel)",
   "language": "python",
   "name": "python3"
  },
  "language_info": {
   "codemirror_mode": {
    "name": "ipython",
    "version": 3
   },
   "file_extension": ".py",
   "mimetype": "text/x-python",
   "name": "python",
   "nbconvert_exporter": "python",
   "pygments_lexer": "ipython3",
   "version": "3.12.2"
  }
 },
 "nbformat": 4,
 "nbformat_minor": 5
}

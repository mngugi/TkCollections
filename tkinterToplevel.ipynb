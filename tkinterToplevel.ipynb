{
 "cells": [
  {
   "cell_type": "markdown",
   "id": "0128b3cf-19dd-4d1e-a451-42a6aa61c118",
   "metadata": {},
   "source": [
    "**Introduction to Tkinter Toplevel window**\n",
    "\n",
    "In a Tkinter application, the instance of the Tk class represents the main window.\n",
    "\n",
    "When you destroy the main window, the application exits, and the event loop finishes.\n",
    "\n",
    "Sometimes, you need to create additional windows. For example, you may want to create a custom dialog or a wizard form.\n",
    "\n",
    "To do that, you can use top-level windows which are instances of the Toplevel class.\n",
    "\n",
    "Unlike the main window, you can create as many top-level windows as you want.\n",
    "\n",
    "To show a Toplevel window from the main window, you follow these steps:\n",
    "\n",
    "First, create an instance of the Toplevel class and set its parent to the root window:\n",
    "\n",
    "`window = tk.Toplevel(root)`\n",
    "\n",
    "The moment you create the Toplevel window, it’ll display on the screen.\n",
    "\n",
    "Second, add widgets to the Toplevel window like you do with the frames and main window.\n",
    "\n",
    "Third, call the grab_set() method of the Toplevel window instance to allow it to receive events and prevent users from interacting with the main window:\n",
    "\n",
    "`window.grab_set()`\n",
    "\n",
    "When you click the button, it’ll open a Toplevel window. The Toplevel window also consists of a button.\n",
    "\n",
    "If you click or press the Close button, the Toplevel window closes."
   ]
  }
 ],
 "metadata": {
  "kernelspec": {
   "display_name": "Python 3 (ipykernel)",
   "language": "python",
   "name": "python3"
  },
  "language_info": {
   "codemirror_mode": {
    "name": "ipython",
    "version": 3
   },
   "file_extension": ".py",
   "mimetype": "text/x-python",
   "name": "python",
   "nbconvert_exporter": "python",
   "pygments_lexer": "ipython3",
   "version": "3.12.2"
  }
 },
 "nbformat": 4,
 "nbformat_minor": 5
}

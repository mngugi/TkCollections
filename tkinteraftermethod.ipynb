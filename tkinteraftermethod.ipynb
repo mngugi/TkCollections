{
 "cells": [
  {
   "cell_type": "markdown",
   "id": "ca9cfe67-66b1-4478-9037-3c6bf3f97616",
   "metadata": {},
   "source": [
    "**Introduction to Tkinter after() method**\n",
    "\n",
    "All Tkinter widgets have the after() method with the following syntax:\n",
    "\n",
    "`widget.after(delay, callback=None)`\n",
    "\n",
    "The after() method calls the callback function once after a delay milliseconds (ms) within Tkinter’s main loop.\n",
    "\n",
    "If you don’t provide the callback, the after() method behaves like the time.sleep() function. However, the after() method uses the millisecond instead of the second as the unit."
   ]
  }
 ],
 "metadata": {
  "kernelspec": {
   "display_name": "Python 3 (ipykernel)",
   "language": "python",
   "name": "python3"
  },
  "language_info": {
   "codemirror_mode": {
    "name": "ipython",
    "version": 3
   },
   "file_extension": ".py",
   "mimetype": "text/x-python",
   "name": "python",
   "nbconvert_exporter": "python",
   "pygments_lexer": "ipython3",
   "version": "3.12.2"
  }
 },
 "nbformat": 4,
 "nbformat_minor": 5
}

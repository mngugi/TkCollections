{
 "cells": [
  {
   "cell_type": "markdown",
   "id": "9333bac7-cccb-4189-a42d-e7e5dd778789",
   "metadata": {},
   "source": [
    "**Introduction to the Tkinter PhotoImage widget**\n",
    "\n",
    "In Tkinter, some widgets can display an image such as Label and Button. These widgets take an image argument that allows them to display an image.\n",
    "\n",
    "However, you can’t just simply pass the path to an image file to the image argument. Instead, you need to create a PhotoImage object and pass it the image argument.\n",
    "\n",
    "To create a new PhotoImage object, you use the following syntax:\n",
    "\n",
    "`photo_image = tk.PhotoImage(file=path_to_image)`\n",
    "\n",
    "In this syntax, you pass the path to the image to the file argument to create a new PhotoImage object.\n",
    "\n",
    "Alternatively, you pass a bytes object that contains image data to the data argument.\n",
    "\n",
    "After creating a PhotoImage object, you can use it in other widgets that accept an image argument:\n",
    "\n",
    "`label = ttk.Label(root, image=photo_image)`\n",
    "\n",
    "It’s important to note that you keep the reference to the PhotoImage object in scope for as long as the image will be shown. Otherwise, the image won’t appear.\n",
    "\n",
    "The following example attempts to display an image with the path './assets/python.png' on the root window:\n",
    "\n"
   ]
  },
  {
   "cell_type": "code",
   "execution_count": 6,
   "id": "77c1e313-ea1a-4bb7-95a9-9d7e68073614",
   "metadata": {
    "scrolled": true
   },
   "outputs": [
    {
     "ename": "NameError",
     "evalue": "name '__file__' is not defined",
     "output_type": "error",
     "traceback": [
      "\u001b[0;31m---------------------------------------------------------------------------\u001b[0m",
      "\u001b[0;31mNameError\u001b[0m                                 Traceback (most recent call last)",
      "Cell \u001b[0;32mIn[6], line 33\u001b[0m\n\u001b[1;32m     30\u001b[0m         label\u001b[38;5;241m.\u001b[39mpack(expand\u001b[38;5;241m=\u001b[39m\u001b[38;5;28;01mTrue\u001b[39;00m)\n\u001b[1;32m     32\u001b[0m \u001b[38;5;28;01mif\u001b[39;00m \u001b[38;5;18m__name__\u001b[39m \u001b[38;5;241m==\u001b[39m \u001b[38;5;124m\"\u001b[39m\u001b[38;5;124m__main__\u001b[39m\u001b[38;5;124m\"\u001b[39m:\n\u001b[0;32m---> 33\u001b[0m     app \u001b[38;5;241m=\u001b[39m App()\n\u001b[1;32m     34\u001b[0m     app\u001b[38;5;241m.\u001b[39mmainloop()\n",
      "Cell \u001b[0;32mIn[6], line 14\u001b[0m, in \u001b[0;36mApp.__init__\u001b[0;34m(self)\u001b[0m\n\u001b[1;32m     11\u001b[0m \u001b[38;5;28mself\u001b[39m\u001b[38;5;241m.\u001b[39mgeometry(\u001b[38;5;124m\"\u001b[39m\u001b[38;5;124m500x500\u001b[39m\u001b[38;5;124m\"\u001b[39m)\n\u001b[1;32m     13\u001b[0m \u001b[38;5;66;03m# Get absolute path\u001b[39;00m\n\u001b[0;32m---> 14\u001b[0m BASE_DIR \u001b[38;5;241m=\u001b[39m os\u001b[38;5;241m.\u001b[39mpath\u001b[38;5;241m.\u001b[39mdirname(os\u001b[38;5;241m.\u001b[39mpath\u001b[38;5;241m.\u001b[39mabspath(\u001b[38;5;18m__file__\u001b[39m))\n\u001b[1;32m     15\u001b[0m IMAGE_PATH \u001b[38;5;241m=\u001b[39m os\u001b[38;5;241m.\u001b[39mpath\u001b[38;5;241m.\u001b[39mjoin(BASE_DIR, \u001b[38;5;124m\"\u001b[39m\u001b[38;5;124mtkintestyles.png\u001b[39m\u001b[38;5;124m\"\u001b[39m)\n\u001b[1;32m     17\u001b[0m \u001b[38;5;66;03m# Check if file exists\u001b[39;00m\n",
      "\u001b[0;31mNameError\u001b[0m: name '__file__' is not defined"
     ]
    }
   ],
   "source": [
    "import tkinter as tk\n",
    "from tkinter import ttk\n",
    "from PIL import Image, ImageTk\n",
    "import os\n",
    "\n",
    "class App(tk.Tk):\n",
    "    def __init__(self):\n",
    "        super().__init__()\n",
    "\n",
    "        self.title(\"Image Example\")\n",
    "        self.geometry(\"500x500\")\n",
    "\n",
    "        # Get the directory of the script safely\n",
    "        BASE_DIR = os.getcwd()  # Use os.getcwd() instead of __file__\n",
    "        IMAGE_PATH = os.path.join(BASE_DIR, \"tkintestyles.png\")\n",
    "\n",
    "        # Check if the file exists\n",
    "        if not os.path.exists(IMAGE_PATH):\n",
    "            print(f\"Error: Image file not found at {IMAGE_PATH}\")\n",
    "            return  # Exit if image is missing\n",
    "\n",
    "        # Open and resize the image\n",
    "        pil_image = Image.open(IMAGE_PATH)\n",
    "        pil_image = pil_image.resize((400, 400), Image.Resampling.LANCZOS)\n",
    "\n",
    "        self.python_image = ImageTk.PhotoImage(pil_image)\n",
    "\n",
    "        # Display the image\n",
    "        label = ttk.Label(self, image=self.python_image)\n",
    "        label.pack(expand=True)\n",
    "\n",
    "if __name__ == \"__main__\":\n",
    "    app = App()\n",
    "    app.mainloop()\n"
   ]
  },
  {
   "cell_type": "markdown",
   "id": "2e8aa689-4361-49ac-9fe6-234f3fc87e7b",
   "metadata": {},
   "source": [
    "\n",
    "If you run the program, you’ll notice that the window doesn’t show the image.\n",
    "\n",
    "Why?\n",
    "\n",
    "That’s because the python_image is destroyed as soon as the __init__() is ended. Since the program has no reference to the PhotoImage object, the image vanishes even though you’ve packed it into the layout.\n",
    "\n",
    "To fix this issue, you need to make sure the python_image doesn’t go out of scope after the __init__() method ends. For example, you can keep it in the instance of the App class such as self.python_image:"
   ]
  }
 ],
 "metadata": {
  "kernelspec": {
   "display_name": "Python 3 (ipykernel)",
   "language": "python",
   "name": "python3"
  },
  "language_info": {
   "codemirror_mode": {
    "name": "ipython",
    "version": 3
   },
   "file_extension": ".py",
   "mimetype": "text/x-python",
   "name": "python",
   "nbconvert_exporter": "python",
   "pygments_lexer": "ipython3",
   "version": "3.12.2"
  }
 },
 "nbformat": 4,
 "nbformat_minor": 5
}

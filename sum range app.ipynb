{
 "cells": [
  {
   "cell_type": "code",
   "execution_count": null,
   "id": "5d372849-c2b3-409e-8ee0-566fd6711458",
   "metadata": {},
   "outputs": [
    {
     "name": "stderr",
     "output_type": "stream",
     "text": [
      "Exception in Tkinter callback\n",
      "Traceback (most recent call last):\n",
      "  File \"/home/sigma69/anaconda3/lib/python3.12/tkinter/__init__.py\", line 1967, in __call__\n",
      "    return self.func(*args)\n",
      "           ^^^^^^^^^^^^^^^^\n",
      "  File \"/tmp/ipykernel_10932/597378467.py\", line 36, in sum_range\n",
      "    animate_sum(start, end, start, 0)\n",
      "TypeError: animate_sum() takes from 0 to 3 positional arguments but 4 were given\n"
     ]
    }
   ],
   "source": [
    "import tkinter as tk\n",
    "from tkinter import messagebox\n",
    "\n",
    "def sum_range():\n",
    "    try:\n",
    "        start = int(entry_start.get())\n",
    "        end = int(entry_end.get())\n",
    "    except ValueError:\n",
    "        messagebox.showerror(\"Input Error\", \"Please enter valid integers.\")\n",
    "        return\n",
    "\n",
    "    if start > end:\n",
    "        messagebox.showerror(\"Range Error\", \"Start should be less than or equal to End.\")\n",
    "        return\n",
    "\n",
    "    btn.config(state=\"disabled\")\n",
    "    animate_sum(start, end, start, 0)\n",
    "\n",
    "def animate_sum(start, end, current, total):\n",
    "    if current <= end:\n",
    "        total += current\n",
    "        label_result.config(text=f\"Adding: {current} | Total: {total}\")\n",
    "        root.after(100, animate_sum, start, end, current + 1, total)\n",
    "    else:\n",
    "        label_result.config(text=f\"Final Sum: {total}\")\n",
    "        btn.config(state=\"normal\")\n",
    "\n",
    "# GUI Setup\n",
    "root = tk.Tk()\n",
    "root.geometry('350x300')\n",
    "root.title(\"Sum Range App\")\n",
    "root.resizable(False, False)\n",
    "\n",
    "label_title = tk.Label(root, text=\"Sum Numbers in a Range\", font=('Arial', 14, 'bold'), fg='white', bg='darkblue')\n",
    "label_title.pack(fill=\"x\", pady=10)\n",
    "\n",
    "entry_frame = tk.Frame(root)\n",
    "entry_frame.pack(pady=10)\n",
    "\n",
    "tk.Label(entry_frame, text=\"Start: \").grid(row=0, column=0, padx=5)\n",
    "entry_start = tk.Entry(entry_frame, width=10)\n",
    "entry_start.grid(row=0, column=1)\n",
    "\n",
    "tk.Label(entry_frame, text=\"End: \").grid(row=0, column=2, padx=5)\n",
    "entry_end = tk.Entry(entry_frame, width=10)\n",
    "entry_end.grid(row=0, column=3)\n",
    "\n",
    "btn = tk.Button(root, text=\"Calculate Sum\", command=sum_range, bg='green', fg='white')\n",
    "btn.pack(pady=10)\n",
    "\n",
    "label_result = tk.Label(root, text=\"Enter range and press the button\", font=('Arial', 12), fg='black')\n",
    "label_result.pack(pady=20)\n",
    "\n",
    "root.mainloop()\n"
   ]
  },
  {
   "cell_type": "code",
   "execution_count": null,
   "id": "5bb50612-faa8-43be-9c74-8431cbbeed58",
   "metadata": {},
   "outputs": [],
   "source": []
  },
  {
   "cell_type": "code",
   "execution_count": null,
   "id": "9489fa5e-2cd9-4074-8ee8-cd94cfac3251",
   "metadata": {},
   "outputs": [],
   "source": []
  }
 ],
 "metadata": {
  "kernelspec": {
   "display_name": "Python 3 (ipykernel)",
   "language": "python",
   "name": "python3"
  },
  "language_info": {
   "codemirror_mode": {
    "name": "ipython",
    "version": 3
   },
   "file_extension": ".py",
   "mimetype": "text/x-python",
   "name": "python",
   "nbconvert_exporter": "python",
   "pygments_lexer": "ipython3",
   "version": "3.12.2"
  }
 },
 "nbformat": 4,
 "nbformat_minor": 5
}

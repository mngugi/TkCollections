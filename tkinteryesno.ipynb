{
 "cells": [
  {
   "cell_type": "markdown",
   "id": "40b88fc4-e67c-4bcf-9606-abe627fa53e8",
   "metadata": {},
   "source": [
    "**Introduction to the Tkinter askyesno() function**\n",
    "\n",
    "Sometimes, you need to ask for user confirmation. For example, if users click the quit button, you want to ask whether they really want to close the application. Or they just accidentally do so:\n",
    "\n",
    "To show a dialog that asks for user confirmation, you use the askyesno() function.\n",
    "\n",
    "The dialog will have a title, a message, and two buttons (yes and no).\n",
    "\n",
    "When you click the yes button, the function returns True. However, if you click the no button, it returns False.\n",
    "\n",
    "The following shows the syntax of the askyesno() function:\n",
    "\n",
    "`answer = askyesno(title, message, **options)`\n",
    "\n",
    "Note that the answer is a Boolean value, either True or False.\n",
    "\n",
    "Tkinter also has another function called askquestion(), which is similar to the askyesno() function except that it returns a string with a value of 'yes' or 'no':\n",
    "\n",
    "`answer = askquestion(title, message, **options)`\n",
    "\n",
    "**Tkinter askyesno() function example**\n",
    "\n",
    "The following program illustrates how to use the Tkinter askyesno() function:\n"
   ]
  },
  {
   "cell_type": "code",
   "execution_count": 1,
   "id": "6d1c26e2-c10a-4f55-8191-ef2d7309a1e2",
   "metadata": {},
   "outputs": [],
   "source": [
    "import tkinter as tk\n",
    "from tkinter import ttk\n",
    "from tkinter.messagebox import askyesno\n",
    "\n",
    "# Create the root window\n",
    "root = tk.Tk()\n",
    "root.title('Tkinter Yes/No Dialog')\n",
    "root.geometry('300x150')\n",
    "\n",
    "# Confirmation function\n",
    "def confirm():\n",
    "    if askyesno(title='Confirmation', message='Are you sure you want to quit?'):\n",
    "        root.destroy()\n",
    "\n",
    "# UI Button with padding for better spacing\n",
    "ttk.Button(root, text='Ask Yes/No', command=confirm).pack(expand=True, fill='both', padx=20, pady=20)\n",
    "\n",
    "# Start the app\n",
    "root.mainloop()\n"
   ]
  },
  {
   "cell_type": "code",
   "execution_count": null,
   "id": "076f0fca-26c3-4b9b-81ca-a70f5d615ca3",
   "metadata": {},
   "outputs": [],
   "source": [
    "import tkinter as tk\n",
    "from tkinter import ttk\n",
    "from tkinter.messagebox import askyesno, showinfo\n",
    "\n",
    "class App(tk.Tk):\n",
    "    def __init__(self):\n",
    "        super().__init__()\n",
    "\n",
    "        self.title('Tkinter Yes/No Dialog')\n",
    "        self.geometry('300x150')\n",
    "\n",
    "        # Style Configuration\n",
    "        self.configure(bg='#2E2E2E')\n",
    "        style = ttk.Style()\n",
    "        style.configure('TButton', font=('Arial', 12), background='#555555', foreground='white')\n",
    "\n",
    "        # Quit button\n",
    "        quit_button = ttk.Button(self, text='Quit', command=self.confirm)\n",
    "        quit_button.pack(expand=True, padx=20, pady=20, ipadx=10, ipady=5)\n",
    "\n",
    "    def confirm(self):\n",
    "        answer = askyesno(title='Confirmation',\n",
    "                          message='Are you sure that you want to quit?')\n",
    "        if answer:\n",
    "            self.destroy()\n",
    "        else:\n",
    "            showinfo(title='Cancelled', message='Quit operation cancelled.')\n",
    "\n",
    "if __name__ == \"__main__\":\n",
    "    app = App()\n",
    "    app.mainloop()\n"
   ]
  }
 ],
 "metadata": {
  "kernelspec": {
   "display_name": "Python 3 (ipykernel)",
   "language": "python",
   "name": "python3"
  },
  "language_info": {
   "codemirror_mode": {
    "name": "ipython",
    "version": 3
   },
   "file_extension": ".py",
   "mimetype": "text/x-python",
   "name": "python",
   "nbconvert_exporter": "python",
   "pygments_lexer": "ipython3",
   "version": "3.12.2"
  }
 },
 "nbformat": 4,
 "nbformat_minor": 5
}

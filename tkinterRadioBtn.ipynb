{
 "cells": [
  {
   "cell_type": "markdown",
   "id": "cf923ae9-91cd-4fb1-bc52-9d0877e64602",
   "metadata": {},
   "source": [
    "**Introduction to Tkinter radio buttons**\n",
    "\n",
    "Radio buttons allow you to select between one of a number of mutually exclusive choices.\n",
    "\n",
    "Typically, you use radio buttons together in a set. They’re a good option if you have a few choices that you want users to select.\n",
    "\n",
    "To create radio buttons, you use the Radiobutton widget. The following shows how to create radio buttons using the tk.Radiobutton constructor:\n",
    "\n",
    "```\n",
    "selected = tk.StringVar()\n",
    "r1 = ttk.Radiobutton(container, text='Option 1', value='Value 1', variable=selected)\n",
    "r2 = ttk.Radiobutton(container, text='Option 2', value='Value 2', variable=selected)\n",
    "r3 = ttk.Radiobutton(container, text='Option 3', value='value 3', variable=selected)\n",
    "```\n",
    "\n",
    "Each radio button has a different value. However, radio buttons in the same group share the same variable.\n",
    "\n",
    "The container is the parent widget which you place the radio buttons on.\n",
    "\n",
    "The text argument specifies the text that appears on the radio button.\n",
    "\n",
    "The value argument specifies the value that the radio button will hold.\n",
    "\n",
    "The variable must be a tk.StringVar().\n",
    "\n",
    "**Tkinter radio button example**\n",
    "\n",
    "The following program illustrates how to use radio buttons. It returns the selected size once you click the Get Selected Size button.\n"
   ]
  },
  {
   "cell_type": "code",
   "execution_count": 1,
   "id": "7c3106f0-fa01-458e-9ba6-44979d46d192",
   "metadata": {},
   "outputs": [
    {
     "ename": "TclError",
     "evalue": "bad fill style \"X\": must be none, x, y, or both",
     "output_type": "error",
     "traceback": [
      "\u001b[0;31m---------------------------------------------------------------------------\u001b[0m",
      "\u001b[0;31mTclError\u001b[0m                                  Traceback (most recent call last)",
      "Cell \u001b[0;32mIn[1], line 22\u001b[0m\n\u001b[1;32m     15\u001b[0m sizes\u001b[38;5;241m=\u001b[39m ((\u001b[38;5;124m'\u001b[39m\u001b[38;5;124mSmall\u001b[39m\u001b[38;5;124m'\u001b[39m,\u001b[38;5;124m'\u001b[39m\u001b[38;5;124mS\u001b[39m\u001b[38;5;124m'\u001b[39m),\n\u001b[1;32m     16\u001b[0m         (\u001b[38;5;124m'\u001b[39m\u001b[38;5;124mMedium\u001b[39m\u001b[38;5;124m'\u001b[39m,\u001b[38;5;124m'\u001b[39m\u001b[38;5;124mM\u001b[39m\u001b[38;5;124m'\u001b[39m),\n\u001b[1;32m     17\u001b[0m         (\u001b[38;5;124m'\u001b[39m\u001b[38;5;124mLarge\u001b[39m\u001b[38;5;124m'\u001b[39m,\u001b[38;5;124m'\u001b[39m\u001b[38;5;124mL\u001b[39m\u001b[38;5;124m'\u001b[39m),\n\u001b[1;32m     18\u001b[0m         (\u001b[38;5;124m'\u001b[39m\u001b[38;5;124mExtra\u001b[39m\u001b[38;5;124m'\u001b[39m,\u001b[38;5;124m'\u001b[39m\u001b[38;5;124mXL\u001b[39m\u001b[38;5;124m'\u001b[39m)\n\u001b[1;32m     19\u001b[0m        )\n\u001b[1;32m     21\u001b[0m label \u001b[38;5;241m=\u001b[39m ttk\u001b[38;5;241m.\u001b[39mLabel(text\u001b[38;5;241m=\u001b[39m\u001b[38;5;124m\"\u001b[39m\u001b[38;5;124mWhat\u001b[39m\u001b[38;5;124m'\u001b[39m\u001b[38;5;124ms your t-shirt size?\u001b[39m\u001b[38;5;124m\"\u001b[39m)\n\u001b[0;32m---> 22\u001b[0m label\u001b[38;5;241m.\u001b[39mpack(fill\u001b[38;5;241m=\u001b[39m\u001b[38;5;124m'\u001b[39m\u001b[38;5;124mX\u001b[39m\u001b[38;5;124m'\u001b[39m, padx\u001b[38;5;241m=\u001b[39m\u001b[38;5;241m5\u001b[39m, pady\u001b[38;5;241m=\u001b[39m\u001b[38;5;241m5\u001b[39m)\n\u001b[1;32m     24\u001b[0m \u001b[38;5;28;01mfor\u001b[39;00m size \u001b[38;5;129;01min\u001b[39;00m sizes:\n\u001b[1;32m     25\u001b[0m     r \u001b[38;5;241m=\u001b[39m ttk\u001b[38;5;241m.\u001b[39mRadiobutton(root, text\u001b[38;5;241m=\u001b[39msize[\u001b[38;5;241m0\u001b[39m], value\u001b[38;5;241m=\u001b[39msize[\u001b[38;5;241m1\u001b[39m], variable\u001b[38;5;241m=\u001b[39mselected_size\n\u001b[1;32m     26\u001b[0m                        )\n",
      "File \u001b[0;32m~/anaconda3/lib/python3.12/tkinter/__init__.py:2472\u001b[0m, in \u001b[0;36mPack.pack_configure\u001b[0;34m(self, cnf, **kw)\u001b[0m\n\u001b[1;32m   2456\u001b[0m \u001b[38;5;28;01mdef\u001b[39;00m \u001b[38;5;21mpack_configure\u001b[39m(\u001b[38;5;28mself\u001b[39m, cnf\u001b[38;5;241m=\u001b[39m{}, \u001b[38;5;241m*\u001b[39m\u001b[38;5;241m*\u001b[39mkw):\n\u001b[1;32m   2457\u001b[0m \u001b[38;5;250m    \u001b[39m\u001b[38;5;124;03m\"\"\"Pack a widget in the parent widget. Use as options:\u001b[39;00m\n\u001b[1;32m   2458\u001b[0m \u001b[38;5;124;03m    after=widget - pack it after you have packed widget\u001b[39;00m\n\u001b[1;32m   2459\u001b[0m \u001b[38;5;124;03m    anchor=NSEW (or subset) - position widget according to\u001b[39;00m\n\u001b[0;32m   (...)\u001b[0m\n\u001b[1;32m   2470\u001b[0m \u001b[38;5;124;03m    side=TOP or BOTTOM or LEFT or RIGHT -  where to add this widget.\u001b[39;00m\n\u001b[1;32m   2471\u001b[0m \u001b[38;5;124;03m    \"\"\"\u001b[39;00m\n\u001b[0;32m-> 2472\u001b[0m     \u001b[38;5;28mself\u001b[39m\u001b[38;5;241m.\u001b[39mtk\u001b[38;5;241m.\u001b[39mcall(\n\u001b[1;32m   2473\u001b[0m           (\u001b[38;5;124m'\u001b[39m\u001b[38;5;124mpack\u001b[39m\u001b[38;5;124m'\u001b[39m, \u001b[38;5;124m'\u001b[39m\u001b[38;5;124mconfigure\u001b[39m\u001b[38;5;124m'\u001b[39m, \u001b[38;5;28mself\u001b[39m\u001b[38;5;241m.\u001b[39m_w)\n\u001b[1;32m   2474\u001b[0m           \u001b[38;5;241m+\u001b[39m \u001b[38;5;28mself\u001b[39m\u001b[38;5;241m.\u001b[39m_options(cnf, kw))\n",
      "\u001b[0;31mTclError\u001b[0m: bad fill style \"X\": must be none, x, y, or both"
     ]
    }
   ],
   "source": [
    "import tkinter as tk\n",
    "from tkinter import ttk\n",
    "from tkinter.messagebox import showinfo\n",
    "\n",
    "# Create main window\n",
    "root = tk.Tk()\n",
    "root.geometry('300x200')\n",
    "root.resizable(False, False)\n",
    "root.title('Radio Button Demo')\n",
    "\n",
    "# Function to display the selected size\n",
    "def show_selected_size():\n",
    "    if selected_size.get():\n",
    "        showinfo(title='Result', message=f'Selected Size: {selected_size.get()}')\n",
    "    else:\n",
    "        showinfo(title='Result', message='No size selected!')\n",
    "\n",
    "# StringVar to store the selected size\n",
    "selected_size = tk.StringVar(value='M')  # Default selection\n",
    "\n",
    "# Define size options\n",
    "sizes = (('Small', 'S'),\n",
    "         ('Medium', 'M'),\n",
    "         ('Large', 'L'),\n",
    "         ('Extra Large', 'XL'))  # \"Extra\" -> \"Extra Large\" for clarity\n",
    "\n",
    "# Label\n",
    "label = ttk.Label(text=\"What's your t-shirt size?\")\n",
    "label.pack(fill='x', padx=5, pady=5)\n",
    "\n",
    "# Create radio buttons\n",
    "for text, value in sizes:\n",
    "    r = ttk.Radiobutton(root, text=text, value=value, variable=selected_size)\n",
    "    r.pack(fill='x', padx=5, pady=2)\n",
    "\n",
    "# Button to get selected size\n",
    "button = ttk.Button(root, text=\"Get Selected Size\", command=show_selected_size)\n",
    "button.pack(fill='x', padx=5, pady=10)\n",
    "\n",
    "root.mainloop()\n"
   ]
  },
  {
   "cell_type": "code",
   "execution_count": null,
   "id": "5da419d7-d8fa-44f3-934d-2e2f61e14eae",
   "metadata": {},
   "outputs": [],
   "source": []
  }
 ],
 "metadata": {
  "kernelspec": {
   "display_name": "Python 3 (ipykernel)",
   "language": "python",
   "name": "python3"
  },
  "language_info": {
   "codemirror_mode": {
    "name": "ipython",
    "version": 3
   },
   "file_extension": ".py",
   "mimetype": "text/x-python",
   "name": "python",
   "nbconvert_exporter": "python",
   "pygments_lexer": "ipython3",
   "version": "3.12.2"
  }
 },
 "nbformat": 4,
 "nbformat_minor": 5
}

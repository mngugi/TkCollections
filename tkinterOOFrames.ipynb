{
 "cells": [
  {
   "cell_type": "markdown",
   "id": "5c19ac77-f3be-4ea9-b7f9-dfa91abf4d25",
   "metadata": {},
   "source": [
    "**Tkinter Object-Oriented Frames**\n",
    "\n",
    "Summary: in this tutorial, you’ll learn how to inherit from the ttk.Frame class and use it in the root window.\n",
    "\n",
    "In the previous tutorial, you’ve learned how to subclass the Tkinter.Tk class. However, a Tkinter application should have only one Tk instance.\n",
    "\n",
    "Therefore, it’s common to inherit from the ttk.Frame class and use the subclass in the root window.\n",
    "\n",
    "To inherit the ttk.Frame class, you use the following syntax:\n",
    "```\n",
    "class MainFrame(ttk.Frame):\n",
    "    pass\n",
    "```\n",
    "\n",
    "Since a Frame needs a container, you need to add an argument to its __init__() method and call the __init__() method of the ttk.Frame class like this:\n",
    "\n",
    "```\n",
    "class MainFrame(ttk.Frame):\n",
    "    def __init__(self, container):\n",
    "        super().__init__(container)\n",
    "```\n",
    "The following shows the complete MainFrame class that has a label and a button. When you click the button, it shows a message box:\n",
    "```\n",
    "class MainFrame(ttk.Frame):\n",
    "    def __init__(self, container):\n",
    "        super().__init__(container)\n",
    "\n",
    "        options = {'padx': 5, 'pady': 5}\n",
    "\n",
    "        # label\n",
    "        self.label = ttk.Label(self, text='Hello, Tkinter!')\n",
    "        self.label.pack(**options)\n",
    "\n",
    "        # button\n",
    "        self.button = ttk.Button(self, text='Click Me')\n",
    "        self.button['command'] = self.button_clicked\n",
    "        self.button.pack(**options)\n",
    "\n",
    "        # show the frame on the container\n",
    "        self.pack(**options)\n",
    "\n",
    "    def button_clicked(self):\n",
    "        showinfo(title='Information',\n",
    "                 message='Hello, Tkinter!')\n",
    "```"
   ]
  }
 ],
 "metadata": {
  "kernelspec": {
   "display_name": "Python 3 (ipykernel)",
   "language": "python",
   "name": "python3"
  },
  "language_info": {
   "codemirror_mode": {
    "name": "ipython",
    "version": 3
   },
   "file_extension": ".py",
   "mimetype": "text/x-python",
   "name": "python",
   "nbconvert_exporter": "python",
   "pygments_lexer": "ipython3",
   "version": "3.12.2"
  }
 },
 "nbformat": 4,
 "nbformat_minor": 5
}

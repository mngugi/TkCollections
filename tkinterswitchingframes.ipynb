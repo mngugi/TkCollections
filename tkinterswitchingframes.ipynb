{
 "cells": [
  {
   "cell_type": "markdown",
   "id": "7ff54bb6-0db7-4727-b623-8a6e2749b1b0",
   "metadata": {},
   "source": [
    "**Introduction to the Frame tkraise() method**\n",
    "\n",
    "\n"
   ]
  }
 ],
 "metadata": {
  "kernelspec": {
   "display_name": "Python 3 (ipykernel)",
   "language": "python",
   "name": "python3"
  },
  "language_info": {
   "codemirror_mode": {
    "name": "ipython",
    "version": 3
   },
   "file_extension": ".py",
   "mimetype": "text/x-python",
   "name": "python",
   "nbconvert_exporter": "python",
   "pygments_lexer": "ipython3",
   "version": "3.12.2"
  }
 },
 "nbformat": 4,
 "nbformat_minor": 5
}

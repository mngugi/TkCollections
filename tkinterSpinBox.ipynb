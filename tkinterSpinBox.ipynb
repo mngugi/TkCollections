{
 "cells": [
  {
   "cell_type": "markdown",
   "id": "aae39b58-6c5f-4f66-aae2-85c4d73c12be",
   "metadata": {},
   "source": [
    "**Introduction to the Tkinter Spinbox widget**\n",
    "\n",
    "A Spinbox widget allows you to select a value from a set of values, which can include a range of numbers.\n",
    "\n",
    "A Spinbox has an area for displaying the current value and a pair of arrowheads.\n",
    "\n",
    "When you click the upward-pointing arrowhead, the Spinbox advances to the next higher value in the sequence.\n",
    "\n",
    "If the current value reaches the maximum, you can set it to the minimum.\n",
    "\n",
    "On the other hand, if you click the downward-pointing arrowhead, the Spinbox decreases the current value to the next lower value in the sequence.\n",
    "\n",
    "If the current value reaches the lowest, you can set it to the maximum.\n",
    "\n",
    "Additionally, you can directly enter a value into the Spinbox widget as you would with an Entry widget.\n",
    "\n",
    "To create a Spinbox widget, you use the ttk.Spinbox constructor:\n",
    "\n",
    "`ttk.Spinbox(master, from_, to, textvariable, wrap)`"
   ]
  },
  {
   "cell_type": "markdown",
   "id": "fbe6cb36-ed23-40cb-8362-1cd0a5bf3f64",
   "metadata": {},
   "source": [
    "- The master is the parent widget of the Spinbox widget.\n",
    "- The from_ is the minimum value. Because from is the Python keyword, it has to be suffixed with the underscore (_) to avoid the compilation error.\n",
    "- The to value represents the maximum value.\n",
    "- The textvariable specifies a StringVar or IntVar object of the Tkinter class that holds the current value of the Spinbox.\n",
    "- The wrap is a Boolean value. If wrap is set to True, when the current value reaches the maximum value, it’s set to the lowest value if you click the upward-pointing arrowhead and vice versa. If wrap set to False, the widget sets the current value to the maximum if you click the downward-pointing arrowhead.\n",
    "- \n",
    "Note that the ttk.Spinbox has been available since Python 3.7. If you are using a lower version, you need to use the tk.Spinbox."
   ]
  }
 ],
 "metadata": {
  "kernelspec": {
   "display_name": "Python 3 (ipykernel)",
   "language": "python",
   "name": "python3"
  },
  "language_info": {
   "codemirror_mode": {
    "name": "ipython",
    "version": 3
   },
   "file_extension": ".py",
   "mimetype": "text/x-python",
   "name": "python",
   "nbconvert_exporter": "python",
   "pygments_lexer": "ipython3",
   "version": "3.12.2"
  }
 },
 "nbformat": 4,
 "nbformat_minor": 5
}

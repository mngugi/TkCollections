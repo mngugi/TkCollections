{
 "cells": [
  {
   "cell_type": "markdown",
   "id": "466c6d6c-7e39-42bf-aa6d-583b74dcc0fc",
   "metadata": {},
   "source": [
    "**How to Display a Progress Bar while a Thread is Running in Tkinter**\n",
    "\n",
    "\n",
    "This tutorial assumes that you know how to use the after() method and understand how threadings work in Python. Also, you should know how to switch between frames using the tkraise() method.\n",
    "\n",
    "In this tutorial, you’ll build a picture viewer that shows a random picture from unsplash.com using its API.\n",
    "\n",
    "If you make an HTTP request to the following API endpoint:\n",
    "\n",
    "`https://source.unsplash.com/random/640x480`\n",
    "\n",
    "…you’ll get a random picture with the size of 640×480.\n",
    "\n",
    "When you click the Next Picture button, the program calls the API from unsplash.com to download a random picture and displays it on the window.\n",
    "\n",
    "It’ll also show a progress bar while the picture is downloading, indicating that the download is in progress:"
   ]
  }
 ],
 "metadata": {
  "kernelspec": {
   "display_name": "Python 3 (ipykernel)",
   "language": "python",
   "name": "python3"
  },
  "language_info": {
   "codemirror_mode": {
    "name": "ipython",
    "version": 3
   },
   "file_extension": ".py",
   "mimetype": "text/x-python",
   "name": "python",
   "nbconvert_exporter": "python",
   "pygments_lexer": "ipython3",
   "version": "3.12.2"
  }
 },
 "nbformat": 4,
 "nbformat_minor": 5
}

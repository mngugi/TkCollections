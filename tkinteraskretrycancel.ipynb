{
 "cells": [
  {
   "cell_type": "markdown",
   "id": "a1d2ca5e-d9d3-4445-addf-f90fd3958bf9",
   "metadata": {},
   "source": [
    "**Introduction to the Tkinter askretrycancel() function**\n",
    "\n",
    "Sometimes, the application performs a task but fails to do so because of an error.\n",
    "\n",
    "For example, you may want to connect to a database server. However, the database server is currently not reachable. It may be offline for a short period of time.\n",
    "\n",
    "In this case, you can display a confirmation dialog that allow users to reconnect to the database or just keep the application as is.\n",
    "\n",
    "To display the Retry/Cancel dialog, you can use the askretrycancel() function:\n",
    "\n",
    "`answer = askretrycancel(title, message, **options)`\n",
    "\n",
    "The askretrycancel() function returns True if the Retry button is clicked. If the Cancel button is clicked, it returns False.\n",
    "\n",
    "**Tkinter askretrycancel() function example**\n",
    "\n",
    "The following program shows a button that simulates a bad database connection.\n",
    "\n",
    "If you click the button, it’ll show a Retry/Cancel dialog saying that the database server is not reachable. It’ll also request you to reconnect to the database server:\n",
    "\n",
    "If you click the Retry button, it’ll show a dialog indicating that the program is attempting to reconnect to the database server."
   ]
  },
  {
   "cell_type": "code",
   "execution_count": null,
   "id": "669a3395-bb2b-4bdf-bf27-aae6cf9cc00d",
   "metadata": {},
   "outputs": [],
   "source": [
    "import tkinter as tk\n",
    "from tkinter import ttk\n",
    "from tkinter.messagebox import askretrycancel, showinfo\n",
    "\n",
    "# Create the root window\n",
    "root = tk.Tk()\n",
    "root.title('Tkinter Ok/Cancel Dialog')\n",
    "root.geometry('300x150')"
   ]
  }
 ],
 "metadata": {
  "kernelspec": {
   "display_name": "Python 3 (ipykernel)",
   "language": "python",
   "name": "python3"
  },
  "language_info": {
   "codemirror_mode": {
    "name": "ipython",
    "version": 3
   },
   "file_extension": ".py",
   "mimetype": "text/x-python",
   "name": "python",
   "nbconvert_exporter": "python",
   "pygments_lexer": "ipython3",
   "version": "3.12.2"
  }
 },
 "nbformat": 4,
 "nbformat_minor": 5
}

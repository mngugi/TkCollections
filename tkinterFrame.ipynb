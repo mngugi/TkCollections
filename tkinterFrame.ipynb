{
 "cells": [
  {
   "cell_type": "markdown",
   "id": "2575a7d5-c1bd-4977-b54a-673350e6416b",
   "metadata": {},
   "source": [
    "**Introduction to Tkinter Frame widget**\n",
    "\n",
    "A frame is a widget that displays as a simple rectangle. Typically, you use a frame to organize other widgets both visually and at the coding level.\n",
    "\n",
    "To create a frame, you use the ttk.Frame class:\n",
    "`frame = ttk.Frame(master, **options)`\n",
    "\n",
    "A frame has various configuration objects which determine its appearance.\n",
    "\n",
    "| Parameter   | Description |\n",
    "|------------|-------------|\n",
    "| **borderwidth** | Specify the border width of the frame. It defaults to zero. |\n",
    "| **class_** | Set widget class name. |\n",
    "| **cursor** | Change the cursor appearance when the mouse cursor is over the frame. |\n",
    "| **height** | Set the height of the frame. |\n",
    "| **padding** | Create padding inside the frame and outside of the contained widgets. |\n",
    "| **relief** | Specify the relief style for the border. To make it effective, you also need to set the `borderwidth`. |\n",
    "| **style** | Specify a custom widget style name. |\n",
    "| **takefocus** | A boolean value that specifies whether the frame is visited during focus traversal. By default, it is `False`, so the frame widget does not accept focus. |\n",
    "| **width** | Set the width of the frame. |\n"
   ]
  },
  {
   "cell_type": "markdown",
   "id": "a338497c-e56f-4f1b-9cf7-d991b8365668",
   "metadata": {},
   "source": [
    "**Frame size**\n",
    "\n",
    "The size of a frame is determined by the size and layout of the widgets it contains. Also, you can explicitly specify the height and width of the frame when creating it:\n",
    "\n",
    "`frame = ttk.Frame(master, height, width)`"
   ]
  },
  {
   "cell_type": "markdown",
   "id": "095c50fa-65ec-4983-a4cc-d2009dd32387",
   "metadata": {},
   "source": [
    "**Padding**\n",
    "\n",
    "The padding allows you to add extra space inside the frame and outside of the contained widgets. Paddings are in pixels.\n",
    "\n",
    "To specify padding for each side of the frame separately, you use the following:\n",
    "\n",
    "`frame['padding'] = (left, top, right, bottom)`\n",
    "\n",
    "For example:\n",
    "\n",
    "`frame['padding'] = (5,10,5,10)`\n",
    "\n",
    "Or you can specify paddings for the left, right and top, bottom as follows:\n",
    "\n",
    "`frame['padding'] = (5, 10)`\n",
    "\n",
    "In this example, the left and right paddings are 5 and the top and bottom paddings are 10. If the paddings of all sides are the same, you can specify the padding like this:\n",
    "\n",
    "`frame['padding'] = 5`"
   ]
  },
  {
   "cell_type": "markdown",
   "id": "989101db-c609-405d-90e0-6efc8c0ef71a",
   "metadata": {},
   "source": [
    "**Frame borders**\n",
    "\n",
    "By default, the border width of a frame is zero. In other words, the frame has no border.\n",
    "\n",
    "To set a border for a frame, you need to set both border’s width and style.\n",
    "\n",
    "The border’s width of a frame is in pixels. The border’s style of a frame can be flat, groove, raised, ridge, solid, or sunken. The default border style of a frame is flat.\n",
    "\n",
    "The following example sets the border width of the frame to 5 pixels and the border style of the frame to sunken.\n",
    "```\n",
    "frame['borderwidth'] = 5\n",
    "frame['relief'] = 'sunken'\n",
    "```\n",
    "**Tkinter Frame example**\n",
    "To make the widgets more organized, you can divide the window into two frames:\n",
    "\n",
    "- The left frame consists of Label, Entry, and Checkbox widgets. The left frame will use the grid geometry manager that has two columns and four rows.\n",
    "- The right frame consists of the Button widgets. The right frame will also use the grid geometry manager that has four rows and one column.\n",
    "To place the left and right frames on the window, you can use the grid geometry manager that has one row and two columns:"
   ]
  },
  {
   "cell_type": "code",
   "execution_count": 1,
   "id": "0f266ce9-1d72-4a0c-94a8-5ea8153f56ee",
   "metadata": {},
   "outputs": [],
   "source": [
    "from PIL import Image\n",
    "\n",
    "# Load the image\n",
    "image = Image.open(\"frameGeometrymanager.png\")\n",
    "\n",
    "# Show the image\n",
    "image.show()"
   ]
  },
  {
   "cell_type": "code",
   "execution_count": null,
   "id": "81c80ddb-5188-42c1-b73f-29c7ec19a8f8",
   "metadata": {},
   "outputs": [],
   "source": [
    "import tkinter as tk\n",
    "from tkinter import TclError, ttk\n",
    "\n",
    "def create_input_frame(container):\n",
    "    frame = ttk.Frame(container)\n",
    "\n",
    "    frame.columnconfigure(0, weight=1)\n",
    "    frame.columnconfigure(0, weight=3)"
   ]
  }
 ],
 "metadata": {
  "kernelspec": {
   "display_name": "Python 3 (ipykernel)",
   "language": "python",
   "name": "python3"
  },
  "language_info": {
   "codemirror_mode": {
    "name": "ipython",
    "version": 3
   },
   "file_extension": ".py",
   "mimetype": "text/x-python",
   "name": "python",
   "nbconvert_exporter": "python",
   "pygments_lexer": "ipython3",
   "version": "3.12.2"
  }
 },
 "nbformat": 4,
 "nbformat_minor": 5
}

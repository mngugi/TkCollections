{
 "cells": [
  {
   "cell_type": "markdown",
   "id": "9629ab64-0288-42d1-bca7-1632ce4def0e",
   "metadata": {},
   "source": [
    "**Introduction to the Tkinter checkbox widget**\n",
    "\n",
    "A checkbox is a widget that allows you to check and uncheck.\n",
    "\n",
    "A checkbox can hold a value and invoke a callback when it’s checked or unchecked.\n",
    "\n",
    "Typically, you use a checkbox when you want to ask users to choose between two values.\n",
    "\n",
    "To create a checkbox, you use the ttk.Checkbutton constructor:\n",
    "```\n",
    "checkbox_var = tk.StringVar()\n",
    "\n",
    "def check_changed():\n",
    "    #...\n",
    "\n",
    "checkbox = ttk.Checkbutton(container,\n",
    "                text='<checkbox label>',\n",
    "                command=check_changed,\n",
    "                variable=checkbox_var,\n",
    "                onvalue='<value_when_checked>',\n",
    "                offvalue='<value_when_unchecked>')\n",
    "```\n",
    "The container argument specifies the window that you want to place the checkbox.\n",
    "\n",
    "The text argument specifies the label for the checkbox.\n",
    "\n",
    "The command is a callable that will be called once the checkbox is checked or unchecked.\n",
    "\n",
    "The variable holds the current value of the checkbox. If the checkbox is checked, the value of the variable is 1. Otherwise, it is 0.\n",
    "\n",
    "If you want other values than 0 and 1, you can specify them in the onvalue and offvalue options.\n",
    "\n",
    "If the linked variable doesn’t exist, or its value is neither the on value nor off value, the checkbox is in the indeterminate or tristate mode."
   ]
  },
  {
   "cell_type": "code",
   "execution_count": 5,
   "id": "d488dc06-7f0d-4960-9e99-0d6fe415db81",
   "metadata": {},
   "outputs": [
    {
     "ename": "AttributeError",
     "evalue": "module 'tkinter.ttk' has no attribute 'TK'",
     "output_type": "error",
     "traceback": [
      "\u001b[0;31m---------------------------------------------------------------------------\u001b[0m",
      "\u001b[0;31mAttributeError\u001b[0m                            Traceback (most recent call last)",
      "Cell \u001b[0;32mIn[5], line 5\u001b[0m\n\u001b[1;32m      2\u001b[0m \u001b[38;5;28;01mfrom\u001b[39;00m \u001b[38;5;21;01mtkinter\u001b[39;00m \u001b[38;5;28;01mimport\u001b[39;00m ttk\n\u001b[1;32m      3\u001b[0m \u001b[38;5;28;01mfrom\u001b[39;00m \u001b[38;5;21;01mtkinter\u001b[39;00m\u001b[38;5;21;01m.\u001b[39;00m\u001b[38;5;21;01mmessagebox\u001b[39;00m \u001b[38;5;28;01mimport\u001b[39;00m showinfo\n\u001b[0;32m----> 5\u001b[0m root \u001b[38;5;241m=\u001b[39m ttk\u001b[38;5;241m.\u001b[39mTK()\n\u001b[1;32m      6\u001b[0m root\u001b[38;5;241m.\u001b[39mgeometry(\u001b[38;5;124m'\u001b[39m\u001b[38;5;124m300x200\u001b[39m\u001b[38;5;124m'\u001b[39m)\n\u001b[1;32m      7\u001b[0m root\u001b[38;5;241m.\u001b[39mresizable(\u001b[38;5;28;01mFalse\u001b[39;00m, \u001b[38;5;28;01mFalse\u001b[39;00m)\n",
      "\u001b[0;31mAttributeError\u001b[0m: module 'tkinter.ttk' has no attribute 'TK'"
     ]
    }
   ],
   "source": [
    "import tkinter as tk\n",
    "from tkinter import ttk\n",
    "from tkinter.messagebox import showinfo\n",
    "\n",
    "root = tk.TK()\n",
    "root.geometry('300x200')\n",
    "root.resizable(False, False)\n",
    "root.title('Checkbox Demo')\n",
    "\n",
    "agreement = tk.StringVar()\n",
    "\n",
    "def agreement_changed():\n",
    "    tk.messagebox.showinfo(title='Result', message=agreement.get())\n",
    "\n",
    "ttk.Checkbutton(root, text='I agree', command=agreement_changed, variable=agreement,\n",
    "               onvalue='agree', offvalue='disagree').pack()"
   ]
  },
  {
   "cell_type": "code",
   "execution_count": null,
   "id": "f9e42402-f279-4160-8ff9-bdc12fef417b",
   "metadata": {},
   "outputs": [],
   "source": []
  }
 ],
 "metadata": {
  "kernelspec": {
   "display_name": "Python 3 (ipykernel)",
   "language": "python",
   "name": "python3"
  },
  "language_info": {
   "codemirror_mode": {
    "name": "ipython",
    "version": 3
   },
   "file_extension": ".py",
   "mimetype": "text/x-python",
   "name": "python",
   "nbconvert_exporter": "python",
   "pygments_lexer": "ipython3",
   "version": "3.12.2"
  }
 },
 "nbformat": 4,
 "nbformat_minor": 5
}

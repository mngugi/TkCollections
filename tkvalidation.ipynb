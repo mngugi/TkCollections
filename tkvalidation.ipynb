{
 "cells": [
  {
   "cell_type": "markdown",
   "id": "62f5f5eb-347b-4be2-8cce-d0e997730b56",
   "metadata": {},
   "source": [
    "**Introduction to the Tkinter validation**\n",
    "\n",
    "Tkinter validation relies on the three options that you can use for any input widget such as Entry widget:\n",
    "\n",
    "- validate: specifies which type of event will trigger the validation.\n",
    "- validatecommand: checks if a data is valid\n",
    "- invalidcommand: executes when the data is invalid. In other words, it’ll execute if the validatecommand returns False.\n",
    "- \n",
    "**validate**\n",
    "The validate command can be one of the following string values:\n",
    "\n",
    "# Tkinter Validation Modes\n",
    "\n",
    "Tkinter provides several validation modes for widgets such as `Entry`. These modes determine when validation occurs.\n",
    "\n",
    "| **Mode**     | **Description** |\n",
    "|-------------|---------------|\n",
    "| **`focus`**   | Validate whenever the widget gains or loses focus. |\n",
    "| **`focusin`**  | Validate whenever the widget gains focus. |\n",
    "| **`focusout`** | Validate whenever the widget loses focus. |\n",
    "| **`key`**      | Validate whenever any keystroke changes the widget’s contents. |\n",
    "| **`all`**      | Validate in all the above situations: `focusin`, `focusout`, and `key`. |\n",
    "| **`none`**     | Turns validation off (default behavior). Note: The string `'none'` is different from the Python `None` value. |\n",
    "\n",
    "### Example Usage:\n",
    "```python\n",
    "\n"
   ]
  }
 ],
 "metadata": {
  "kernelspec": {
   "display_name": "Python 3 (ipykernel)",
   "language": "python",
   "name": "python3"
  },
  "language_info": {
   "codemirror_mode": {
    "name": "ipython",
    "version": 3
   },
   "file_extension": ".py",
   "mimetype": "text/x-python",
   "name": "python",
   "nbconvert_exporter": "python",
   "pygments_lexer": "ipython3",
   "version": "3.12.2"
  }
 },
 "nbformat": 4,
 "nbformat_minor": 5
}

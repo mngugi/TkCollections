{
 "cells": [
  {
   "cell_type": "markdown",
   "id": "69e49fee-d071-47e9-b96f-2c53bf35a830",
   "metadata": {},
   "source": [
    "### Buttons\n",
    "- The follwoing button types are found in ttkinter:\n",
    "- Button\n",
    "- Checkbutton\n",
    "- Menubutton\n",
    "- Radiobutton"
   ]
  },
  {
   "cell_type": "markdown",
   "id": "902df166-24f0-47ed-abed-782084f98d6d",
   "metadata": {},
   "source": [
    "### Introduction to the Tkinter Button widget\n",
    "- Button widgets represent a clickable item in the applications. Typically, you use text or an image to display the action that will be performed when clicked.\n",
    "\n",
    "- Buttons can display text in a single font. However, the text can span multiple lines. On top of that, you can make one of the characters underline to mark a keyboard shortcut.\n",
    "\n",
    "- To invoke a function or a method of a class automatically when the button is clicked, you assign its command option to the function or method. This is called the command binding in Tkinter.\n",
    "\n",
    "To create a button, you use the ttk.Button constructor as follows:\n",
    "\n",
    "`button = ttk.Button(master, **option)`\n",
    "\n",
    "A button has many options. However, the typical ones are like this:\n",
    "\n",
    "`button = ttk.Button(master, text, command)`\n",
    "Code language: Python (python)\n",
    "In this syntax:\n",
    "\n",
    "- The master is the parent widget on which you place the button.\n",
    "- The text is the label of the button.\n",
    "- The command specifies a callback function that will be called automatically when the button is clicked.\n",
    "### Command callback\n",
    "The command option associates the button’s action with a function or a method of a class. When you click or press the button, it’ll automatically invoke a callback function.\n",
    "\n",
    "To assign a callback to the command option, you can use a lambda expression:"
   ]
  },
  {
   "cell_type": "code",
   "execution_count": 3,
   "id": "b5df0a69-a946-40f6-a6ea-f567089c85a8",
   "metadata": {},
   "outputs": [
    {
     "name": "stdout",
     "output_type": "stream",
     "text": [
      "Looking for image at: /home/sigma69/Documents/GitHub/TkCollections/Documents/GitHub/TkCollections/pyIcon.png\n",
      "Error: Image not found at '/home/sigma69/Documents/GitHub/TkCollections/Documents/GitHub/TkCollections/pyIcon.png'\n"
     ]
    }
   ],
   "source": [
    "import tkinter as tk\n",
    "from tkinter import ttk\n",
    "from tkinter.messagebox import showinfo\n",
    "import os\n",
    "\n",
    "# Root window\n",
    "root = tk.Tk()\n",
    "root.geometry('300x200')\n",
    "root.resizable(False, False)\n",
    "root.title('Image Button Demo')\n",
    "\n",
    "# Check if the image file exists\n",
    "image_path = os.path.abspath(\"Documents/GitHub/TkCollections/pyIcon.png\")  # Update with actual path\n",
    "print(f\"Looking for image at: {image_path}\")\n",
    "\n",
    "if not os.path.exists(image_path):\n",
    "    print(f\"Error: Image not found at '{image_path}'\")\n",
    "else:\n",
    "    # Load the image\n",
    "    download_icon = tk.PhotoImage(file=image_path)\n",
    "\n",
    "    # Create the button with the image\n",
    "    def download_clicked():\n",
    "        showinfo(title='Information', message='Download button clicked!')\n",
    "\n",
    "    download_button = ttk.Button(root, image=download_icon, command=download_clicked)\n",
    "    download_button.image = download_icon  # Keep reference\n",
    "    download_button.pack(ipadx=5, ipady=5, expand=True)\n",
    "\n",
    "root.mainloop()\n"
   ]
  },
  {
   "cell_type": "code",
   "execution_count": null,
   "id": "ed1d9c0d-91ad-44d3-9a52-63deaad2ac8e",
   "metadata": {},
   "outputs": [],
   "source": []
  }
 ],
 "metadata": {
  "kernelspec": {
   "display_name": "Python 3 (ipykernel)",
   "language": "python",
   "name": "python3"
  },
  "language_info": {
   "codemirror_mode": {
    "name": "ipython",
    "version": 3
   },
   "file_extension": ".py",
   "mimetype": "text/x-python",
   "name": "python",
   "nbconvert_exporter": "python",
   "pygments_lexer": "ipython3",
   "version": "3.12.2"
  }
 },
 "nbformat": 4,
 "nbformat_minor": 5
}

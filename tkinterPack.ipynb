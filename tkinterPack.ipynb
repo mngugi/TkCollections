{
 "cells": [
  {
   "cell_type": "markdown",
   "id": "6a57fc0d-de03-4402-a305-b9517a8ac038",
   "metadata": {},
   "source": [
    "**Introduction to the Tkinter pack geometry manager**\n",
    "\n",
    "Tkinter uses the geometry manager to organize widgets on a window. Tkinter supports three geometry managers:\n",
    "\n",
    "- pack\n",
    "- grid\n",
    "- place\n",
    "The pack geometry manager organizes widgets in blocks before placing them on the container widget, which can be the main window or a frame.\n",
    "\n",
    "The pack geometry manager has many options that arrange the widgets:\n",
    "\n",
    "- Side\n",
    "- Expand\n",
    "- Fill\n",
    "- ipadx, ipady\n",
    "- padx, pady\n",
    "- Anchor\n"
   ]
  }
 ],
 "metadata": {
  "kernelspec": {
   "display_name": "Python 3 (ipykernel)",
   "language": "python",
   "name": "python3"
  },
  "language_info": {
   "codemirror_mode": {
    "name": "ipython",
    "version": 3
   },
   "file_extension": ".py",
   "mimetype": "text/x-python",
   "name": "python",
   "nbconvert_exporter": "python",
   "pygments_lexer": "ipython3",
   "version": "3.12.2"
  }
 },
 "nbformat": 4,
 "nbformat_minor": 5
}

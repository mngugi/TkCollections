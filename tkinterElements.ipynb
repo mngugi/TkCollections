{
 "cells": [
  {
   "cell_type": "markdown",
   "id": "467c9e62-ca82-425d-ac71-aa5322023604",
   "metadata": {},
   "source": [
    "Introduction to ttk elements\n",
    "So far, you have learned that a theme is a collection of styles that defines the appearance of all ttk widgets.\n",
    "\n",
    "A style is a description of the appearance of a widget class. A style is composed of one or more elements.\n",
    "\n",
    "For example, a Label consists of border, padding and label elements. And these elements are nested within each other like the following picture:"
   ]
  }
 ],
 "metadata": {
  "kernelspec": {
   "display_name": "Python 3 (ipykernel)",
   "language": "python",
   "name": "python3"
  },
  "language_info": {
   "codemirror_mode": {
    "name": "ipython",
    "version": 3
   },
   "file_extension": ".py",
   "mimetype": "text/x-python",
   "name": "python",
   "nbconvert_exporter": "python",
   "pygments_lexer": "ipython3",
   "version": "3.12.2"
  }
 },
 "nbformat": 4,
 "nbformat_minor": 5
}

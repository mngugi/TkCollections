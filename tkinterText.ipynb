{
 "cells": [
  {
   "cell_type": "code",
   "execution_count": null,
   "id": "f544b916-b0fe-4027-92e8-0ef990207a1b",
   "metadata": {},
   "outputs": [],
   "source": [
    "from tkinter import Tk, Text\n",
    "\n",
    "root = Tk()\n",
    "\n",
    "root.resizable(False,False)\n",
    "root.title(\"Text Widget Example\")\n",
    "\n",
    "text = Text(root, height=8)\n",
    "text.pack()\n",
    "\n",
    "root.mainloop()\n"
   ]
  }
 ],
 "metadata": {
  "kernelspec": {
   "display_name": "Python 3 (ipykernel)",
   "language": "python",
   "name": "python3"
  },
  "language_info": {
   "codemirror_mode": {
    "name": "ipython",
    "version": 3
   },
   "file_extension": ".py",
   "mimetype": "text/x-python",
   "name": "python",
   "nbconvert_exporter": "python",
   "pygments_lexer": "ipython3",
   "version": "3.12.2"
  }
 },
 "nbformat": 4,
 "nbformat_minor": 5
}

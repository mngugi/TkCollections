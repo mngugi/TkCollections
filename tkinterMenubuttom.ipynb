{
 "cells": [
  {
   "cell_type": "markdown",
   "id": "a95aa229-e259-470f-a114-31f5172e2341",
   "metadata": {},
   "source": [
    "**Introduction to the Menubutton widget**\n",
    "\n",
    "A Menubutton widget is a combination of a Button and a Menu widget.\n",
    "\n",
    "When you click the Menubutton, it shows a menu with choices.\n",
    "\n",
    "To create a Menubutton widget, you follow these steps:\n",
    "\n",
    "First, create a MenuButton widget:\n",
    "\n",
    "`menu_button = ttk.Menubutton(container, **options)`\n",
    "\n",
    "Second, create a new instance of the Menu class:\n",
    "\n",
    "`menu = tk.Menu(menu_button, tearoff=False)`\n",
    "\n",
    "Third, add one or more menu items to the menu instance. And you can add Checkbutton or Radiobutton widgets to the menu.\n",
    "\n",
    "Finally, assign the Menu to the MenuButton instance:\n",
    "\n",
    "menu_button[\"menu\"] = menu\n",
    "\n",
    "Tkinter Menubutton widget example\n",
    "The following program illustrates how to use Menubutton widget. When you click the MenuButton, it’ll display a menu that consists of three choices: red, green, and blue.\n",
    "\n",
    "The background color of the main window will change based on the selected menu item of the Menubutton:"
   ]
  }
 ],
 "metadata": {
  "kernelspec": {
   "display_name": "Python 3 (ipykernel)",
   "language": "python",
   "name": "python3"
  },
  "language_info": {
   "codemirror_mode": {
    "name": "ipython",
    "version": 3
   },
   "file_extension": ".py",
   "mimetype": "text/x-python",
   "name": "python",
   "nbconvert_exporter": "python",
   "pygments_lexer": "ipython3",
   "version": "3.12.2"
  }
 },
 "nbformat": 4,
 "nbformat_minor": 5
}

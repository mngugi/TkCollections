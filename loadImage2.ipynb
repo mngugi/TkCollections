{
 "cells": [
  {
   "cell_type": "code",
   "execution_count": 4,
   "id": "fc16d0d3-e5e8-44b3-a4ea-6f276980adaa",
   "metadata": {},
   "outputs": [
    {
     "ename": "TclError",
     "evalue": "image \"pyimage2\" doesn't exist",
     "output_type": "error",
     "traceback": [
      "\u001b[0;31m---------------------------------------------------------------------------\u001b[0m",
      "\u001b[0;31mTclError\u001b[0m                                  Traceback (most recent call last)",
      "Cell \u001b[0;32mIn[4], line 15\u001b[0m\n\u001b[1;32m     12\u001b[0m image \u001b[38;5;241m=\u001b[39m image\u001b[38;5;241m.\u001b[39mresize((\u001b[38;5;241m300\u001b[39m, \u001b[38;5;241m200\u001b[39m))  \u001b[38;5;66;03m# Resize if needed\u001b[39;00m\n\u001b[1;32m     13\u001b[0m photo \u001b[38;5;241m=\u001b[39m ImageTk\u001b[38;5;241m.\u001b[39mPhotoImage(image)\n\u001b[0;32m---> 15\u001b[0m image_label \u001b[38;5;241m=\u001b[39m tk\u001b[38;5;241m.\u001b[39mLabel(root, image\u001b[38;5;241m=\u001b[39mphoto)\n\u001b[1;32m     16\u001b[0m image_label\u001b[38;5;241m.\u001b[39mpack()\n\u001b[1;32m     18\u001b[0m \u001b[38;5;66;03m# ✅ Keep a reference to avoid garbage collection\u001b[39;00m\n",
      "File \u001b[0;32m~/anaconda3/lib/python3.12/tkinter/__init__.py:3232\u001b[0m, in \u001b[0;36mLabel.__init__\u001b[0;34m(self, master, cnf, **kw)\u001b[0m\n\u001b[1;32m   3214\u001b[0m \u001b[38;5;28;01mdef\u001b[39;00m \u001b[38;5;21m__init__\u001b[39m(\u001b[38;5;28mself\u001b[39m, master\u001b[38;5;241m=\u001b[39m\u001b[38;5;28;01mNone\u001b[39;00m, cnf\u001b[38;5;241m=\u001b[39m{}, \u001b[38;5;241m*\u001b[39m\u001b[38;5;241m*\u001b[39mkw):\n\u001b[1;32m   3215\u001b[0m \u001b[38;5;250m    \u001b[39m\u001b[38;5;124;03m\"\"\"Construct a label widget with the parent MASTER.\u001b[39;00m\n\u001b[1;32m   3216\u001b[0m \n\u001b[1;32m   3217\u001b[0m \u001b[38;5;124;03m    STANDARD OPTIONS\u001b[39;00m\n\u001b[0;32m   (...)\u001b[0m\n\u001b[1;32m   3230\u001b[0m \n\u001b[1;32m   3231\u001b[0m \u001b[38;5;124;03m    \"\"\"\u001b[39;00m\n\u001b[0;32m-> 3232\u001b[0m     Widget\u001b[38;5;241m.\u001b[39m\u001b[38;5;21m__init__\u001b[39m(\u001b[38;5;28mself\u001b[39m, master, \u001b[38;5;124m'\u001b[39m\u001b[38;5;124mlabel\u001b[39m\u001b[38;5;124m'\u001b[39m, cnf, kw)\n",
      "File \u001b[0;32m~/anaconda3/lib/python3.12/tkinter/__init__.py:2648\u001b[0m, in \u001b[0;36mBaseWidget.__init__\u001b[0;34m(self, master, widgetName, cnf, kw, extra)\u001b[0m\n\u001b[1;32m   2646\u001b[0m \u001b[38;5;28;01mfor\u001b[39;00m k, v \u001b[38;5;129;01min\u001b[39;00m classes:\n\u001b[1;32m   2647\u001b[0m     \u001b[38;5;28;01mdel\u001b[39;00m cnf[k]\n\u001b[0;32m-> 2648\u001b[0m \u001b[38;5;28mself\u001b[39m\u001b[38;5;241m.\u001b[39mtk\u001b[38;5;241m.\u001b[39mcall(\n\u001b[1;32m   2649\u001b[0m     (widgetName, \u001b[38;5;28mself\u001b[39m\u001b[38;5;241m.\u001b[39m_w) \u001b[38;5;241m+\u001b[39m extra \u001b[38;5;241m+\u001b[39m \u001b[38;5;28mself\u001b[39m\u001b[38;5;241m.\u001b[39m_options(cnf))\n\u001b[1;32m   2650\u001b[0m \u001b[38;5;28;01mfor\u001b[39;00m k, v \u001b[38;5;129;01min\u001b[39;00m classes:\n\u001b[1;32m   2651\u001b[0m     k\u001b[38;5;241m.\u001b[39mconfigure(\u001b[38;5;28mself\u001b[39m, v)\n",
      "\u001b[0;31mTclError\u001b[0m: image \"pyimage2\" doesn't exist"
     ]
    }
   ],
   "source": [
    "import tkinter as tk\n",
    "from PIL import Image, ImageTk\n",
    "import matplotlib.pyplot as plt\n",
    "from io import BytesIO\n",
    "\n",
    "# ✅ Initialize Tkinter first\n",
    "root = tk.Tk()\n",
    "\n",
    "# ✅ Load and display an image\n",
    "image_path = \"Pasted image.png\"  # Replace with your actual image\n",
    "image = Image.open(image_path)\n",
    "image = image.resize((300, 200))  # Resize if needed\n",
    "photo = ImageTk.PhotoImage(image)\n",
    "\n",
    "image_label = tk.Label(root, image=photo)\n",
    "image_label.pack()\n",
    "\n",
    "# ✅ Keep a reference to avoid garbage collection\n",
    "image_label.image = photo  \n",
    "\n",
    "# ✅ Generate LaTeX-rendered text using Matplotlib\n",
    "fig, ax = plt.subplots(figsize=(3, 1))\n",
    "ax.text(0.5, 0.5, r\"$\\textbf{Philadelphia Eagles}$ \\quad \\textit{are Champions!}$\", \n",
    "        fontsize=14, ha=\"center\", va=\"center\")\n",
    "ax.axis(\"off\")\n",
    "\n",
    "# Convert Matplotlib figure to a Tkinter-compatible image\n",
    "buf = BytesIO()\n",
    "fig.savefig(buf, format=\"png\", bbox_inches=\"tight\", transparent=True)\n",
    "buf.seek(0)\n",
    "latex_image = Image.open(buf)\n",
    "latex_photo = ImageTk.PhotoImage(latex_image)\n",
    "\n",
    "# ✅ Display the LaTeX-rendered text as an image\n",
    "latex_label = tk.Label(root, image=latex_photo)\n",
    "latex_label.pack()\n",
    "\n",
    "# ✅ Keep a reference to avoid garbage collection issues\n",
    "latex_label.image = latex_photo  \n",
    "\n",
    "# Start the Tkinter event loop\n",
    "root.mainloop()\n"
   ]
  },
  {
   "cell_type": "code",
   "execution_count": null,
   "id": "d8cddfa1-06ec-4fcd-a3fa-18f7110bd7a4",
   "metadata": {},
   "outputs": [],
   "source": []
  }
 ],
 "metadata": {
  "kernelspec": {
   "display_name": "Python 3 (ipykernel)",
   "language": "python",
   "name": "python3"
  },
  "language_info": {
   "codemirror_mode": {
    "name": "ipython",
    "version": 3
   },
   "file_extension": ".py",
   "mimetype": "text/x-python",
   "name": "python",
   "nbconvert_exporter": "python",
   "pygments_lexer": "ipython3",
   "version": "3.12.2"
  }
 },
 "nbformat": 4,
 "nbformat_minor": 5
}

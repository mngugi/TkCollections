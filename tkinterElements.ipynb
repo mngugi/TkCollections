{
 "cells": [
  {
   "cell_type": "markdown",
   "id": "467c9e62-ca82-425d-ac71-aa5322023604",
   "metadata": {},
   "source": [
    "**Introduction to ttk elements**\n",
    "\n",
    "So far, you have learned that a theme is a collection of styles that defines the appearance of all ttk widgets.\n",
    "\n",
    "A style is a description of the appearance of a widget class. A style is composed of one or more elements.\n",
    "\n",
    "For example, a Label consists of border, padding and label elements. And these elements are nested within each other like the following picture:"
   ]
  },
  {
   "cell_type": "code",
   "execution_count": 1,
   "id": "8c72ff0e-7a69-4b3f-ba0e-3b634ae78b09",
   "metadata": {},
   "outputs": [],
   "source": [
    "import tkinter as tk\n",
    "from PIL import Image, ImageTk\n",
    "\n",
    "\n",
    "class ImageApp(tk.Tk):\n",
    "    def __init__(self):\n",
    "        super().__init__()\n",
    "\n",
    "        self.title(\"Display Image\")\n",
    "        self.geometry(\"600x400\")\n",
    "\n",
    "        # Load the image\n",
    "        image_path = \"tkinterElements.png\"  # Ensure this file is in the same directory\n",
    "        self.img = Image.open(image_path)\n",
    "        self.img = self.img.resize((400, 300), Image.LANCZOS)  # Resize for better fit\n",
    "        self.img_tk = ImageTk.PhotoImage(self.img)\n",
    "\n",
    "        # Display image\n",
    "        self.label = tk.Label(self, image=self.img_tk)\n",
    "        self.label.pack(pady=20)\n",
    "\n",
    "\n",
    "if __name__ == \"__main__\":\n",
    "    app = ImageApp()\n",
    "    app.mainloop()\n"
   ]
  },
  {
   "cell_type": "markdown",
   "id": "467264b7-523f-4f67-8ba2-46396531baec",
   "metadata": {},
   "source": [
    "In general, most of the built-in ttk styles use the concept of a layout to organize the different element layers that build up a widget.\n",
    "\n",
    "To get the layout of a widget class, you use the layout() method of the Style object like this:\n",
    "\n",
    "`style.layout(widget_class)`\n",
    "\n",
    "If a widget class doesn’t have a layout, the layout() method will raise a \n",
    "`tk.TclError exception.`\n",
    "\n",
    "The layout() method returns a list of tuples (element_name, description), where:\n",
    "\n",
    "- element_name is the name of the element.\n",
    "- description is a dictionary that describes the element.\n",
    "The following example uses the layout() method to get the layout of the TLabel widget class:"
   ]
  },
  {
   "cell_type": "code",
   "execution_count": 4,
   "id": "7f8e5dd5-bfd8-482c-afc7-c6f311b20f97",
   "metadata": {},
   "outputs": [
    {
     "name": "stdout",
     "output_type": "stream",
     "text": [
      "[('Label.border', {'sticky': 'nswe', 'border': '1', 'children': [('Label.padding', {'sticky': 'nswe', 'border': '1', 'children': [('Label.label', {'sticky': 'nswe'})]})]})]\n"
     ]
    }
   ],
   "source": [
    "import tkinter as tk\n",
    "from tkinter import ttk\n",
    "\n",
    "class App(tk.Tk):\n",
    "    def __init__(self):\n",
    "        super().__init__() \n",
    "        style = ttk.Style(self)\n",
    "        layout = style.layout('TLabel')\n",
    "        print(layout)\n",
    "\n",
    "if __name__ == \"__main__\":\n",
    "    app = App()\n",
    "    app.mainloop()\n",
    "\n",
    "\n",
    "    "
   ]
  },
  {
   "cell_type": "markdown",
   "id": "24391d10-8a56-4d75-ae94-eec6249e886b",
   "metadata": {},
   "source": [
    "The TLabel has three elements nested within each other:\n",
    "\n",
    "- The Label.border is the outermost element that has the sticky, border, and children keys.\n",
    "- The Label.padding is nested inside the Label.border. It also has the sticky, border, and children keys.\n",
    "- The Label.label is the innermost element that has only one sticky key.\n",
    "- \n",
    "For example, when an element has a sticky key with the value of nswe, it would be stretched to adhere to the north, south, west, and east of the parent element.\n",
    "\n",
    "Note that the style’s layout of a widget’s class depends on the current theme. If you change the theme, the layout may be different."
   ]
  },
  {
   "cell_type": "markdown",
   "id": "bfccb288-8c70-472e-b3db-e80c4ab83f71",
   "metadata": {},
   "source": [
    "**Element options**\n",
    "\n",
    "Each element has a list of options that specify the appearance of the element. To get the list of option names, you use the element_options() method of Style object:\n",
    "\n",
    "`style.element_options(styleName)`\n",
    "\n",
    "The following program shows the element options of the Label.border, Label.padding, and Label.label elements:"
   ]
  },
  {
   "cell_type": "code",
   "execution_count": 5,
   "id": "eb07534b-be8f-4ba1-9465-12b352a24a83",
   "metadata": {},
   "outputs": [
    {
     "name": "stdout",
     "output_type": "stream",
     "text": [
      "[('Label.border', {'sticky': 'nswe', 'border': '1', 'children': [('Label.padding', {'sticky': 'nswe', 'border': '1', 'children': [('Label.label', {'sticky': 'nswe'})]})]})]\n",
      "('background', 'borderwidth', 'relief')\n",
      "('padding', 'relief', 'shiftrelief')\n",
      "('compound', 'space', 'text', 'font', 'foreground', 'underline', 'width', 'anchor', 'justify', 'wraplength', 'embossed', 'image', 'stipple', 'background')\n"
     ]
    }
   ],
   "source": [
    "import tkinter as tk\n",
    "from tkinter import ttk\n",
    "\n",
    "\n",
    "class App(tk.Tk):\n",
    "    def __init__(self):\n",
    "        super().__init__()\n",
    "\n",
    "        style = ttk.Style(self)\n",
    "\n",
    "        # layout\n",
    "        layout = style.layout('TLabel')\n",
    "        print(layout)\n",
    "\n",
    "        # element options\n",
    "        print(style.element_options('Label.border'))\n",
    "        print(style.element_options('Label.padding'))\n",
    "        print(style.element_options('Label.label'))\n",
    "\n",
    "\n",
    "if __name__ == \"__main__\":\n",
    "    app = App()\n",
    "    app.mainloop()"
   ]
  },
  {
   "cell_type": "markdown",
   "id": "1be9fad2-0e45-4649-baf0-cde4f423c87f",
   "metadata": {},
   "source": [
    "- The Label.border element has one option: 'relief'.\n",
    "- The Label.padding element has three options: 'padding', 'relief', and 'shiftrelief'.\n",
    "- The Label.label element has many options including 'font', 'foreground', 'with', etc.\n",
    "\n",
    "**Attributes of element options**\n",
    "\n",
    "To get a list of attributes associated with an element option, you use the lookup() method of the Style object:\n",
    "\n",
    "`style.lookup(layout_name, option_name)`\n",
    "\n",
    "The following example shows the attributes of the font, foreground, and background options in the TLabel.label element:"
   ]
  },
  {
   "cell_type": "code",
   "execution_count": 6,
   "id": "fa3dd3a8-681d-47f2-865f-e6e01fc9343b",
   "metadata": {},
   "outputs": [
    {
     "name": "stdout",
     "output_type": "stream",
     "text": [
      "[('Label.border', {'sticky': 'nswe', 'border': '1', 'children': [('Label.padding', {'sticky': 'nswe', 'border': '1', 'children': [('Label.label', {'sticky': 'nswe'})]})]})]\n",
      "TkDefaultFont\n",
      "#000000\n",
      "#d9d9d9\n"
     ]
    }
   ],
   "source": [
    "import tkinter as tk\n",
    "from tkinter import ttk\n",
    "\n",
    "\n",
    "class App(tk.Tk):\n",
    "    def __init__(self):\n",
    "        super().__init__()\n",
    "\n",
    "        style = ttk.Style(self)\n",
    "\n",
    "        # layout\n",
    "        layout = style.layout('TLabel')\n",
    "        print(layout)\n",
    "\n",
    "        # element options\n",
    "        print(style.lookup('Label.label', 'font'))\n",
    "        print(style.lookup('Label.label', 'foreground'))\n",
    "        print(style.lookup('Label.label', 'background'))\n",
    "\n",
    "\n",
    "if __name__ == \"__main__\":\n",
    "    app = App()\n",
    "    app.mainloop()"
   ]
  },
  {
   "cell_type": "markdown",
   "id": "dfd440ea-919f-4dfb-a4c7-120de0082691",
   "metadata": {},
   "source": [
    "As you can see clearly from the output, the font is TkDefaultFont, the foreground is SystemWindowText, and the background is SystemButtonFace.\n",
    "\n",
    "**Put it all together**\n",
    "\n",
    "The following shows how to change the appearance of a Label widget:"
   ]
  }
 ],
 "metadata": {
  "kernelspec": {
   "display_name": "Python 3 (ipykernel)",
   "language": "python",
   "name": "python3"
  },
  "language_info": {
   "codemirror_mode": {
    "name": "ipython",
    "version": 3
   },
   "file_extension": ".py",
   "mimetype": "text/x-python",
   "name": "python",
   "nbconvert_exporter": "python",
   "pygments_lexer": "ipython3",
   "version": "3.12.2"
  }
 },
 "nbformat": 4,
 "nbformat_minor": 5
}

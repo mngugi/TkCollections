{
 "cells": [
  {
   "cell_type": "markdown",
   "id": "5ee43031-8b00-4359-b813-e758533700e3",
   "metadata": {},
   "source": [
    "**Introduction to Tkinter system tray applications**\n",
    "\n",
    "A system tray application is a type of application that runs in the background and provides quick access to some functions.\n",
    "\n",
    "The system tray application typically appears as a small icon in the system tray or notification areas in the taskbar of the Windows, macOS, or Linux Desktop environment.\n",
    "\n",
    "Some common examples of system tray applications are antivirus software, instant messaging clients, or system monitoring software.\n",
    "\n",
    "Users can interact with the system tray application by clicking on it to access a menu and perform specific actions.\n",
    "\n",
    "Tkinter lacks built-in support for the system tray application, but you can use the PyStray third-party library to create it.\n",
    "\n",
    "**Tkinter System Tray Application example**\n",
    "\n",
    "Creating a system tray application using the Tkinter and PyStray package involves the following steps:\n",
    "\n",
    "Step 1. Install the Pystray and Pillow libraries\n",
    "Install the Pystray and Pillow libraries using the pip command. The Pystray enables you to create a tray application, and the Pillow helps you design an icon placed in the system tray.\n",
    "\n",
    "`pip install pystray pillow`\n",
    "\n",
    "Step 2. Create a Tkinter system tray application\n",
    "Create a Python script and use the following code:\n",
    "\n"
   ]
  },
  {
   "cell_type": "code",
   "execution_count": 7,
   "id": "fd3c53b9-9a0e-4f95-886a-69196dfd7570",
   "metadata": {},
   "outputs": [
    {
     "ename": "ValueError",
     "evalue": "Namespace Gtk not available",
     "output_type": "error",
     "traceback": [
      "\u001b[0;31m---------------------------------------------------------------------------\u001b[0m",
      "\u001b[0;31mValueError\u001b[0m                                Traceback (most recent call last)",
      "Cell \u001b[0;32mIn[7], line 2\u001b[0m\n\u001b[1;32m      1\u001b[0m \u001b[38;5;28;01mimport\u001b[39;00m \u001b[38;5;21;01mtkinter\u001b[39;00m \u001b[38;5;28;01mas\u001b[39;00m \u001b[38;5;21;01mtk\u001b[39;00m\n\u001b[0;32m----> 2\u001b[0m \u001b[38;5;28;01mimport\u001b[39;00m \u001b[38;5;21;01mpystray\u001b[39;00m\n\u001b[1;32m      3\u001b[0m \u001b[38;5;28;01mfrom\u001b[39;00m \u001b[38;5;21;01mPIL\u001b[39;00m \u001b[38;5;28;01mimport\u001b[39;00m Image\n\u001b[1;32m      6\u001b[0m \u001b[38;5;28;01mclass\u001b[39;00m \u001b[38;5;21;01mMyApp\u001b[39;00m(tk\u001b[38;5;241m.\u001b[39mTk):\n",
      "File \u001b[0;32m~/anaconda3/lib/python3.12/site-packages/pystray/__init__.py:64\u001b[0m\n\u001b[1;32m     58\u001b[0m             errors\u001b[38;5;241m.\u001b[39mappend(e)\n\u001b[1;32m     60\u001b[0m     \u001b[38;5;28;01mraise\u001b[39;00m \u001b[38;5;167;01mImportError\u001b[39;00m(\u001b[38;5;124m'\u001b[39m\u001b[38;5;124mthis platform is not supported: \u001b[39m\u001b[38;5;132;01m{}\u001b[39;00m\u001b[38;5;124m'\u001b[39m\u001b[38;5;241m.\u001b[39mformat(\n\u001b[1;32m     61\u001b[0m         \u001b[38;5;124m'\u001b[39m\u001b[38;5;124m; \u001b[39m\u001b[38;5;124m'\u001b[39m\u001b[38;5;241m.\u001b[39mjoin(\u001b[38;5;28mstr\u001b[39m(e) \u001b[38;5;28;01mfor\u001b[39;00m e \u001b[38;5;129;01min\u001b[39;00m errors)))\n\u001b[0;32m---> 64\u001b[0m Icon \u001b[38;5;241m=\u001b[39m backend()\u001b[38;5;241m.\u001b[39mIcon\n\u001b[1;32m     65\u001b[0m \u001b[38;5;28;01mdel\u001b[39;00m backend\n\u001b[1;32m     67\u001b[0m \u001b[38;5;28;01mfrom\u001b[39;00m \u001b[38;5;21;01m.\u001b[39;00m\u001b[38;5;21;01m_base\u001b[39;00m \u001b[38;5;28;01mimport\u001b[39;00m Menu, MenuItem\n",
      "File \u001b[0;32m~/anaconda3/lib/python3.12/site-packages/pystray/__init__.py:56\u001b[0m, in \u001b[0;36mbackend\u001b[0;34m()\u001b[0m\n\u001b[1;32m     54\u001b[0m \u001b[38;5;28;01mfor\u001b[39;00m candidate \u001b[38;5;129;01min\u001b[39;00m candidates:\n\u001b[1;32m     55\u001b[0m     \u001b[38;5;28;01mtry\u001b[39;00m:\n\u001b[0;32m---> 56\u001b[0m         \u001b[38;5;28;01mreturn\u001b[39;00m candidate()\n\u001b[1;32m     57\u001b[0m     \u001b[38;5;28;01mexcept\u001b[39;00m \u001b[38;5;167;01mImportError\u001b[39;00m \u001b[38;5;28;01mas\u001b[39;00m e:\n\u001b[1;32m     58\u001b[0m         errors\u001b[38;5;241m.\u001b[39mappend(e)\n",
      "File \u001b[0;32m~/anaconda3/lib/python3.12/site-packages/pystray/__init__.py:28\u001b[0m, in \u001b[0;36mbackend.<locals>.appindicator\u001b[0;34m()\u001b[0m\n\u001b[1;32m     27\u001b[0m \u001b[38;5;28;01mdef\u001b[39;00m \u001b[38;5;21mappindicator\u001b[39m():\n\u001b[0;32m---> 28\u001b[0m     \u001b[38;5;28;01mfrom\u001b[39;00m \u001b[38;5;21;01m.\u001b[39;00m \u001b[38;5;28;01mimport\u001b[39;00m _appindicator \u001b[38;5;28;01mas\u001b[39;00m backend; \u001b[38;5;28;01mreturn\u001b[39;00m backend\n",
      "File \u001b[0;32m~/anaconda3/lib/python3.12/site-packages/pystray/_appindicator.py:20\u001b[0m\n\u001b[1;32m      1\u001b[0m \u001b[38;5;66;03m# coding=utf-8\u001b[39;00m\n\u001b[1;32m      2\u001b[0m \u001b[38;5;66;03m# pystray\u001b[39;00m\n\u001b[1;32m      3\u001b[0m \u001b[38;5;66;03m# Copyright (C) 2016-2022 Moses Palmér\u001b[39;00m\n\u001b[0;32m   (...)\u001b[0m\n\u001b[1;32m     16\u001b[0m \u001b[38;5;66;03m# You should have received a copy of the GNU Lesser General Public License\u001b[39;00m\n\u001b[1;32m     17\u001b[0m \u001b[38;5;66;03m# along with this program. If not, see <http://www.gnu.org/licenses/>.\u001b[39;00m\n\u001b[1;32m     19\u001b[0m \u001b[38;5;28;01mimport\u001b[39;00m \u001b[38;5;21;01mgi\u001b[39;00m\n\u001b[0;32m---> 20\u001b[0m gi\u001b[38;5;241m.\u001b[39mrequire_version(\u001b[38;5;124m'\u001b[39m\u001b[38;5;124mGtk\u001b[39m\u001b[38;5;124m'\u001b[39m, \u001b[38;5;124m'\u001b[39m\u001b[38;5;124m3.0\u001b[39m\u001b[38;5;124m'\u001b[39m)\n\u001b[1;32m     21\u001b[0m \u001b[38;5;28;01mfrom\u001b[39;00m \u001b[38;5;21;01mgi\u001b[39;00m\u001b[38;5;21;01m.\u001b[39;00m\u001b[38;5;21;01mrepository\u001b[39;00m \u001b[38;5;28;01mimport\u001b[39;00m Gtk\n\u001b[1;32m     23\u001b[0m \u001b[38;5;28;01mtry\u001b[39;00m:\n",
      "File \u001b[0;32m~/anaconda3/lib/python3.12/site-packages/gi/__init__.py:122\u001b[0m, in \u001b[0;36mrequire_version\u001b[0;34m(namespace, version)\u001b[0m\n\u001b[1;32m    120\u001b[0m available_versions \u001b[38;5;241m=\u001b[39m repository\u001b[38;5;241m.\u001b[39menumerate_versions(namespace)\n\u001b[1;32m    121\u001b[0m \u001b[38;5;28;01mif\u001b[39;00m \u001b[38;5;129;01mnot\u001b[39;00m available_versions:\n\u001b[0;32m--> 122\u001b[0m     \u001b[38;5;28;01mraise\u001b[39;00m \u001b[38;5;167;01mValueError\u001b[39;00m(\u001b[38;5;124m'\u001b[39m\u001b[38;5;124mNamespace \u001b[39m\u001b[38;5;132;01m%s\u001b[39;00m\u001b[38;5;124m not available\u001b[39m\u001b[38;5;124m'\u001b[39m \u001b[38;5;241m%\u001b[39m namespace)\n\u001b[1;32m    124\u001b[0m \u001b[38;5;28;01mif\u001b[39;00m version \u001b[38;5;129;01mnot\u001b[39;00m \u001b[38;5;129;01min\u001b[39;00m available_versions:\n\u001b[1;32m    125\u001b[0m     \u001b[38;5;28;01mraise\u001b[39;00m \u001b[38;5;167;01mValueError\u001b[39;00m(\u001b[38;5;124m'\u001b[39m\u001b[38;5;124mNamespace \u001b[39m\u001b[38;5;132;01m%s\u001b[39;00m\u001b[38;5;124m not available for version \u001b[39m\u001b[38;5;132;01m%s\u001b[39;00m\u001b[38;5;124m'\u001b[39m \u001b[38;5;241m%\u001b[39m\n\u001b[1;32m    126\u001b[0m                      (namespace, version))\n",
      "\u001b[0;31mValueError\u001b[0m: Namespace Gtk not available"
     ]
    }
   ],
   "source": [
    "import tkinter as tk\n",
    "import pystray\n",
    "from PIL import Image\n",
    "\n",
    "\n",
    "class MyApp(tk.Tk):\n",
    "    def __init__(self):\n",
    "        super().__init__()\n",
    "\n",
    "        self.title(\"System Tray App\")\n",
    "        self.geometry('500x250')\n",
    "        self.protocol('WM_DELETE_WINDOW', self.minimize_to_tray)\n",
    "    \n",
    "    def minimize_to_tray(self):\n",
    "        self.withdraw()\n",
    "        image = Image.open(\"app.ico\")\n",
    "        menu = (pystray.MenuItem('Quit',  self.quit_window), \n",
    "                pystray.MenuItem('Show',self.show_window))\n",
    "        icon = pystray.Icon(\"name\", image, \"My App\", menu)\n",
    "        icon.run()\n",
    "\n",
    "    def quit_window(self, icon):\n",
    "        icon.stop()\n",
    "        self.destroy()\n",
    "\n",
    "    def show_window(self, icon):\n",
    "        icon.stop()\n",
    "        self.after(0,self.deiconify)\n",
    "\n",
    "if __name__ == \"__main__\":\n",
    "    app = MyApp()\n",
    "    app.mainloop()"
   ]
  },
  {
   "cell_type": "code",
   "execution_count": 6,
   "id": "c5b25c8b-c159-4498-b03d-8aa6bb9885df",
   "metadata": {},
   "outputs": [
    {
     "name": "stdout",
     "output_type": "stream",
     "text": [
      "\u001b[33mDEPRECATION: Loading egg at /home/sigma69/anaconda3/lib/python3.12/site-packages/tensorflow_examples-0.1737579045.311121827000533153813667172443555370901945257906-py3.12.egg is deprecated. pip 25.1 will enforce this behaviour change. A possible replacement is to use pip for package installation. Discussion can be found at https://github.com/pypa/pip/issues/12330\u001b[0m\u001b[33m\n",
      "\u001b[0m\u001b[33mDEPRECATION: Loading egg at /home/sigma69/anaconda3/lib/python3.12/site-packages/tensorflow_examples-0.1738683835.377626100990979502159587917924824096723940145368-py3.12.egg is deprecated. pip 25.1 will enforce this behaviour change. A possible replacement is to use pip for package installation. Discussion can be found at https://github.com/pypa/pip/issues/12330\u001b[0m\u001b[33m\n",
      "\u001b[0mRequirement already satisfied: pystray in /home/sigma69/anaconda3/lib/python3.12/site-packages (0.19.5)\n",
      "Requirement already satisfied: pillow in /home/sigma69/anaconda3/lib/python3.12/site-packages (11.1.0)\n",
      "Requirement already satisfied: six in /home/sigma69/anaconda3/lib/python3.12/site-packages (from pystray) (1.17.0)\n",
      "Requirement already satisfied: python-xlib>=0.17 in /home/sigma69/anaconda3/lib/python3.12/site-packages (from pystray) (0.33)\n"
     ]
    }
   ],
   "source": [
    "!pip install pystray pillow\n"
   ]
  },
  {
   "cell_type": "code",
   "execution_count": null,
   "id": "7725a782-616b-4766-8ab3-23ea1fa4ffef",
   "metadata": {},
   "outputs": [],
   "source": []
  }
 ],
 "metadata": {
  "kernelspec": {
   "display_name": "Python 3 (ipykernel)",
   "language": "python",
   "name": "python3"
  },
  "language_info": {
   "codemirror_mode": {
    "name": "ipython",
    "version": 3
   },
   "file_extension": ".py",
   "mimetype": "text/x-python",
   "name": "python",
   "nbconvert_exporter": "python",
   "pygments_lexer": "ipython3",
   "version": "3.12.2"
  }
 },
 "nbformat": 4,
 "nbformat_minor": 5
}

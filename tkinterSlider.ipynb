{
 "cells": [
  {
   "cell_type": "markdown",
   "id": "c1200e87-d1cf-493e-b360-bed56250d569",
   "metadata": {},
   "source": [
    "**Introduction to Tkinter slider widget**\n",
    "\n",
    "A slider allows you to enter a value by moving an indicator. A slider can be vertical or horizontal.\n",
    "\n",
    "To create a slider, you’ll use the ttk.Scale() constructor as follows:\n",
    "\n",
    "`ttk.Scale(container,from_,to)`\n",
    "\n",
    "In this syntax, the container specifies the parent component of the slider.\n",
    "\n",
    "The from_ and to options specify the minimum and maximum values of the slider. Since from is a keyword in Python, Tkinter uses from_ instead.\n",
    "\n",
    "By default, a slider is horizontal. To specify how the slider is arranged, you use the orient option which can be horizontal or vertical. For example:\n",
    "\n",
    "```\n",
    "slider = ttk.Scale(\n",
    "    root,\n",
    "    from_=0,\n",
    "    to=100,\n",
    "    orient='vertical',  # horizontal\n",
    ")\n",
    "```"
   ]
  }
 ],
 "metadata": {
  "kernelspec": {
   "display_name": "Python 3 (ipykernel)",
   "language": "python",
   "name": "python3"
  },
  "language_info": {
   "codemirror_mode": {
    "name": "ipython",
    "version": 3
   },
   "file_extension": ".py",
   "mimetype": "text/x-python",
   "name": "python",
   "nbconvert_exporter": "python",
   "pygments_lexer": "ipython3",
   "version": "3.12.2"
  }
 },
 "nbformat": 4,
 "nbformat_minor": 5
}

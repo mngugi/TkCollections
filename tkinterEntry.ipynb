{
 "cells": [
  {
   "cell_type": "markdown",
   "id": "1d90d861-7576-4116-b88e-cb143db2f641",
   "metadata": {},
   "source": [
    "**Introduction to Tkinter Entry widget**\n",
    "\n",
    "The Entry widget allows you to enter a single-line text. In Tkinter, to create a textbox, you use the Entry widget:\n",
    "\n",
    "`textbox = ttk.Entry(master, **options)`\n",
    "\n",
    "In this syntax:\n",
    "\n",
    "The master is the parent frame or window. on which you want to place the widget.\n",
    "The options is one or more keyword arguments used to configure the Entry widget.\n",
    "\n",
    "- The master is the parent frame or window. on which you want to place the widget.\n",
    "- The options is one or more keyword arguments used to configure the Entry widget.\n",
    "\n",
    "To get the current text of a Entry widget as a string, you use the get() method:\n",
    "\n",
    "`textbox.get()`\n",
    "\n",
    "Typically, you associate the current value of the textbox with a StringVar object like this:\n",
    "\n",
    "```\n",
    "text = tk.StringVar()\n",
    "textbox = ttk.Entry(root, textvariable=text)\n",
    "```\n",
    "In this syntax:\n",
    "\n",
    "- First, create a new instance of the StringVar class. The text will be the value holder for a string variable.\n",
    "- Second, assign the text variable to the textvariable of the Entry widget.\n",
    "In this case, you can use call the get() method of the StringVar() object to get the current value of the entry widget:\n",
    "\n",
    "`text.get()`"
   ]
  }
 ],
 "metadata": {
  "kernelspec": {
   "display_name": "Python 3 (ipykernel)",
   "language": "python",
   "name": "python3"
  },
  "language_info": {
   "codemirror_mode": {
    "name": "ipython",
    "version": 3
   },
   "file_extension": ".py",
   "mimetype": "text/x-python",
   "name": "python",
   "nbconvert_exporter": "python",
   "pygments_lexer": "ipython3",
   "version": "3.12.2"
  }
 },
 "nbformat": 4,
 "nbformat_minor": 5
}

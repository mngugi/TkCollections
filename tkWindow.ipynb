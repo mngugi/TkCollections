{
 "cells": [
  {
   "cell_type": "markdown",
   "id": "970200e2-bebb-4c14-9b49-666010217c20",
   "metadata": {},
   "source": [
    "### Tkinter Window\n",
    "* the program below is a simple window program"
   ]
  },
  {
   "cell_type": "code",
   "execution_count": 1,
   "id": "2cf1be87-0a8b-42cc-8b51-0e9d23ed2d58",
   "metadata": {},
   "outputs": [],
   "source": [
    "import tkinter as tk\n",
    "\n",
    "root = tk.Tk()\n",
    "root.mainloop()\n",
    "\n"
   ]
  },
  {
   "cell_type": "markdown",
   "id": "fbdbde7c-eb91-4021-b293-cc7aadaa13be",
   "metadata": {},
   "source": [
    "### Changing the window title\n",
    "- To change the window’s title, you use the title() method like this:"
   ]
  },
  {
   "cell_type": "code",
   "execution_count": 5,
   "id": "5fa632de-8c5d-49b1-bf1e-db3919d4c7d1",
   "metadata": {},
   "outputs": [],
   "source": [
    "import tkinter as tk\n",
    "\n",
    "root = tk.Tk()\n",
    "root.title(\"Demo Window\")\n",
    "\n",
    "root.mainloop()"
   ]
  },
  {
   "cell_type": "markdown",
   "id": "087f41c2-61c3-4ceb-b410-8a4c57a8e69e",
   "metadata": {},
   "source": [
    "### Changing window size and location\n",
    "- In Tkinter, the position and size of a window on the screen is determined by its geometry.\n",
    "\n",
    "- The following shows the geometry specification:"
   ]
  },
  {
   "cell_type": "markdown",
   "id": "fe1b47d7-108b-4acc-b1c7-d31e956dbb12",
   "metadata": {},
   "source": [
    "`widthxheight±x±y`\n",
    "- The width represents the window’s width in pixels.\n",
    "- The height represents the window’s height in pixels.\n",
    "- The x parameter denotes the window’s horizontal position. For example, a value of +50 signifies the left edge of the window should be positioned 50 pixels from the left edge of the screen. Conversely, a value of -50 indicates the right edge of the window should be 50 pixels from the right edge of the screen.\n",
    "- The y paremeter denotes the window’s vertical position. For example, a value of +50 signifies the top edge of the window should be positioned 50 pixels below the top of the screen. Conversely, a value of -50 indicates the bottom edge of the window should be 50 pixels above the bottom of the screen."
   ]
  },
  {
   "cell_type": "markdown",
   "id": "e3a5386d-8f8a-4f44-a178-d825f83e5e3d",
   "metadata": {},
   "source": [
    "To change the size and position of a window, you use the geometry() method:\n",
    "`window.geometry(new_geometry)`"
   ]
  },
  {
   "cell_type": "code",
   "execution_count": 8,
   "id": "4be15965-66bc-4934-9155-aa026e295f8e",
   "metadata": {},
   "outputs": [],
   "source": [
    "import tkinter as tk\n",
    "\n",
    "root = tk.Tk()\n",
    "root.title(\"Demo Window\")\n",
    "root.geometry('600x400+50+50')\n",
    "\n",
    "root.mainloop()"
   ]
  },
  {
   "cell_type": "code",
   "execution_count": 6,
   "id": "5d2697fa-ac33-4f1b-863a-6970c9b2b707",
   "metadata": {},
   "outputs": [],
   "source": [
    "import tkinter as tk\n",
    "from PIL import Image, ImageTk  # Import Pillow for image handling\n",
    "\n",
    "# Initialize the main application window\n",
    "root = tk.Tk()\n",
    "\n",
    "# Load the image\n",
    "image_path = \"Pasted image.png\"  # Change this to your actual image file\n",
    "image = Image.open(image_path)\n",
    "image = image.resize((300, 200))  # Resize if needed\n",
    "photo = ImageTk.PhotoImage(image)\n",
    "\n",
    "# Create a Label widget with an image\n",
    "image_label = tk.Label(root, image=photo)\n",
    "image_label.pack()\n",
    "\n",
    "# Create a text label\n",
    "message = tk.Label(root, fg=\"green\", text=\"Philadelphia Eagles are Champions\")\n",
    "message.pack()\n",
    "\n",
    "# Keep a reference to the image\n",
    "image_label.image = photo  \n",
    "\n",
    "# Start the Tkinter event loop\n",
    "root.mainloop()"
   ]
  },
  {
   "cell_type": "code",
   "execution_count": null,
   "id": "e72fc575-3563-480e-b557-c5dc960b349c",
   "metadata": {},
   "outputs": [],
   "source": []
  }
 ],
 "metadata": {
  "kernelspec": {
   "display_name": "Python 3 (ipykernel)",
   "language": "python",
   "name": "python3"
  },
  "language_info": {
   "codemirror_mode": {
    "name": "ipython",
    "version": 3
   },
   "file_extension": ".py",
   "mimetype": "text/x-python",
   "name": "python",
   "nbconvert_exporter": "python",
   "pygments_lexer": "ipython3",
   "version": "3.12.2"
  }
 },
 "nbformat": 4,
 "nbformat_minor": 5
}

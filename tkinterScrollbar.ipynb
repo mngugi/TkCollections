{
 "cells": [
  {
   "cell_type": "markdown",
   "id": "2c6b92b7-4eb2-4155-8200-de5aae80c7b7",
   "metadata": {},
   "source": [
    "**Introduction to the Tkinter scrollbar widget**\n",
    "    \n",
    "A scrollbar allows you to view all parts of another widget whose content is typically larger than the available space.\n",
    "\n",
    "Tkinter scrollbar widget is not a part of any other widgets such as Text and Listbox. Instead, a scrollbar is an independent widget.\n",
    "\n",
    "To use the scrollbar widget, you need to:\n",
    "\n",
    "- First, create a scrollbar widget.\n",
    "- Second, link the scrollbar with a scrollable widget.\n",
    "The following shows how to create a scrollbar widget using the ttk.Scrollbar constructor:\n",
    "\n",
    "```\n",
    "scrollbar = ttk.Scrollbar(\n",
    "    container,\n",
    "    orient='vertical',\n",
    "    command=widget.yview\n",
    ")\n",
    "```"
   ]
  },
  {
   "cell_type": "markdown",
   "id": "fbf7c6e5-196f-4f95-b36d-63487c3975a2",
   "metadata": {},
   "source": [
    "In this syntax:\n",
    "\n",
    "- The container is the window or frame on which the scrollbar locates.\n",
    "- The orient argument specifies whether the scrollbar needs to scroll horizontally or vertically.\n",
    "- The command argument allows the scrollbar widget to communicate with the scrollable widget.\n",
    "The scrollable widget also needs to communicate back to the scrollbar about the percentage of the entire content area that is currently visible.\n",
    "\n",
    "Every scrollable widget has a yscrollcommand and/or xscrollcommand options. And you can assign the scrollbar.set method to it:\n",
    "\n",
    "`widget['yscrollcommand'] = scrollbar.set`\n",
    "\n"
   ]
  },
  {
   "cell_type": "markdown",
   "id": "d257e8db-1565-4bc4-b3f5-f033ea850772",
   "metadata": {},
   "source": [
    "**Tkinter scrollbar widget example**\n",
    "\n",
    "The Text widgets are one of several types of scrollable widgets. The following program illustrates a simple user interface that consists of Text and Scrollbar widgets:"
   ]
  },
  {
   "cell_type": "code",
   "execution_count": null,
   "id": "21a094a6-270b-471b-9952-fd36a2210ae5",
   "metadata": {},
   "outputs": [],
   "source": []
  }
 ],
 "metadata": {
  "kernelspec": {
   "display_name": "Python 3 (ipykernel)",
   "language": "python",
   "name": "python3"
  },
  "language_info": {
   "codemirror_mode": {
    "name": "ipython",
    "version": 3
   },
   "file_extension": ".py",
   "mimetype": "text/x-python",
   "name": "python",
   "nbconvert_exporter": "python",
   "pygments_lexer": "ipython3",
   "version": "3.12.2"
  }
 },
 "nbformat": 4,
 "nbformat_minor": 5
}

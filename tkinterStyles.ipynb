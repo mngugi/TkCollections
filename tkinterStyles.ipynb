{
 "cells": [
  {
   "cell_type": "markdown",
   "id": "96906765-610c-4457-b9e9-4dfcaea592a4",
   "metadata": {},
   "source": [
    "**How to Change the Appearances of Widgets Dynamically Using Ttk Style map() Method**\n",
    "\n",
    "in this tutorial, you’ll learn how to use the ttk Style map() method to dynamically change the appearance of a widget based on its specific state.\n",
    "\n",
    "Typically, a ttk widget allows you to change its appearance based on a specific state.\n",
    "\n",
    "The following table shows a list of widget states and their meanings:\n",
    "# Tkinter Widget States\n",
    "\n",
    "| State      | Meaning |\n",
    "|------------|--------------------------------------------------------------------------------------------------------------------------------|\n",
    "| **active**      | The mouse is currently within the widget. |\n",
    "| **alternate**   | Ttk reserved this state for application use. |\n",
    "| **background**  | The widget is on a window that is not the foreground window. The foreground window is a window that is getting user inputs. This state is only relevant to Windows and macOS. |\n",
    "| **disabled**    | The widget won’t respond to any actions. |\n",
    "| **focus**       | The widget currently has focus. |\n",
    "| **invalid**     | The value of the widget is currently invalid. |\n",
    "| **pressed**     | The widget is currently being clicked or pressed (e.g., when a Button widget is pressed). |\n",
    "| **readonly**    | The readonly widget prevents you from changing its current value (e.g., a read-only Entry widget won’t allow you to change its text contents). |\n",
    "| **selected**    | The widget is selected (e.g., when radio buttons are checked). |\n",
    "\n",
    "To change the appearance of a widget dynamically, you can use the map() method of the Style object:\n",
    "\n",
    "`style.map(style_name, query)`\n",
    "\n",
    "The map() method accepts the first argument as the name of the style e.g., TButton and TLabel.\n",
    "\n",
    "The argument query is a list of keyword arguments where each key is a style option and values are lists of tuples of (state,value).\n",
    "\n",
    "For example, the following code dynamically changes the foreground color of a button widget:\n"
   ]
  },
  {
   "cell_type": "code",
   "execution_count": 1,
   "id": "e7f8a318-5dad-46fb-8fab-7f2b7d964899",
   "metadata": {},
   "outputs": [
    {
     "name": "stdout",
     "output_type": "stream",
     "text": [
      "[('Button.border', {'sticky': 'nswe', 'border': '1', 'children': [('Button.focus', {'sticky': 'nswe', 'children': [('Button.padding', {'sticky': 'nswe', 'children': [('Button.label', {'sticky': 'nswe'})]})]})]})]\n"
     ]
    }
   ],
   "source": [
    "import tkinter as tk\n",
    "from tkinter import ttk\n",
    "\n",
    "\n",
    "class App(tk.Tk):\n",
    "    def __init__(self):\n",
    "        super().__init__()\n",
    "\n",
    "        self.geometry('300x100')\n",
    "\n",
    "        button = ttk.Button(self, text='Save')\n",
    "        button.pack(expand=True)\n",
    "\n",
    "        style = ttk.Style(self)\n",
    "        style.configure('TButton', font=('Helvetica', 16))\n",
    "        style.map('TButton',\n",
    "                foreground=[('pressed', 'blue'),\n",
    "                            ('active', 'red')])\n",
    "\n",
    "        print(style.layout('TButton'))\n",
    "\n",
    "\n",
    "if __name__ == \"__main__\":\n",
    "    app = App()\n",
    "    app.mainloop()"
   ]
  },
  {
   "cell_type": "code",
   "execution_count": null,
   "id": "c1dc473a-e8fb-46d6-9b2a-e23bc4ec24a1",
   "metadata": {},
   "outputs": [],
   "source": []
  }
 ],
 "metadata": {
  "kernelspec": {
   "display_name": "Python 3 (ipykernel)",
   "language": "python",
   "name": "python3"
  },
  "language_info": {
   "codemirror_mode": {
    "name": "ipython",
    "version": 3
   },
   "file_extension": ".py",
   "mimetype": "text/x-python",
   "name": "python",
   "nbconvert_exporter": "python",
   "pygments_lexer": "ipython3",
   "version": "3.12.2"
  }
 },
 "nbformat": 4,
 "nbformat_minor": 5
}

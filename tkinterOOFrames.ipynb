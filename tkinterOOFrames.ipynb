{
 "cells": [
  {
   "cell_type": "markdown",
   "id": "5c19ac77-f3be-4ea9-b7f9-dfa91abf4d25",
   "metadata": {},
   "source": [
    "**Tkinter Object-Oriented Frames**\n",
    "\n",
    "Summary: in this tutorial, you’ll learn how to inherit from the ttk.Frame class and use it in the root window.\n",
    "\n",
    "In the previous tutorial, you’ve learned how to subclass the Tkinter.Tk class. However, a Tkinter application should have only one Tk instance.\n",
    "\n",
    "Therefore, it’s common to inherit from the ttk.Frame class and use the subclass in the root window.\n",
    "\n",
    "To inherit the ttk.Frame class, you use the following syntax:\n",
    "```\n",
    "class MainFrame(ttk.Frame):\n",
    "    pass\n",
    "```\n",
    "\n",
    "Since a Frame needs a container, you need to add an argument to its __init__() method and call the __init__() method of the ttk.Frame class like this:\n",
    "\n",
    "```\n",
    "class MainFrame(ttk.Frame):\n",
    "    def __init__(self, container):\n",
    "        super().__init__(container)\n",
    "```   "
   ]
  }
 ],
 "metadata": {
  "kernelspec": {
   "display_name": "Python 3 (ipykernel)",
   "language": "python",
   "name": "python3"
  },
  "language_info": {
   "codemirror_mode": {
    "name": "ipython",
    "version": 3
   },
   "file_extension": ".py",
   "mimetype": "text/x-python",
   "name": "python",
   "nbconvert_exporter": "python",
   "pygments_lexer": "ipython3",
   "version": "3.12.2"
  }
 },
 "nbformat": 4,
 "nbformat_minor": 5
}

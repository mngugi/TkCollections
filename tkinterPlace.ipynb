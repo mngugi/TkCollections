{
 "cells": [
  {
   "cell_type": "markdown",
   "id": "0239ea81-c39d-4202-a6cb-b9d3bb98e618",
   "metadata": {},
   "source": [
    "**Introduction to Tkinter Place Geometry Manager**\n",
    "    \n",
    "The Tkinter place geometry manager allows you to specify the exact placement of a widget using either absolution or relative positioning.\n",
    "\n",
    "The placer geometry management gives you fine control over the positioning of widgets by allowing you to:\n",
    "\n",
    "Specify coordinates (x, y).\n",
    "Use relative positioning based on anchor points.\n",
    "To use the place geometry manager, you call the place() method on the widget like this:\n",
    "\n",
    "`widget.place(**options)`\n",
    "\n",
    "**1) Absolute positioning**\n",
    "In absolute positioning, you specify the exact x and y coordinates of the widget using the x and y parameters:\n",
    "\n",
    "`widget.place(x=50, y=50)`"
   ]
  },
  {
   "cell_type": "code",
   "execution_count": 1,
   "id": "ab592a1b-f09a-48e6-a392-5e44816a21b5",
   "metadata": {},
   "outputs": [],
   "source": [
    "from PIL import Image\n",
    "\n",
    "# Load the image\n",
    "image = Image.open(\"absolutePosition.png\")\n",
    "\n",
    "# Show the image\n",
    "image.show()"
   ]
  },
  {
   "cell_type": "markdown",
   "id": "5c1bbd9b-d2c7-49b5-b6e1-21ed021110d2",
   "metadata": {},
   "source": [
    "**2) Relative positioning**\n",
    "In relative positioning, you place the widget using the relative coordinates using relx and rely parameters:"
   ]
  },
  {
   "cell_type": "code",
   "execution_count": null,
   "id": "78a15461-c7b8-479e-9857-c3a6f5887fdf",
   "metadata": {},
   "outputs": [],
   "source": [
    "from PIL import Image\n",
    "\n",
    "# Load the image\n",
    "image = Image.open(\"relativePositioning.png\")\n",
    "\n",
    "# Show the image\n",
    "image.show()"
   ]
  }
 ],
 "metadata": {
  "kernelspec": {
   "display_name": "Python 3 (ipykernel)",
   "language": "python",
   "name": "python3"
  },
  "language_info": {
   "codemirror_mode": {
    "name": "ipython",
    "version": 3
   },
   "file_extension": ".py",
   "mimetype": "text/x-python",
   "name": "python",
   "nbconvert_exporter": "python",
   "pygments_lexer": "ipython3",
   "version": "3.12.2"
  }
 },
 "nbformat": 4,
 "nbformat_minor": 5
}

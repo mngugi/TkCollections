{
 "cells": [
  {
   "cell_type": "markdown",
   "id": "96906765-610c-4457-b9e9-4dfcaea592a4",
   "metadata": {},
   "source": [
    "**How to Change the Appearances of Widgets Dynamically Using Ttk Style map() Method**\n",
    "\n",
    "in this tutorial, you’ll learn how to use the ttk Style map() method to dynamically change the appearance of a widget based on its specific state.\n",
    "\n",
    "Typically, a ttk widget allows you to change its appearance based on a specific state.\n",
    "\n",
    "The following table shows a list of widget states and their meanings:\n",
    "# Tkinter Widget States\n",
    "\n",
    "| State      | Meaning |\n",
    "|------------|--------------------------------------------------------------------------------------------------------------------------------|\n",
    "| **active**      | The mouse is currently within the widget. |\n",
    "| **alternate**   | Ttk reserved this state for application use. |\n",
    "| **background**  | The widget is on a window that is not the foreground window. The foreground window is a window that is getting user inputs. This state is only relevant to Windows and macOS. |\n",
    "| **disabled**    | The widget won’t respond to any actions. |\n",
    "| **focus**       | The widget currently has focus. |\n",
    "| **invalid**     | The value of the widget is currently invalid. |\n",
    "| **pressed**     | The widget is currently being clicked or pressed (e.g., when a Button widget is pressed). |\n",
    "| **readonly**    | The readonly widget prevents you from changing its current value (e.g., a read-only Entry widget won’t allow you to change its text contents). |\n",
    "| **selected**    | The widget is selected (e.g., when radio buttons are checked). |\n"
   ]
  }
 ],
 "metadata": {
  "kernelspec": {
   "display_name": "Python 3 (ipykernel)",
   "language": "python",
   "name": "python3"
  },
  "language_info": {
   "codemirror_mode": {
    "name": "ipython",
    "version": 3
   },
   "file_extension": ".py",
   "mimetype": "text/x-python",
   "name": "python",
   "nbconvert_exporter": "python",
   "pygments_lexer": "ipython3",
   "version": "3.12.2"
  }
 },
 "nbformat": 4,
 "nbformat_minor": 5
}

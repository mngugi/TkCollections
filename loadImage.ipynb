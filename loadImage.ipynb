{
 "cells": [
  {
   "cell_type": "code",
   "execution_count": 2,
   "id": "659f59f5-a9bd-4147-afec-c8ebf69d0991",
   "metadata": {},
   "outputs": [],
   "source": [
    "import tkinter as tk\n",
    "from PIL import Image, ImageTk  # Import Pillow for image handling\n",
    "\n",
    "# Initialize the main application window\n",
    "root = tk.Tk()\n",
    "\n",
    "# Load the image\n",
    "image_path = \"Pasted image.png\"  # Change this to your actual image file\n",
    "image = Image.open(image_path)\n",
    "image = image.resize((300, 200))  # Resize if needed\n",
    "photo = ImageTk.PhotoImage(image)\n",
    "\n",
    "# Create a Label widget with an image\n",
    "image_label = tk.Label(root, image=photo)\n",
    "image_label.pack()\n",
    "\n",
    "# Create a text label\n",
    "message = tk.Label(root, fg=\"green\", text=\"Philadelphia Eagles are Champions\")\n",
    "message.pack()\n",
    "\n",
    "# Keep a reference to the image\n",
    "image_label.image = photo  \n",
    "\n",
    "# Start the Tkinter event loop\n",
    "root.mainloop()\n"
   ]
  },
  {
   "cell_type": "code",
   "execution_count": null,
   "id": "33c0675d-9ec3-42d3-947c-31025c2b55ac",
   "metadata": {},
   "outputs": [],
   "source": []
  }
 ],
 "metadata": {
  "kernelspec": {
   "display_name": "Python 3 (ipykernel)",
   "language": "python",
   "name": "python3"
  },
  "language_info": {
   "codemirror_mode": {
    "name": "ipython",
    "version": 3
   },
   "file_extension": ".py",
   "mimetype": "text/x-python",
   "name": "python",
   "nbconvert_exporter": "python",
   "pygments_lexer": "ipython3",
   "version": "3.12.2"
  }
 },
 "nbformat": 4,
 "nbformat_minor": 5
}

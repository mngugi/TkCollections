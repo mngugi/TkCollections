{
 "cells": [
  {
   "cell_type": "markdown",
   "id": "e3577039-9a8b-424c-aa55-44155f387832",
   "metadata": {},
   "source": [
    "### Introduction to Tkinter command binding\n",
    "To make the application more interactive, the widgets need to respond to the events such as:\n",
    "\n",
    "- Mouse clicks\n",
    "- Key presses\n",
    "This requires assigning a callback function to a specific event. When the event occurs, the callback will be invoked automatically to handle the event.\n",
    "\n",
    "In Tkinter, some widgets allow you to associate a callback function with an event using the command binding.\n",
    "\n",
    "It means that you can assign the name of a function to the command option of the widget so that when the event occurs on the widget, the function will be called automatically.\n",
    "\n",
    "To use the command binding, you follow these steps:\n",
    "\n",
    "- First, define a function as a callback.\n",
    "- Then, assign the name of the function to the command option of the widget.\n"
   ]
  },
  {
   "cell_type": "code",
   "execution_count": null,
   "id": "00fe722b-4205-4f1a-af27-b3de93508e65",
   "metadata": {},
   "outputs": [],
   "source": []
  }
 ],
 "metadata": {
  "kernelspec": {
   "display_name": "Python 3 (ipykernel)",
   "language": "python",
   "name": "python3"
  },
  "language_info": {
   "codemirror_mode": {
    "name": "ipython",
    "version": 3
   },
   "file_extension": ".py",
   "mimetype": "text/x-python",
   "name": "python",
   "nbconvert_exporter": "python",
   "pygments_lexer": "ipython3",
   "version": "3.12.2"
  }
 },
 "nbformat": 4,
 "nbformat_minor": 5
}

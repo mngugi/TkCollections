{
 "cells": [
  {
   "cell_type": "markdown",
   "id": "c2d17612-5210-4d2a-bfce-86da7e76c37b",
   "metadata": {},
   "source": [
    "### Tkinter Grid\n",
    "\n",
    "how to use the Tkinter grid geometry manager to position widgets on a window."
   ]
  },
  {
   "cell_type": "code",
   "execution_count": null,
   "id": "8812fc7f-6f8e-417c-9aea-41bdcc4986e3",
   "metadata": {},
   "outputs": [],
   "source": []
  }
 ],
 "metadata": {
  "kernelspec": {
   "display_name": "Python 3 (ipykernel)",
   "language": "python",
   "name": "python3"
  },
  "language_info": {
   "codemirror_mode": {
    "name": "ipython",
    "version": 3
   },
   "file_extension": ".py",
   "mimetype": "text/x-python",
   "name": "python",
   "nbconvert_exporter": "python",
   "pygments_lexer": "ipython3",
   "version": "3.12.2"
  }
 },
 "nbformat": 4,
 "nbformat_minor": 5
}

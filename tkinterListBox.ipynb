{
 "cells": [
  {
   "cell_type": "markdown",
   "id": "3e7ee1f0-dc87-4199-bb47-4d1a6c9cde78",
   "metadata": {},
   "source": [
    "**Introduction to the Tkinter Listbox**\n",
    "\n",
    "A Listbox widget displays a list of single-line text items. A Listbox allows you to browse through the items and select one or multiple items at once.\n",
    "\n",
    "To create a Listbox, you use the tk.Listbox class like this:\n",
    "\n",
    "`listbox = tk.Listbox(container, listvariable, height)`\n",
    "\n",
    "In this syntax:\n",
    "\n",
    "- The container is the parent component of the Listbox.\n",
    "- The listvariable links to a tkinter.Variable object. More explanation on this later.\n",
    "- The height is the number of items that the Listbox will display without scrolling.\n",
    "\n",
    "**List items**\n",
    "\n",
    "To populate items to a Listbox, you first create a Variable object that is initialized with a list of items. And then you assign this Variable object to the listvariable option as follows:\n",
    "\n",
    "```\n",
    "list_items = tk.Variable(value=items)\n",
    "listbox = tk.Listbox(\n",
    "    container,\n",
    "    height,\n",
    "    listvariable=list_items\n",
    ")\n",
    "```\n",
    "\n",
    "To add, remove, or rearrange items in the Listbox, you just need to modify the list_items variable.\n",
    "\n",
    "**Select mode**\n",
    "\n",
    "The selectmode option determines how many you can select and how the mouse drags will affect the items:\n",
    "\n",
    "- tk.BROWSE – allows a single selection. If you select an item and drag it to a different line, the selection will follow the mouse. This is the default.\n",
    "- tk.EXTENDED – select any adjacent group of items at once by clicking the first item and dragging to the last line.\n",
    "- tk.SINGLE – allow you to select one line and you cannot drag the mouse.\n",
    "- tk.MULTIPLE – select any number of lines at once. Clicking on any line toggles whether it is selected or not.\n",
    "  \n",
    "**Binding the selected event**\n",
    "\n",
    "To execute a function when the selected items change, you bind that function to the <<ListboxSelect>> event:\n",
    "\n",
    "`listbox.bind('<<ListboxSelect>>', callback)`\n",
    "\n",
    "**Tkinter Listbox widget example**\n",
    "\n",
    "The following program displays a Listbox that contains a list of programming languages. When you select one or more items, the program displays the selected ones in a message box:\n",
    "\n"
   ]
  },
  {
   "cell_type": "code",
   "execution_count": null,
   "id": "7c3d4d97-6a4e-43e7-a8f3-5237f46454bf",
   "metadata": {},
   "outputs": [],
   "source": [
    "import tkinter as tk\n",
    "from tkinter import ttk\n",
    "from tkinter.messagebox import showinfo\n",
    "\n",
    "root = tk.Tk()\n",
    "root.title('Listbox demo')\n",
    "\n",
    "programming_languages= ('Java', 'C#', 'C', 'C++', 'Python',\n",
    "         'Go', 'JavaScript', 'PHP', 'Swift')"
   ]
  }
 ],
 "metadata": {
  "kernelspec": {
   "display_name": "Python 3 (ipykernel)",
   "language": "python",
   "name": "python3"
  },
  "language_info": {
   "codemirror_mode": {
    "name": "ipython",
    "version": 3
   },
   "file_extension": ".py",
   "mimetype": "text/x-python",
   "name": "python",
   "nbconvert_exporter": "python",
   "pygments_lexer": "ipython3",
   "version": "3.12.2"
  }
 },
 "nbformat": 4,
 "nbformat_minor": 5
}

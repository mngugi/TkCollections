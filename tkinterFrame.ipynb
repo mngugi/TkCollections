{
 "cells": [
  {
   "cell_type": "markdown",
   "id": "2575a7d5-c1bd-4977-b54a-673350e6416b",
   "metadata": {},
   "source": [
    "**Introduction to Tkinter Frame widget**\n",
    "\n",
    "A frame is a widget that displays as a simple rectangle. Typically, you use a frame to organize other widgets both visually and at the coding level.\n",
    "\n",
    "To create a frame, you use the ttk.Frame class:\n",
    "`frame = ttk.Frame(master, **options)`\n",
    "\n",
    "A frame has various configuration objects which determine its appearance.\n",
    "\n",
    "| Parameter   | Description |\n",
    "|------------|-------------|\n",
    "| **borderwidth** | Specify the border width of the frame. It defaults to zero. |\n",
    "| **class_** | Set widget class name. |\n",
    "| **cursor** | Change the cursor appearance when the mouse cursor is over the frame. |\n",
    "| **height** | Set the height of the frame. |\n",
    "| **padding** | Create padding inside the frame and outside of the contained widgets. |\n",
    "| **relief** | Specify the relief style for the border. To make it effective, you also need to set the `borderwidth`. |\n",
    "| **style** | Specify a custom widget style name. |\n",
    "| **takefocus** | A boolean value that specifies whether the frame is visited during focus traversal. By default, it is `False`, so the frame widget does not accept focus. |\n",
    "| **width** | Set the width of the frame. |\n"
   ]
  },
  {
   "cell_type": "code",
   "execution_count": null,
   "id": "5dc1e100-2f5a-468f-8583-3d5939c35f8e",
   "metadata": {},
   "outputs": [],
   "source": []
  }
 ],
 "metadata": {
  "kernelspec": {
   "display_name": "Python 3 (ipykernel)",
   "language": "python",
   "name": "python3"
  },
  "language_info": {
   "codemirror_mode": {
    "name": "ipython",
    "version": 3
   },
   "file_extension": ".py",
   "mimetype": "text/x-python",
   "name": "python",
   "nbconvert_exporter": "python",
   "pygments_lexer": "ipython3",
   "version": "3.12.2"
  }
 },
 "nbformat": 4,
 "nbformat_minor": 5
}

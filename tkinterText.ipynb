{
 "cells": [
  {
   "cell_type": "markdown",
   "id": "bbd0266d-b9cd-4614-b73c-ec95a29f6834",
   "metadata": {},
   "source": [
    "**Introduction to the Tkinter Text widget**\n",
    "\n",
    "The Text widget allows you to display and edit multi-line textarea with various styles. Besides the plain text, the Text widget supports embedded images and links.\n",
    "\n",
    "To create a text widget, you use the following syntax:\n",
    "\n",
    "`text = tk.Text(master, conf={}, **kw)`\n",
    "\n",
    "In this syntax:\n",
    "\n",
    "- The master is the parent component of the Text widget.\n",
    "- The cnf is a dictionary that specifies the widget’s configuration.\n",
    "- The kw is one or more keyword arguments used to configure the Text widget.\n",
    "\n",
    "Note that the Text widget is only available in the Tkinter module, not the `Tkinter.ttk` module.\n",
    "\n",
    "The following example creates a Text widget with eight rows and places it on the root window:"
   ]
  },
  {
   "cell_type": "code",
   "execution_count": 1,
   "id": "f544b916-b0fe-4027-92e8-0ef990207a1b",
   "metadata": {},
   "outputs": [],
   "source": [
    "from tkinter import Tk, Text\n",
    "\n",
    "root = Tk()\n",
    "\n",
    "root.resizable(False,False)\n",
    "root.title(\"Text Widget Example\")\n",
    "\n",
    "text = Text(root, height=8)\n",
    "text.pack()\n",
    "\n",
    "root.mainloop()\n"
   ]
  },
  {
   "cell_type": "markdown",
   "id": "43fed17d-d44d-48f8-a371-3ac8a77e89b5",
   "metadata": {},
   "source": [
    "In this example, the height argument specifies the number of rows of the Text widget.\n",
    "\n",
    "**Inserting initial content**\n",
    "\n",
    "To insert contents into the text area, you use the insert() method. For example:"
   ]
  },
  {
   "cell_type": "code",
   "execution_count": 2,
   "id": "6a61a3c1-acdb-474d-b24a-4e317048e3db",
   "metadata": {},
   "outputs": [],
   "source": [
    "from tkinter import Tk, Text\n",
    "\n",
    "root = Tk()\n",
    "\n",
    "root.resizable(False,False)\n",
    "root.title(\"Text Widget Example\")\n",
    "\n",
    "text = Text(root, height=8)\n",
    "text.pack()\n",
    "\n",
    "text.insert('1.0', 'Text widget')\n",
    "\n",
    "root.mainloop()\n"
   ]
  },
  {
   "cell_type": "markdown",
   "id": "cc1d59bf-17a7-4247-a9c1-3fc21925339a",
   "metadata": {},
   "source": [
    "The position has the following format:\n",
    "\n",
    "'line.column'\n",
    "\n",
    "In the above example, '1.0' means line 1, character 0, which is the first character of the first line on the text area.\n",
    "\n",
    "**Retrieving the text value**\n",
    "\n",
    "To retrieve the contents of a Text widget, you use its get() method. For example:\n",
    "\n",
    "`text_content = text.get('1.0','end')`\n",
    "\n",
    "\n",
    "The `get()` method accepts two arguments. The first argument is the start position, and the second is the end position.\n",
    "\n",
    "To retrieve only part of the text, you can specify different start and end positions.\n",
    "\n",
    "**Disabling the Text widget**\n",
    "\n",
    "To prevent users from changing the contents of a Text widget, you can disable it by setting the state option to 'disabled' like this:\n",
    "\n",
    "`text['state'] = 'disabled'`\n",
    "\n",
    "To re-enable editing, you can change the state option back to normal:\n",
    "\n",
    "`text['state'] = 'normal'`"
   ]
  },
  {
   "cell_type": "code",
   "execution_count": null,
   "id": "39ae0d2c-c9b7-440f-80e4-0c124263e3fe",
   "metadata": {},
   "outputs": [],
   "source": []
  }
 ],
 "metadata": {
  "kernelspec": {
   "display_name": "Python 3 (ipykernel)",
   "language": "python",
   "name": "python3"
  },
  "language_info": {
   "codemirror_mode": {
    "name": "ipython",
    "version": 3
   },
   "file_extension": ".py",
   "mimetype": "text/x-python",
   "name": "python",
   "nbconvert_exporter": "python",
   "pygments_lexer": "ipython3",
   "version": "3.12.2"
  }
 },
 "nbformat": 4,
 "nbformat_minor": 5
}

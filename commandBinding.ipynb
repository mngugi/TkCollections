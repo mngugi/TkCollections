{
 "cells": [
  {
   "cell_type": "markdown",
   "id": "e3577039-9a8b-424c-aa55-44155f387832",
   "metadata": {},
   "source": [
    "### Introduction to Tkinter command binding\n",
    "To make the application more interactive, the widgets need to respond to the events such as:\n",
    "\n",
    "- Mouse clicks\n",
    "- Key presses\n",
    "This requires assigning a callback function to a specific event. When the event occurs, the callback will be invoked automatically to handle the event.\n",
    "\n",
    "In Tkinter, some widgets allow you to associate a callback function with an event using the command binding.\n",
    "\n",
    "It means that you can assign the name of a function to the command option of the widget so that when the event occurs on the widget, the function will be called automatically.\n",
    "\n",
    "To use the command binding, you follow these steps:\n",
    "\n",
    "- First, define a function as a callback.\n",
    "- Then, assign the name of the function to the command option of the widget.\n"
   ]
  },
  {
   "cell_type": "code",
   "execution_count": 1,
   "id": "00fe722b-4205-4f1a-af27-b3de93508e65",
   "metadata": {},
   "outputs": [],
   "source": [
    "def button_clicked():\n",
    "    print('Button clicked')"
   ]
  },
  {
   "cell_type": "markdown",
   "id": "f0987838-e13f-4d94-8582-efa233eb296c",
   "metadata": {},
   "source": [
    "Associate the function with the command option of a button widget:\n",
    "`ttk.Button(root, text='Click Me',command=button_clicked)`\n",
    "\n",
    "Note that you pass the callback without parentheses () within the command option. Otherwise, the callback would be called as soon as the program runs.\n",
    "\n",
    "The following program illustrates how to associate the button_clicked callback function with the Button widget:"
   ]
  },
  {
   "cell_type": "code",
   "execution_count": 3,
   "id": "ec6f6049-a74d-4717-937b-5295150ad1e6",
   "metadata": {},
   "outputs": [
    {
     "name": "stdout",
     "output_type": "stream",
     "text": [
      "Button clicked\n"
     ]
    }
   ],
   "source": [
    "import tkinter as tk\n",
    "from tkinter import ttk\n",
    "\n",
    "root = tk.Tk()\n",
    "root.geometry('600x400+50+50')\n",
    "\n",
    "def button_clicked():\n",
    "    print('Button clicked')\n",
    "\n",
    "button = ttk.Button(root, text='Action', command=button_clicked)\n",
    "button.pack()\n",
    "\n",
    "root.mainloop()\n"
   ]
  },
  {
   "cell_type": "markdown",
   "id": "968ba6fd-7d10-4e6f-9d13-44309979b674",
   "metadata": {},
   "source": [
    "The following program illustrates how to pass an argument to the callback function associated with the button command:"
   ]
  },
  {
   "cell_type": "code",
   "execution_count": 7,
   "id": "5a762432-d23a-4b0f-8f97-ab70b608c203",
   "metadata": {},
   "outputs": [
    {
     "name": "stdout",
     "output_type": "stream",
     "text": [
      "Rock\n",
      "Paper\n",
      "Scissors\n"
     ]
    }
   ],
   "source": [
    "import tkinter as tk\n",
    "from tkinter import ttk\n",
    "\n",
    "root = tk.Tk()\n",
    "root.geometry('600x400+50+50')\n",
    "\n",
    "def select(option):\n",
    "    print(option)\n",
    "\n",
    "tk.Button(root, fg='red', text='Rock', command=lambda: select('Rock')).pack()\n",
    "tk.Button(root, fg='orange', text='Paper',command=lambda: select('Paper')).pack()\n",
    "tk.Button(root, fg='green', text='Scissors', command=lambda: select('Scissors')).pack()\n",
    "\n",
    "root.mainloop()"
   ]
  },
  {
   "cell_type": "markdown",
   "id": "0d9ae10a-5f09-45b0-a4e7-a51a381958ef",
   "metadata": {},
   "source": [
    "### Limitations of command binding\n",
    "First, the command option isn’t available in all widgets; It is limited to the Button and some other widgets.\n",
    "\n",
    "Second, the command button binds to the left click and the backspace but doesn’t bind to the Return key.\n",
    "\n",
    "To check this you can move focus to a button in the program above and press the backspace and return keys.\n",
    "\n",
    "Unfortunately, this is not user-friendly, and you cannot change the binding of the command function easily.\n",
    "\n",
    "To overcome these limitations, Tkinter provides an alternative way of associating a function with an event called event binding."
   ]
  },
  {
   "cell_type": "code",
   "execution_count": null,
   "id": "070344c0-3dfc-4efc-97c5-a059505084b8",
   "metadata": {},
   "outputs": [],
   "source": []
  }
 ],
 "metadata": {
  "kernelspec": {
   "display_name": "Python 3 (ipykernel)",
   "language": "python",
   "name": "python3"
  },
  "language_info": {
   "codemirror_mode": {
    "name": "ipython",
    "version": 3
   },
   "file_extension": ".py",
   "mimetype": "text/x-python",
   "name": "python",
   "nbconvert_exporter": "python",
   "pygments_lexer": "ipython3",
   "version": "3.12.2"
  }
 },
 "nbformat": 4,
 "nbformat_minor": 5
}

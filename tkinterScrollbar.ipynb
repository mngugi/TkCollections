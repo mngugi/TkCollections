{
 "cells": [
  {
   "cell_type": "code",
   "execution_count": null,
   "id": "4ff5577f-0e04-4184-9db6-4260984ff9ef",
   "metadata": {},
   "outputs": [],
   "source": [
    "**Introduction to the Tkinter scrollbar widget**\n",
    "    \n",
    "A scrollbar allows you to view all parts of another widget whose content is typically larger than the available space.\n",
    "\n",
    "Tkinter scrollbar widget is not a part of any other widgets such as Text and Listbox. Instead, a scrollbar is an independent widget.\n",
    "\n",
    "To use the scrollbar widget, you need to:\n",
    "\n",
    "- First, create a scrollbar widget.\n",
    "- Second, link the scrollbar with a scrollable widget.\n",
    "The following shows how to create a scrollbar widget using the ttk.Scrollbar constructor:"
   ]
  }
 ],
 "metadata": {
  "kernelspec": {
   "display_name": "Python 3 (ipykernel)",
   "language": "python",
   "name": "python3"
  },
  "language_info": {
   "codemirror_mode": {
    "name": "ipython",
    "version": 3
   },
   "file_extension": ".py",
   "mimetype": "text/x-python",
   "name": "python",
   "nbconvert_exporter": "python",
   "pygments_lexer": "ipython3",
   "version": "3.12.2"
  }
 },
 "nbformat": 4,
 "nbformat_minor": 5
}

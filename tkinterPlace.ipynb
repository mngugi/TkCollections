{
 "cells": [
  {
   "cell_type": "markdown",
   "id": "0239ea81-c39d-4202-a6cb-b9d3bb98e618",
   "metadata": {},
   "source": [
    "**Introduction to Tkinter Place Geometry Manager**\n",
    "    \n",
    "The Tkinter place geometry manager allows you to specify the exact placement of a widget using either absolution or relative positioning.\n",
    "\n",
    "The placer geometry management gives you fine control over the positioning of widgets by allowing you to:\n",
    "\n",
    "Specify coordinates (x, y).\n",
    "Use relative positioning based on anchor points.\n",
    "To use the place geometry manager, you call the place() method on the widget like this:\n",
    "\n",
    "`widget.place(**options)`"
   ]
  }
 ],
 "metadata": {
  "kernelspec": {
   "display_name": "Python 3 (ipykernel)",
   "language": "python",
   "name": "python3"
  },
  "language_info": {
   "codemirror_mode": {
    "name": "ipython",
    "version": 3
   },
   "file_extension": ".py",
   "mimetype": "text/x-python",
   "name": "python",
   "nbconvert_exporter": "python",
   "pygments_lexer": "ipython3",
   "version": "3.12.2"
  }
 },
 "nbformat": 4,
 "nbformat_minor": 5
}

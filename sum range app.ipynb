{
 "cells": [
  {
   "cell_type": "code",
   "execution_count": null,
   "id": "5d372849-c2b3-409e-8ee0-566fd6711458",
   "metadata": {},
   "outputs": [],
   "source": [
    "import tkinter as tk \n",
    "from tkinter import messagebox\n",
    "\n",
    "def sum_range(start=0, end=0, total=0):\n",
    "    try:\n",
    "        start = int(entry_start.get())\n",
    "        end = int(entry_end.get())\n",
    "\n",
    "    except ValueError:\n",
    "        messagebox.showerror(\"input Error\", \"Please enter valid integers.\")\n",
    "        return\n",
    "    if start > end:\n",
    "        messagebox.showerror(\"range Error\",\"Start should be less than or equal to End\")\n",
    "        return\n",
    "\n",
    "    btn.config(state=\"disable\")\n",
    "    animate_sum(start, end, start, 0)\n",
    "\n",
    "\n",
    "\n",
    "\n"
   ]
  }
 ],
 "metadata": {
  "kernelspec": {
   "display_name": "Python 3 (ipykernel)",
   "language": "python",
   "name": "python3"
  },
  "language_info": {
   "codemirror_mode": {
    "name": "ipython",
    "version": 3
   },
   "file_extension": ".py",
   "mimetype": "text/x-python",
   "name": "python",
   "nbconvert_exporter": "python",
   "pygments_lexer": "ipython3",
   "version": "3.12.2"
  }
 },
 "nbformat": 4,
 "nbformat_minor": 5
}

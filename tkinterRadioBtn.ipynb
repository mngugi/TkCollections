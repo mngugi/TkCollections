{
 "cells": [
  {
   "cell_type": "markdown",
   "id": "cf923ae9-91cd-4fb1-bc52-9d0877e64602",
   "metadata": {},
   "source": [
    "**Introduction to Tkinter radio buttons**\n",
    "\n",
    "Radio buttons allow you to select between one of a number of mutually exclusive choices.\n",
    "\n",
    "Typically, you use radio buttons together in a set. They’re a good option if you have a few choices that you want users to select."
   ]
  }
 ],
 "metadata": {
  "kernelspec": {
   "display_name": "Python 3 (ipykernel)",
   "language": "python",
   "name": "python3"
  },
  "language_info": {
   "codemirror_mode": {
    "name": "ipython",
    "version": 3
   },
   "file_extension": ".py",
   "mimetype": "text/x-python",
   "name": "python",
   "nbconvert_exporter": "python",
   "pygments_lexer": "ipython3",
   "version": "3.12.2"
  }
 },
 "nbformat": 4,
 "nbformat_minor": 5
}

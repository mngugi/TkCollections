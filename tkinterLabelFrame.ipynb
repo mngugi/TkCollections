{
 "cells": [
  {
   "cell_type": "markdown",
   "id": "01b4a364-6790-4052-bdaa-31eef4c58fdf",
   "metadata": {},
   "source": [
    "**Introduction to the Tkinter LabelFrame**\n",
    "\n",
    "Tkinter LabelFrame widget is a container that contains other related widgets. For example, you can group Radiobutton widgets and place the group on a LabelFrame.\n",
    "\n",
    "To create a LabelFrame widget, you use the ttk.LabelFrame:\n",
    "\n",
    "`lf = ttk.LabelFrame(container, **option)`\n",
    "\n",
    "In this syntax, you specify the parent component (container) of the LabelFrame and one or more options. A notable option is text which specifies a label for the LabelFrame.\n",
    "\n",
    "**Tkinter LabelFrame widget example**\n",
    "\n",
    "The following program illustrates how to create a LabelFrame widget that groups three radio buttons:"
   ]
  },
  {
   "cell_type": "code",
   "execution_count": null,
   "id": "1511cb00-0283-43da-93aa-e446efe1960e",
   "metadata": {},
   "outputs": [],
   "source": [
    "import tkinter as tk\n",
    "from tkinter import ttk\n",
    "\n",
    "# root window\n",
    "root = tk.Tk()\n",
    "\n",
    "# configure the root window\n",
    "root.geometry('300x200')\n",
    "root.resizable(True, True)\n",
    "root.title('LabelFrame Demo')\n",
    "\n"
   ]
  }
 ],
 "metadata": {
  "kernelspec": {
   "display_name": "Python 3 (ipykernel)",
   "language": "python",
   "name": "python3"
  },
  "language_info": {
   "codemirror_mode": {
    "name": "ipython",
    "version": 3
   },
   "file_extension": ".py",
   "mimetype": "text/x-python",
   "name": "python",
   "nbconvert_exporter": "python",
   "pygments_lexer": "ipython3",
   "version": "3.12.2"
  }
 },
 "nbformat": 4,
 "nbformat_minor": 5
}

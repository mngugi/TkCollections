{
 "cells": [
  {
   "cell_type": "markdown",
   "id": "c2d17612-5210-4d2a-bfce-86da7e76c37b",
   "metadata": {},
   "source": [
    "### Tkinter Grid\n",
    "\n",
    "how to use the Tkinter grid geometry manager to position widgets on a window.\n",
    "\n",
    "**Introduction to the Tkinter grid geometry manager**\n",
    "\n",
    "The grid geometry manager uses the concepts of rows and columns to arrange the widgets.\n",
    "\n",
    "The following shows a grid that consists of four rows and three columns:"
   ]
  },
  {
   "cell_type": "code",
   "execution_count": 2,
   "id": "8812fc7f-6f8e-417c-9aea-41bdcc4986e3",
   "metadata": {},
   "outputs": [],
   "source": [
    "from PIL import Image\n",
    "\n",
    "# Load the image\n",
    "image = Image.open(\"GridImage.png\")\n",
    "\n",
    "# Show the image\n",
    "image.show()"
   ]
  },
  {
   "cell_type": "code",
   "execution_count": null,
   "id": "81e40da5-8a68-40f0-9041-0ad25703a52b",
   "metadata": {},
   "outputs": [],
   "source": []
  }
 ],
 "metadata": {
  "kernelspec": {
   "display_name": "Python 3 (ipykernel)",
   "language": "python",
   "name": "python3"
  },
  "language_info": {
   "codemirror_mode": {
    "name": "ipython",
    "version": 3
   },
   "file_extension": ".py",
   "mimetype": "text/x-python",
   "name": "python",
   "nbconvert_exporter": "python",
   "pygments_lexer": "ipython3",
   "version": "3.12.2"
  }
 },
 "nbformat": 4,
 "nbformat_minor": 5
}

{
 "cells": [
  {
   "cell_type": "markdown",
   "id": "a4ef3225-9d3c-48cf-927e-3000d19bfef9",
   "metadata": {},
   "source": [
    "**Introduction to Tkinter ttk themes**\n",
    "\n",
    "In Tkinter, a theme determines the “look & feel” of all the widgets. It’s a collection of styles for all the ttk widgets.\n",
    "\n",
    "A style specifies the appearance of a widget class e.g., a Button. Each theme comes with a set of styles. It’s possible to change the appearance of widgets by:\n",
    "\n",
    "Modifying the built-in styles\n",
    "or creatting new styles\n",
    "Tkinter allows you to change the current theme to another. When you change the current theme to a new one, Tkinter will apply the styles of that theme to all the ttk widgets.\n",
    "\n",
    "To get the available themes, you use the theme_names() method of the ttk.Style instance.\n",
    "\n",
    "First, create a new instance of the ttk.Style class:\n",
    "\n",
    "`style = ttk.Style(root)`\n",
    "\n",
    "Second, get the available themes by calling the theme_names() method:\n",
    "\n",
    "`style.theme_names()`\n",
    "\n",
    "To get the current theme, you use the theme_use() method:\n",
    "\n",
    "`current_theme = style.theme_use()`\n",
    "\n",
    "Note that every operating system (OS) such as Windows, macOS, and Linux comes with its own predefined themes. If you use the theme_names() and theme_use() methods on different OS, you’ll get different results.\n",
    "\n",
    "To change the current theme to a new one, you pass the new theme name to the theme_use() method:\n",
    "\n",
    "`style.theme_use(theme_name)`\n",
    "\n",
    "The following program shows all themes in your system and allows you to change one theme to another:"
   ]
  }
 ],
 "metadata": {
  "kernelspec": {
   "display_name": "Python 3 (ipykernel)",
   "language": "python",
   "name": "python3"
  },
  "language_info": {
   "codemirror_mode": {
    "name": "ipython",
    "version": 3
   },
   "file_extension": ".py",
   "mimetype": "text/x-python",
   "name": "python",
   "nbconvert_exporter": "python",
   "pygments_lexer": "ipython3",
   "version": "3.12.2"
  }
 },
 "nbformat": 4,
 "nbformat_minor": 5
}

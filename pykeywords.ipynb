{
 "cells": [
  {
   "cell_type": "code",
   "execution_count": 3,
   "id": "d53f4df6-61b9-4cac-878b-1f221de2114e",
   "metadata": {},
   "outputs": [],
   "source": [
    "import tkinter as tk\n",
    "from tkinter import ttk\n",
    "\n",
    "root = tk.Tk()\n",
    "root.geometry('600x400+50+50')\n",
    "\n",
    "\n",
    "import keyword \n",
    "def keywords():\n",
    "    j = keyword.kwlist\n",
    "    label.config(text=\"\\n\".join(j))\n",
    "    # return j    \n",
    " # Call the function    \n",
    "label = tk.Label(root, text=\"\", font=(\"Arial\", 12))\n",
    "label.pack(pady=10)\n",
    "\n",
    "button= tk.Button(root, text='Python KeyWords', command=keywords)\n",
    "button.pack(pady=10)\n",
    "root.mainloop()\n"
   ]
  },
  {
   "cell_type": "code",
   "execution_count": null,
   "id": "6ba4c006-c796-441d-b1d1-7138b70fb40a",
   "metadata": {},
   "outputs": [],
   "source": []
  }
 ],
 "metadata": {
  "kernelspec": {
   "display_name": "Python 3 (ipykernel)",
   "language": "python",
   "name": "python3"
  },
  "language_info": {
   "codemirror_mode": {
    "name": "ipython",
    "version": 3
   },
   "file_extension": ".py",
   "mimetype": "text/x-python",
   "name": "python",
   "nbconvert_exporter": "python",
   "pygments_lexer": "ipython3",
   "version": "3.12.2"
  }
 },
 "nbformat": 4,
 "nbformat_minor": 5
}

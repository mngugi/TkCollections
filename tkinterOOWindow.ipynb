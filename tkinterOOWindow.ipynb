{
 "cells": [
  {
   "cell_type": "markdown",
   "id": "6f47cfe9-a0eb-4d7a-939b-621b8eb4c904",
   "metadata": {},
   "source": [
    "**Defining a Tkinter object-oriented window**\n",
    "\n",
    "The following simple program creates a root window and displays it on the screen:\n",
    "```\n",
    "import tkinter as tk\n",
    "root = tk.Tk()\n",
    "root.mainloop()\n",
    "```\n",
    "When the program is getting more complex, you can use an object-oriented programming approach to make the code more organized.\n",
    "\n",
    "The following program achieves the same result as the program above, but use a class instead:"
   ]
  },
  {
   "cell_type": "code",
   "execution_count": 1,
   "id": "76acf39c-7c10-407e-a89f-e5a61961ec52",
   "metadata": {},
   "outputs": [],
   "source": [
    "import tkinter as tk\n",
    "\n",
    "class App(tk.Tk):\n",
    "    def __init__(self):\n",
    "        super().__init__()\n",
    "\n",
    "if __name__==\"__main__\":\n",
    "    app= App()\n",
    "    app.mainloop()"
   ]
  },
  {
   "cell_type": "markdown",
   "id": "202bb4f1-a8f3-4481-98f1-8266d50241e5",
   "metadata": {},
   "source": [
    "- First, define an App class that inherits from the tk.Tk class. Inside the __init__() method, call the __init__() method of the tk.Tk class.\n",
    "- Second, create a new instance of the App class and call the mainloop() method to display the root window."
   ]
  },
  {
   "cell_type": "markdown",
   "id": "fae5f0e0-0ebb-4d94-a99d-61143976a832",
   "metadata": {},
   "source": [
    "**Another example of an object-oriented window in Tkinter**\n",
    "\n",
    "The following class represents a window that consists of a label and a button. When you click the button, the program displays a message box:"
   ]
  },
  {
   "cell_type": "code",
   "execution_count": 4,
   "id": "c77ee0be-4049-452a-9302-1be003e06370",
   "metadata": {},
   "outputs": [],
   "source": [
    "import tkinter as tk\n",
    "from tkinter import ttk\n",
    "from tkinter.messagebox import showinfo\n",
    "\n",
    "\n",
    "class App(tk.Tk):\n",
    "    def __init__(self):\n",
    "        super().__init__()\n",
    "\n",
    "        self.title('OOP example')\n",
    "        self.geometry('300x300')\n",
    "        self.resizable(True, True)\n",
    "\n",
    "        self.label = ttk.Label(self, text='Hello, Tkinter!')\n",
    "        self.label.pack()\n",
    "\n",
    "        # button\n",
    "        self.button = ttk.Button(self, text='Click Me', command=self.button_clicked)\n",
    "        self.button.pack()\n",
    "\n",
    "    def button_clicked(self):\n",
    "        showinfo(title='Information', message='Hello, Tkinter!')\n",
    "\n",
    "\n",
    "if __name__ == \"__main__\":\n",
    "    app = App()\n",
    "    app.mainloop()\n"
   ]
  },
  {
   "cell_type": "code",
   "execution_count": null,
   "id": "80e9074c-56b4-46bf-8aef-c536d500a4be",
   "metadata": {},
   "outputs": [],
   "source": []
  }
 ],
 "metadata": {
  "kernelspec": {
   "display_name": "Python 3 (ipykernel)",
   "language": "python",
   "name": "python3"
  },
  "language_info": {
   "codemirror_mode": {
    "name": "ipython",
    "version": 3
   },
   "file_extension": ".py",
   "mimetype": "text/x-python",
   "name": "python",
   "nbconvert_exporter": "python",
   "pygments_lexer": "ipython3",
   "version": "3.12.2"
  }
 },
 "nbformat": 4,
 "nbformat_minor": 5
}

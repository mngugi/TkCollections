{
 "cells": [
  {
   "cell_type": "code",
   "execution_count": 6,
   "id": "20cc368f-2222-4177-a0d4-9389516c5ef2",
   "metadata": {},
   "outputs": [],
   "source": [
    "import tkinter as tk\n",
    "from tkinter import ttk\n",
    "\n",
    "root = tk.Tk()\n",
    "root.geometry('300x200')\n",
    "root.resizable(False,False)\n",
    "root.title('Tkinter Separator Example')\n",
    "\n",
    "ttk.Label(root, text='Line one').pack()\n",
    "\n",
    "separator = ttk.Separator(root, orient='horizontal')\n",
    "separator.pack(fill='x')\n",
    "\n",
    "ttk.Label(root, text='Line two').pack()\n",
    "\n",
    "frame = ttk.Frame(root)\n",
    "frame.pack(fill='both', expand=True)\n",
    "\n",
    "ttk.Label(frame, text=\"Left Side\", background=\"lightgray\").pack(side=\"left\", expand=True, fill=\"both\")\n",
    "\n",
    "separator = ttk.Separator(frame, orient='vertical')\n",
    "separator.pack(side=\"left\", fill=\"y\", padx=5)\n",
    "\n",
    "ttk.Label(frame, text=\"Right Side\", background=\"lightblue\").pack(side=\"left\", expand=True, fill=\"both\")\n",
    "\n",
    "root.mainloop()"
   ]
  },
  {
   "cell_type": "code",
   "execution_count": null,
   "id": "bcb8555b-8b42-44d7-9e6b-16a1cd02a2e5",
   "metadata": {},
   "outputs": [],
   "source": []
  }
 ],
 "metadata": {
  "kernelspec": {
   "display_name": "Python 3 (ipykernel)",
   "language": "python",
   "name": "python3"
  },
  "language_info": {
   "codemirror_mode": {
    "name": "ipython",
    "version": 3
   },
   "file_extension": ".py",
   "mimetype": "text/x-python",
   "name": "python",
   "nbconvert_exporter": "python",
   "pygments_lexer": "ipython3",
   "version": "3.12.2"
  }
 },
 "nbformat": 4,
 "nbformat_minor": 5
}

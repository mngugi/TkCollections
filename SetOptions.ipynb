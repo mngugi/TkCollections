{
 "cells": [
  {
   "cell_type": "markdown",
   "id": "9bf0927b-149a-45d0-997f-4e42b35a7988",
   "metadata": {},
   "source": [
    "### 3 Ways to Set Options for a Tk Themed Widget\n",
    "Summary: in this tutorial, you’ll learn how to set options for a Tk themed widget using the widget constructor, a dictionary index, and config() method.\n",
    "\n",
    "When working with themed widgets, you often need to set their attributes such as text and image.\n",
    "\n",
    "Tkinter allows you to set the options of a widget using one of the following ways:\n",
    "\n",
    "Use the widget constructor during the widget’s creation.\n",
    "Set a property value using a dictionary index after creating the widget.\n",
    "Call the config() method with keyword arguments.\n",
    "\n",
    "1) Using the widget constructor when creating the widget\n",
    "The following illustrates how to use the widget constructor to set the text option for the Label widget:\n",
    "\n",
    "The following illustrates how to use the widget constructor to set the text option for the Label widget:"
   ]
  },
  {
   "cell_type": "code",
   "execution_count": 5,
   "id": "5cf295a4-0ebc-4fbf-814d-093e04fa9e8f",
   "metadata": {},
   "outputs": [],
   "source": [
    "import tkinter as tk\n",
    "from tkinter import ttk\n",
    "\n",
    "root = tk.Tk()\n",
    "root.geometry('600x400+50+50')\n",
    "tk.Label(root,fg='blue', text='Hi,physical and cyber security').pack()\n",
    "\n",
    "root.mainloop()"
   ]
  },
  {
   "cell_type": "markdown",
   "id": "1d995e5f-69f6-4a4b-92c3-e228fbd724b5",
   "metadata": {},
   "source": [
    "2) Using a dictionary index after widget creation\n",
    "The following program shows the same label but uses a dictionary index to set the text option for the Label widget:"
   ]
  },
  {
   "cell_type": "code",
   "execution_count": 8,
   "id": "319d4f57-e957-4661-a96d-8c4b8e853c68",
   "metadata": {},
   "outputs": [],
   "source": [
    "import tkinter as tk\n",
    "from tkinter import ttk\n",
    "\n",
    "root = tk.Tk()\n",
    "\n",
    "label = ttk.Label(root)\n",
    "label['text']= 'Hi,physical and cyber security'\n",
    "\n",
    "root.geometry('600x400+50+50')\n",
    "label.pack()\n",
    "\n",
    "root.mainloop()"
   ]
  },
  {
   "cell_type": "markdown",
   "id": "c1115abb-28c8-44b8-97a5-0baa3ddd8ada",
   "metadata": {},
   "source": [
    "3) Using the config() method with keyword arguments\n",
    "The following program illustrates how to use the config() method with a keyword argument to set the text option for the label:"
   ]
  },
  {
   "cell_type": "code",
   "execution_count": 10,
   "id": "d8caef2c-90e8-4d64-b611-e2faa88c6a07",
   "metadata": {},
   "outputs": [],
   "source": [
    "import tkinter as tk\n",
    "from tkinter import ttk\n",
    "\n",
    "root = tk.Tk()\n",
    "\n",
    "label = ttk.Label(root)\n",
    "label.config(text= 'Hi,physical and cyber security')\n",
    "\n",
    "root.geometry('600x400+50+50')\n",
    "label.pack()\n",
    "\n",
    "root.mainloop()"
   ]
  },
  {
   "cell_type": "code",
   "execution_count": null,
   "id": "f684de44-59f8-459b-ae61-2bd7cf26875c",
   "metadata": {},
   "outputs": [],
   "source": []
  }
 ],
 "metadata": {
  "kernelspec": {
   "display_name": "Python 3 (ipykernel)",
   "language": "python",
   "name": "python3"
  },
  "language_info": {
   "codemirror_mode": {
    "name": "ipython",
    "version": 3
   },
   "file_extension": ".py",
   "mimetype": "text/x-python",
   "name": "python",
   "nbconvert_exporter": "python",
   "pygments_lexer": "ipython3",
   "version": "3.12.2"
  }
 },
 "nbformat": 4,
 "nbformat_minor": 5
}

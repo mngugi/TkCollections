{
 "cells": [
  {
   "cell_type": "markdown",
   "id": "53884e11-4445-44b0-bcee-2fea69242f07",
   "metadata": {},
   "source": [
    "**Introduction to the Tkinter Sizegrip widget**\n",
    "\n",
    "The Sizegrip widget is typically located in the bottom-right corner of the window. It allows you to resize the entire application window.\n",
    "\n",
    "To create a Sizegrip widget, you use the following syntax:\n",
    "\n",
    "`ttk.Sizegrip(master, **kw)`\n",
    "\n",
    "In this syntax:\n",
    "\n",
    "- master: specify the parent widget where you want to place the Sizegrip. Typically, it is the main window.\n",
    "\n",
    "- **kw: specify the keyword arguments that configure the size grip’s appearance and behavior.\n",
    "To make sure the Sizegrip widget works properly, you need to make the parent widget resizable.\n",
    "\n",
    "If you use the main window e.g., root, you need to call the resizable() method with True values:\n",
    "\n",
    "`root.resizable(True, True)`"
   ]
  }
 ],
 "metadata": {
  "kernelspec": {
   "display_name": "Python 3 (ipykernel)",
   "language": "python",
   "name": "python3"
  },
  "language_info": {
   "codemirror_mode": {
    "name": "ipython",
    "version": 3
   },
   "file_extension": ".py",
   "mimetype": "text/x-python",
   "name": "python",
   "nbconvert_exporter": "python",
   "pygments_lexer": "ipython3",
   "version": "3.12.2"
  }
 },
 "nbformat": 4,
 "nbformat_minor": 5
}

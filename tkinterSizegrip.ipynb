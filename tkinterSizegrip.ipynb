{
 "cells": [
  {
   "cell_type": "markdown",
   "id": "53884e11-4445-44b0-bcee-2fea69242f07",
   "metadata": {},
   "source": [
    "**Introduction to the Tkinter Sizegrip widget**\n",
    "\n",
    "The Sizegrip widget is typically located in the bottom-right corner of the window. It allows you to resize the entire application window:"
   ]
  }
 ],
 "metadata": {
  "kernelspec": {
   "display_name": "Python 3 (ipykernel)",
   "language": "python",
   "name": "python3"
  },
  "language_info": {
   "codemirror_mode": {
    "name": "ipython",
    "version": 3
   },
   "file_extension": ".py",
   "mimetype": "text/x-python",
   "name": "python",
   "nbconvert_exporter": "python",
   "pygments_lexer": "ipython3",
   "version": "3.12.2"
  }
 },
 "nbformat": 4,
 "nbformat_minor": 5
}

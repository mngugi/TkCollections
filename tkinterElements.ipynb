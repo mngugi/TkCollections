{
 "cells": [
  {
   "cell_type": "markdown",
   "id": "467c9e62-ca82-425d-ac71-aa5322023604",
   "metadata": {},
   "source": [
    "**Introduction to ttk elements**\n",
    "\n",
    "So far, you have learned that a theme is a collection of styles that defines the appearance of all ttk widgets.\n",
    "\n",
    "A style is a description of the appearance of a widget class. A style is composed of one or more elements.\n",
    "\n",
    "For example, a Label consists of border, padding and label elements. And these elements are nested within each other like the following picture:"
   ]
  },
  {
   "cell_type": "code",
   "execution_count": null,
   "id": "8c72ff0e-7a69-4b3f-ba0e-3b634ae78b09",
   "metadata": {},
   "outputs": [],
   "source": [
    "import tkinter as tk\n",
    "from PIL import Image, ImageTk\n",
    "\n",
    "\n",
    "class ImageApp(tk.Tk):\n",
    "    def __init__(self):\n",
    "        super().__init__()\n",
    "\n",
    "        self.title(\"Display Image\")\n",
    "        self.geometry(\"600x400\")\n",
    "\n",
    "        # Load the image\n",
    "        image_path = \"tkinterElements.png\"  # Ensure this file is in the same directory\n",
    "        self.img = Image.open(image_path)\n",
    "        self.img = self.img.resize((400, 300), Image.LANCZOS)  # Resize for better fit\n",
    "        self.img_tk = ImageTk.PhotoImage(self.img)\n",
    "\n",
    "        # Display image\n",
    "        self.label = tk.Label(self, image=self.img_tk)\n",
    "        self.label.pack(pady=20)\n",
    "\n",
    "\n",
    "if __name__ == \"__main__\":\n",
    "    app = ImageApp()\n",
    "    app.mainloop()\n"
   ]
  }
 ],
 "metadata": {
  "kernelspec": {
   "display_name": "Python 3 (ipykernel)",
   "language": "python",
   "name": "python3"
  },
  "language_info": {
   "codemirror_mode": {
    "name": "ipython",
    "version": 3
   },
   "file_extension": ".py",
   "mimetype": "text/x-python",
   "name": "python",
   "nbconvert_exporter": "python",
   "pygments_lexer": "ipython3",
   "version": "3.12.2"
  }
 },
 "nbformat": 4,
 "nbformat_minor": 5
}

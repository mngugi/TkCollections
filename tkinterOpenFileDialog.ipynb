{
 "cells": [
  {
   "cell_type": "markdown",
   "id": "572c7b0a-70ba-430a-b33a-dc9abfb7214c",
   "metadata": {},
   "source": [
    "**Introduction to the Tkinter Open File Dialog functions**\n",
    "\n",
    "When developing a Tkinter application that deals with the file system, you need to provide a dialog that allows file selections.\n",
    "\n",
    "To do that, you can use the tkinter.filedialog module. The following steps show how to display an open file dialog:\n",
    "\n",
    "First, import the tkinter.filedialog module:\n",
    "\n",
    "`rom tkinter import filedialog as fd`\n",
    "\n",
    "Second, call the fd.askopenfilename() function to show a dialog that allows a single file selection:\n",
    "\n",
    "`filename = fd.askopenfilename()`\n",
    "\n",
    "The askopenfilename() function returns the file name that you selected.\n",
    "\n",
    "The askopenfilename() also supports other useful options including the initial directory displayed by the dialog or filtering files by their extensions."
   ]
  },
  {
   "cell_type": "code",
   "execution_count": 4,
   "id": "46aa8c11-0a6a-4549-9047-4c19746be93d",
   "metadata": {
    "scrolled": true
   },
   "outputs": [],
   "source": [
    "import tkinter as tk\n",
    "from tkinter import ttk\n",
    "from tkinter import filedialog\n",
    "from tkinter.messagebox import showinfo\n",
    "\n",
    "# Create the root window\n",
    "root = tk.Tk()\n",
    "root.title('Tkinter Open File Dialog')\n",
    "root.resizable(False, False)\n",
    "root.geometry('300x150')\n",
    "\n",
    "def select_file():\n",
    "    filetypes = (\n",
    "        ('Text files', '*.txt'),\n",
    "        ('All files', '*.*')\n",
    "    )\n",
    "\n",
    "    filename = filedialog.askopenfilename(\n",
    "        title='Open a file',\n",
    "        initialdir=\"~\",  # Opens in user's home directory\n",
    "        filetypes=filetypes\n",
    "    )\n",
    "\n",
    "    if filename:  # Only show message if a file is selected\n",
    "        showinfo(title='Selected File', message=f'Selected: {filename}')\n",
    "    else:\n",
    "        showinfo(title='No File Selected', message='No file was selected.')\n",
    "\n",
    "# Open button with padding\n",
    "open_button = ttk.Button(\n",
    "    root,\n",
    "    text='Open a File',\n",
    "    command=select_file\n",
    ")\n",
    "open_button.pack(expand=True, fill='both', padx=20, pady=20)\n",
    "\n",
    "# Run the application\n",
    "root.mainloop()\n"
   ]
  },
  {
   "cell_type": "markdown",
   "id": "17df2f49-1f92-4e4d-8715-1eb98f0bc8cc",
   "metadata": {},
   "source": [
    "**Selecting multiple files**\n",
    "\n",
    "The askopenfilenames() function displays a file dialog for multiple file selections. It returns the selected file names as a tuple. For example:"
   ]
  },
  {
   "cell_type": "code",
   "execution_count": null,
   "id": "e8adfa8e-0f7a-435a-b1a6-082fee9451ab",
   "metadata": {},
   "outputs": [],
   "source": [
    "import tkinter as tk\n",
    "from tkinter import ttk\n",
    "from tkinter import filedialog\n",
    "from tkinter.messagebox import showinfo\n",
    "\n",
    "# Create the root window\n",
    "root = tk.Tk()\n",
    "root.title('Tkinter Open File Dialog')\n",
    "root.resizable(False, False)\n",
    "root.geometry('300x150')\n",
    "\n",
    "def select_file():\n",
    "    filetypes = (\n",
    "        ('Text files', '*.txt'),\n",
    "        ('All files', '*.*')\n",
    "    )\n",
    "\n",
    "    filename = filedialog.askopenfilenames(\n",
    "        title='Open a file',\n",
    "        initialdir=\"~\",  # Opens in user's home directory\n",
    "        filetypes=filetypes\n",
    "    )\n",
    "\n",
    "    if filename:  # Only show message if a file is selected\n",
    "        showinfo(title='Selected File', message=f'Selected: {filename}')\n",
    "    else:\n",
    "        showinfo(title='No File Selected', message='No file was selected.')\n",
    "\n",
    "# Open button with padding\n",
    "open_button = ttk.Button(\n",
    "    root,\n",
    "    text='Open a File',\n",
    "    command=select_file\n",
    ")\n",
    "open_button.pack(expand=True, fill='both', padx=20, pady=20)\n",
    "\n",
    "# Run the application\n",
    "root.mainloop()\n"
   ]
  }
 ],
 "metadata": {
  "kernelspec": {
   "display_name": "Python 3 (ipykernel)",
   "language": "python",
   "name": "python3"
  },
  "language_info": {
   "codemirror_mode": {
    "name": "ipython",
    "version": 3
   },
   "file_extension": ".py",
   "mimetype": "text/x-python",
   "name": "python",
   "nbconvert_exporter": "python",
   "pygments_lexer": "ipython3",
   "version": "3.12.2"
  }
 },
 "nbformat": 4,
 "nbformat_minor": 5
}

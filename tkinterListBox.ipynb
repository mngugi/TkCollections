{
 "cells": [
  {
   "cell_type": "markdown",
   "id": "3e7ee1f0-dc87-4199-bb47-4d1a6c9cde78",
   "metadata": {},
   "source": [
    "**Introduction to the Tkinter Listbox**\n",
    "\n",
    "A Listbox widget displays a list of single-line text items. A Listbox allows you to browse through the items and select one or multiple items at once.\n",
    "\n",
    "To create a Listbox, you use the tk.Listbox class like this:\n",
    "\n",
    "`listbox = tk.Listbox(container, listvariable, height)`\n",
    "\n",
    "In this syntax:\n",
    "\n",
    "- The container is the parent component of the Listbox.\n",
    "- The listvariable links to a tkinter.Variable object. More explanation on this later.\n",
    "- The height is the number of items that the Listbox will display without scrolling."
   ]
  }
 ],
 "metadata": {
  "kernelspec": {
   "display_name": "Python 3 (ipykernel)",
   "language": "python",
   "name": "python3"
  },
  "language_info": {
   "codemirror_mode": {
    "name": "ipython",
    "version": 3
   },
   "file_extension": ".py",
   "mimetype": "text/x-python",
   "name": "python",
   "nbconvert_exporter": "python",
   "pygments_lexer": "ipython3",
   "version": "3.12.2"
  }
 },
 "nbformat": 4,
 "nbformat_minor": 5
}

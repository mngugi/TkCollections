{
 "cells": [
  {
   "cell_type": "markdown",
   "id": "e4c3fd6c-9b71-4f7b-920e-ead0060a7d16",
   "metadata": {},
   "source": [
    "### Introduction to Tk themed widgets\n",
    "Tkinter has two generations of widgets:\n",
    "\n",
    "- The old classic tk widgets. Tkinter introduced them in 1991.\n",
    "- The newer themed ttk widgets added in 2007 with Tk 8.5. The newer Tk themed widgets replace many (but not all) classic widgets.\n",
    "\n",
    "Note that ttk stands for Tk themed. Therefore, Tk themed widgets are the same as ttk widgets\n",
    "\n",
    "The tkinter.ttk module contains all the new ttk widgets. It’s a good practice to always use themed widgets whenever they’re available.\n",
    "\n",
    "The following statements import the classic and the new Tk themed widgets:\n",
    "\n",
    "```\n",
    "import tkinter as tk\n",
    "from tkinter import ttk\n",
    "```"
   ]
  },
  {
   "cell_type": "code",
   "execution_count": 2,
   "id": "f771a04b-1e64-4fa8-bb5f-8e3650060fca",
   "metadata": {},
   "outputs": [],
   "source": [
    "import tkinter as tk\n",
    "from tkinter import ttk\n",
    "\n",
    "root = tk.Tk()\n",
    "root.title('Classic and Themed Labels')\n",
    "root.geometry('600x400+50+50')\n",
    "\n",
    "tk.Label(root, text='Classic Label').pack()\n",
    "ttk.Label(root, text='Themed Label').pack()\n",
    "\n",
    "root.mainloop()"
   ]
  },
  {
   "cell_type": "code",
   "execution_count": null,
   "id": "43443d54-e9f2-48d2-ba68-6ac98551b30a",
   "metadata": {},
   "outputs": [],
   "source": []
  }
 ],
 "metadata": {
  "kernelspec": {
   "display_name": "Python 3 (ipykernel)",
   "language": "python",
   "name": "python3"
  },
  "language_info": {
   "codemirror_mode": {
    "name": "ipython",
    "version": 3
   },
   "file_extension": ".py",
   "mimetype": "text/x-python",
   "name": "python",
   "nbconvert_exporter": "python",
   "pygments_lexer": "ipython3",
   "version": "3.12.2"
  }
 },
 "nbformat": 4,
 "nbformat_minor": 5
}

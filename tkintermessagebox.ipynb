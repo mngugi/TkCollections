{
 "cells": [
  {
   "cell_type": "markdown",
   "id": "83db00c4-0ab5-40ea-96a2-1bffff82ee32",
   "metadata": {},
   "source": [
    "**Tkinter messagebox**\n",
    "\n",
    "Summary: in this tutorial, you’ll learn how to show various message boxes using the tkinter.messagebox module.\n",
    "\n",
    "**Introduction to tkinter.messagebox module**\n",
    "\n",
    "When developing a Tkinter application, you often want to notify users about the events that occurred.\n",
    "\n",
    "For example, when users click the save button, you want to notify them that the record has been saved successfully.\n",
    "\n",
    "If an error occurred, for example, the database server is not reachable, you can notify users of the error.\n",
    "\n",
    "When the update has been completed but the record already exists, you may want to show a warning.\n",
    "\n",
    "To cover all of these scenarios, you can use various functions from the tkinter.messagebox module:\n",
    "\n",
    "- showinfo() – notify that an operation completed successfully.\n",
    "- showerror() – notify that an operation hasn’t completed due to an error.\n",
    "- showwarrning() – notify that an operation completed but something didn’t behave as expected.\n",
    "  \n",
    "All of these functions accept two arguments:\n",
    "```\n",
    "showinfo(title, message)\n",
    "showerror(title, message)\n",
    "showwarrning(title, message)\n",
    "```\n",
    "- The title is displayed on the title bar of the dialog.\n",
    "- The message is shown on the dialog.\n",
    "To span the message multiple lines, you can add the new line character '\\n'.\n",
    "\n",
    "**Tkinter messagebox examples**\n",
    "\n",
    "The following program consists of three buttons. When you click a button, the corresponding message box will display."
   ]
  },
  {
   "cell_type": "code",
   "execution_count": null,
   "id": "6d4de20e-dab5-4e9d-83e6-b385a75c2755",
   "metadata": {},
   "outputs": [],
   "source": [
    "import tkinter as tk\n",
    "from tkinter import ttk\n",
    "from tkinter.messagebox import showerror, showwarning, showinfo\n",
    "\n",
    "\n"
   ]
  }
 ],
 "metadata": {
  "kernelspec": {
   "display_name": "Python 3 (ipykernel)",
   "language": "python",
   "name": "python3"
  },
  "language_info": {
   "codemirror_mode": {
    "name": "ipython",
    "version": 3
   },
   "file_extension": ".py",
   "mimetype": "text/x-python",
   "name": "python",
   "nbconvert_exporter": "python",
   "pygments_lexer": "ipython3",
   "version": "3.12.2"
  }
 },
 "nbformat": 4,
 "nbformat_minor": 5
}

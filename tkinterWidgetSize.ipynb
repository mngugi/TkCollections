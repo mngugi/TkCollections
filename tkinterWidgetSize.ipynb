{
 "cells": [
  {
   "cell_type": "markdown",
   "id": "6c5e4a12-c14c-428c-9f06-7ba0bd35e437",
   "metadata": {},
   "source": [
    "**Understanding the Tkinter widget size**\n",
    "\n",
    "In Tkinter, when you set the width and height for a widget e.g., a Label, the size is measured by characters and lines, not the pixels.\n",
    "\n",
    "The width of the label is 8 characters. However, if you increase the font size, the width of the label widget in pixels will also increase accordingly.\n",
    "\n",
    "For example, the following program sets the width of the Label widget to 8 but increases the font size to 24px. As a result, the width of the widget also increases:\n"
   ]
  },
  {
   "cell_type": "code",
   "execution_count": 1,
   "id": "da9e703d-659e-48d8-9f51-e1a643d41b05",
   "metadata": {},
   "outputs": [],
   "source": [
    "import tkinter as tk\n",
    "\n",
    "root= tk.Tk()\n",
    "root.title('Tkinter Place Geometry Manager')\n",
    "root.geometry(\"600x400\")\n",
    "\n",
    "label1 = tk.Label(master=root, text=\"Place\", bg='purple', fg='yellow', width=8, \n",
    "                 font=('Helvetica', 24))\n",
    "label1.pack()\n",
    "\n",
    "root.mainloop()"
   ]
  },
  {
   "cell_type": "markdown",
   "id": "baadbfee-7ef5-4306-b640-b38174163766",
   "metadata": {},
   "source": [
    "Filling text color."
   ]
  },
  {
   "cell_type": "code",
   "execution_count": null,
   "id": "a1daa39a-21f3-43e8-b7e5-3fbcd9423cb4",
   "metadata": {},
   "outputs": [],
   "source": [
    "import tkinter as tk\n",
    "\n",
    "root= tk.Tk()\n",
    "root.title('Tkinter Place Geometry Manager')\n",
    "root.geometry(\"600x400\")\n",
    "\n",
    "label1 = tk.Label(master=root, text=\"Place\", bg='purple', fg='yellow', width=8, \n",
    "                 font=('Helvetica', 24))\n",
    "label1.pack(fill=tk.X)\n",
    "\n",
    "root.mainloop()"
   ]
  }
 ],
 "metadata": {
  "kernelspec": {
   "display_name": "Python 3 (ipykernel)",
   "language": "python",
   "name": "python3"
  },
  "language_info": {
   "codemirror_mode": {
    "name": "ipython",
    "version": 3
   },
   "file_extension": ".py",
   "mimetype": "text/x-python",
   "name": "python",
   "nbconvert_exporter": "python",
   "pygments_lexer": "ipython3",
   "version": "3.12.2"
  }
 },
 "nbformat": 4,
 "nbformat_minor": 5
}

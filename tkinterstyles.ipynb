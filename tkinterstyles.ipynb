{
 "cells": [
  {
   "cell_type": "markdown",
   "id": "40472e8f-1752-4bce-9e12-68c436de6379",
   "metadata": {},
   "source": [
    "**Introduction to the ttk styles**\n",
    "\n",
    "A theme of a collection of styles that determine the appearances of ttk widgets.\n",
    "\n",
    "A style is a description of the appearance of a widget class. Typically, a theme comes with a predefined set of styles.\n",
    "\n",
    "Therefore, to change the appearance of ttk widgets, you can:\n",
    "\n",
    "Modify the built-in styles\n",
    "Create new styles\n",
    "Generally, the style name of a ttk widget starts with the letter 'T' followed by the widget name, for example, TLabel and TButton.\n",
    "\n",
    "In Tkinter, every widget has a default widget class. A widget class defines the default style for a widget.\n",
    "\n",
    "The following table shows the style names of the common ttk widget classes:\n",
    "# 🎨 Tkinter Themed Widget Style Names\n",
    "\n",
    "| **Widget Class**   | **Style Name**                    |\n",
    "|--------------------|----------------------------------|\n",
    "| `Button`          | `TButton`                        |\n",
    "| `Checkbutton`     | `TCheckbutton`                   |\n",
    "| `Combobox`        | `TCombobox`                      |\n",
    "| `Entry`           | `TEntry`                         |\n",
    "| `Frame`           | `TFrame`                         |\n",
    "| `Label`          | `TLabel`                         |\n",
    "| `LabelFrame`      | `TLabelFrame`                    |\n",
    "| `Menubutton`      | `TMenubutton`                    |\n",
    "| `Notebook`        | `TNotebook`                      |\n",
    "| `PanedWindow`     | `TPanedwindow`                   |\n",
    "| `Progressbar*`    | `Horizontal.TProgressbar` or `Vertical.TProgressbar` |\n",
    "| `Radiobutton`     | `TRadiobutton`                   |\n",
    "| `Scale*`         | `Horizontal.TScale` or `Vertical.TScale` |\n",
    "| `Scrollbar*`      | `Horizontal.TScrollbar` or `Vertical.TScrollbar` |\n",
    "| `Separator`       | `TSeparator`                     |\n",
    "| `Sizegrip`        | `TSizegrip`                      |\n",
    "| `Treeview*`       | `Treeview`                       |\n",
    "\n",
    "**Notes:**  \n",
    "- Widgets marked with `*` have different styles based on orientation (`Horizontal` or `Vertical`).\n",
    "- These styles are used in `ttk.Style()` for customization.\n",
    "\n",
    "---\n",
    "\n",
    "🔹 Example usage in Python:\n",
    "```python\n",
    "\n"
   ]
  },
  {
   "cell_type": "code",
   "execution_count": 1,
   "id": "78ea010a-a496-47df-ac9d-7e0e5ef53aa8",
   "metadata": {},
   "outputs": [],
   "source": [
    "import tkinter as tk\n",
    "from tkinter import ttk\n",
    "\n",
    "root = tk.Tk()\n",
    "root.title(\"Styled Widgets Demo\")\n",
    "\n",
    "# Create a styled button\n",
    "style = ttk.Style()\n",
    "style.configure(\"TButton\", font=(\"Arial\", 12), padding=5)\n",
    "\n",
    "btn = ttk.Button(root, text=\"Styled Button\")\n",
    "btn.pack(pady=10)\n",
    "\n",
    "root.mainloop()"
   ]
  },
  {
   "cell_type": "code",
   "execution_count": null,
   "id": "50c8f5ca-3232-480e-8d4d-a794032292a1",
   "metadata": {},
   "outputs": [],
   "source": []
  }
 ],
 "metadata": {
  "kernelspec": {
   "display_name": "Python 3 (ipykernel)",
   "language": "python",
   "name": "python3"
  },
  "language_info": {
   "codemirror_mode": {
    "name": "ipython",
    "version": 3
   },
   "file_extension": ".py",
   "mimetype": "text/x-python",
   "name": "python",
   "nbconvert_exporter": "python",
   "pygments_lexer": "ipython3",
   "version": "3.12.2"
  }
 },
 "nbformat": 4,
 "nbformat_minor": 5
}

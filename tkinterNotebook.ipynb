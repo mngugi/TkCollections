{
 "cells": [
  {
   "cell_type": "markdown",
   "id": "03166adf-c285-43f4-bf19-5b666d2db667",
   "metadata": {},
   "source": [
    "**Introduction to the Tkinter Notebook widget**\n",
    "\n",
    "The Notebook widget allows you to select pages of contents by clicking on tabs:"
   ]
  },
  {
   "cell_type": "code",
   "execution_count": null,
   "id": "89f18781-6cba-4160-b0bf-9c18c6e665bd",
   "metadata": {},
   "outputs": [],
   "source": []
  }
 ],
 "metadata": {
  "kernelspec": {
   "display_name": "Python 3 (ipykernel)",
   "language": "python",
   "name": "python3"
  },
  "language_info": {
   "codemirror_mode": {
    "name": "ipython",
    "version": 3
   },
   "file_extension": ".py",
   "mimetype": "text/x-python",
   "name": "python",
   "nbconvert_exporter": "python",
   "pygments_lexer": "ipython3",
   "version": "3.12.2"
  }
 },
 "nbformat": 4,
 "nbformat_minor": 5
}

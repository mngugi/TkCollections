{
 "cells": [
  {
   "cell_type": "markdown",
   "id": "30bfce33-166a-4a3a-8022-d6ba31de1f93",
   "metadata": {},
   "source": [
    "**Display a bar chart from matplotlib in Tkinter applications**\n",
    "\n",
    "Matplotlib is a third-party library for creating professional visualizations in Python. Since Matplotlib is a third-party library, you need to install it before use.\n",
    "\n",
    "The following program uses the matplotlib to create a bar chart that shows the top five programming languages by popularity."
   ]
  }
 ],
 "metadata": {
  "kernelspec": {
   "display_name": "Python 3 (ipykernel)",
   "language": "python",
   "name": "python3"
  },
  "language_info": {
   "codemirror_mode": {
    "name": "ipython",
    "version": 3
   },
   "file_extension": ".py",
   "mimetype": "text/x-python",
   "name": "python",
   "nbconvert_exporter": "python",
   "pygments_lexer": "ipython3",
   "version": "3.12.2"
  }
 },
 "nbformat": 4,
 "nbformat_minor": 5
}

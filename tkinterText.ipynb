{
 "cells": [
  {
   "cell_type": "markdown",
   "id": "bbd0266d-b9cd-4614-b73c-ec95a29f6834",
   "metadata": {},
   "source": [
    "**Introduction to the Tkinter Text widget**\n",
    "\n",
    "The Text widget allows you to display and edit multi-line textarea with various styles. Besides the plain text, the Text widget supports embedded images and links.\n",
    "\n",
    "To create a text widget, you use the following syntax:\n",
    "\n",
    "`text = tk.Text(master, conf={}, **kw)`\n",
    "\n",
    "In this syntax:\n",
    "\n",
    "- The master is the parent component of the Text widget.\n",
    "- The cnf is a dictionary that specifies the widget’s configuration.\n",
    "- The kw is one or more keyword arguments used to configure the Text widget.\n",
    "\n",
    "Note that the Text widget is only available in the Tkinter module, not the `Tkinter.ttk` module.\n",
    "\n",
    "The following example creates a Text widget with eight rows and places it on the root window:"
   ]
  },
  {
   "cell_type": "code",
   "execution_count": 1,
   "id": "f544b916-b0fe-4027-92e8-0ef990207a1b",
   "metadata": {},
   "outputs": [],
   "source": [
    "from tkinter import Tk, Text\n",
    "\n",
    "root = Tk()\n",
    "\n",
    "root.resizable(False,False)\n",
    "root.title(\"Text Widget Example\")\n",
    "\n",
    "text = Text(root, height=8)\n",
    "text.pack()\n",
    "\n",
    "root.mainloop()\n"
   ]
  },
  {
   "cell_type": "code",
   "execution_count": null,
   "id": "24513158-1cd0-404f-8b76-f360b198173f",
   "metadata": {},
   "outputs": [],
   "source": []
  }
 ],
 "metadata": {
  "kernelspec": {
   "display_name": "Python 3 (ipykernel)",
   "language": "python",
   "name": "python3"
  },
  "language_info": {
   "codemirror_mode": {
    "name": "ipython",
    "version": 3
   },
   "file_extension": ".py",
   "mimetype": "text/x-python",
   "name": "python",
   "nbconvert_exporter": "python",
   "pygments_lexer": "ipython3",
   "version": "3.12.2"
  }
 },
 "nbformat": 4,
 "nbformat_minor": 5
}

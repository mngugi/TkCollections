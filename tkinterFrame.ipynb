{
 "cells": [
  {
   "cell_type": "markdown",
   "id": "2575a7d5-c1bd-4977-b54a-673350e6416b",
   "metadata": {},
   "source": [
    "**Introduction to Tkinter Frame widget**\n",
    "\n",
    "A frame is a widget that displays as a simple rectangle. Typically, you use a frame to organize other widgets both visually and at the coding level.\n",
    "\n",
    "To create a frame, you use the ttk.Frame class:\n",
    "`frame = ttk.Frame(master, **options)`\n",
    "\n",
    "A frame has various configuration objects which determine its appearance.\n",
    "\n",
    "| Parameter   | Description |\n",
    "|------------|-------------|\n",
    "| **borderwidth** | Specify the border width of the frame. It defaults to zero. |\n",
    "| **class_** | Set widget class name. |\n",
    "| **cursor** | Change the cursor appearance when the mouse cursor is over the frame. |\n",
    "| **height** | Set the height of the frame. |\n",
    "| **padding** | Create padding inside the frame and outside of the contained widgets. |\n",
    "| **relief** | Specify the relief style for the border. To make it effective, you also need to set the `borderwidth`. |\n",
    "| **style** | Specify a custom widget style name. |\n",
    "| **takefocus** | A boolean value that specifies whether the frame is visited during focus traversal. By default, it is `False`, so the frame widget does not accept focus. |\n",
    "| **width** | Set the width of the frame. |\n"
   ]
  },
  {
   "cell_type": "markdown",
   "id": "a338497c-e56f-4f1b-9cf7-d991b8365668",
   "metadata": {},
   "source": [
    "**Frame size**\n",
    "\n",
    "The size of a frame is determined by the size and layout of the widgets it contains. Also, you can explicitly specify the height and width of the frame when creating it:\n",
    "\n",
    "`frame = ttk.Frame(master, height, width)`"
   ]
  },
  {
   "cell_type": "markdown",
   "id": "095c50fa-65ec-4983-a4cc-d2009dd32387",
   "metadata": {},
   "source": [
    "**Padding**\n",
    "\n",
    "The padding allows you to add extra space inside the frame and outside of the contained widgets. Paddings are in pixels.\n",
    "\n",
    "To specify padding for each side of the frame separately, you use the following:\n",
    "\n",
    "`frame['padding'] = (left, top, right, bottom)`\n",
    "\n",
    "For example:\n",
    "\n",
    "`frame['padding'] = (5,10,5,10)`\n",
    "\n",
    "Or you can specify paddings for the left, right and top, bottom as follows:\n",
    "\n",
    "`frame['padding'] = (5, 10)`\n",
    "\n",
    "In this example, the left and right paddings are 5 and the top and bottom paddings are 10. If the paddings of all sides are the same, you can specify the padding like this:\n",
    "\n",
    "`frame['padding'] = 5`"
   ]
  }
 ],
 "metadata": {
  "kernelspec": {
   "display_name": "Python 3 (ipykernel)",
   "language": "python",
   "name": "python3"
  },
  "language_info": {
   "codemirror_mode": {
    "name": "ipython",
    "version": 3
   },
   "file_extension": ".py",
   "mimetype": "text/x-python",
   "name": "python",
   "nbconvert_exporter": "python",
   "pygments_lexer": "ipython3",
   "version": "3.12.2"
  }
 },
 "nbformat": 4,
 "nbformat_minor": 5
}

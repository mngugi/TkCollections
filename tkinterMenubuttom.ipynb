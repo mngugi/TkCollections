{
 "cells": [
  {
   "cell_type": "markdown",
   "id": "a95aa229-e259-470f-a114-31f5172e2341",
   "metadata": {},
   "source": [
    "**Introduction to the Menubutton widget**\n",
    "\n",
    "A Menubutton widget is a combination of a Button and a Menu widget.\n",
    "\n",
    "When you click the Menubutton, it shows a menu with choices. For example:\n",
    "\n"
   ]
  }
 ],
 "metadata": {
  "kernelspec": {
   "display_name": "Python 3 (ipykernel)",
   "language": "python",
   "name": "python3"
  },
  "language_info": {
   "codemirror_mode": {
    "name": "ipython",
    "version": 3
   },
   "file_extension": ".py",
   "mimetype": "text/x-python",
   "name": "python",
   "nbconvert_exporter": "python",
   "pygments_lexer": "ipython3",
   "version": "3.12.2"
  }
 },
 "nbformat": 4,
 "nbformat_minor": 5
}
